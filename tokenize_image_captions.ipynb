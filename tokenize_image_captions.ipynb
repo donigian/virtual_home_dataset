{
  "nbformat": 4,
  "nbformat_minor": 0,
  "metadata": {
    "colab": {
      "provenance": []
    },
    "kernelspec": {
      "name": "python3",
      "display_name": "Python 3"
    },
    "language_info": {
      "name": "python"
    }
  },
  "cells": [
    {
      "cell_type": "markdown",
      "source": [
        "### Set env variable value from Google Colab secret\n"
      ],
      "metadata": {
        "id": "kSOtM-tkXbxU"
      }
    },
    {
      "cell_type": "code",
      "source": [
        "import os\n",
        "from google.colab import userdata\n",
        "GCP_PROJECT_ID = userdata.get('GCP_PROJECT_ID')\n",
        "\n",
        "os.environ[\"GCP_PROJECT_ID\"] = GCP_PROJECT_ID"
      ],
      "metadata": {
        "id": "4s8Ctf7YUQyj"
      },
      "execution_count": 1,
      "outputs": []
    },
    {
      "cell_type": "markdown",
      "source": [
        "### Login to GCP project"
      ],
      "metadata": {
        "id": "dmWx_cV0XdMW"
      }
    },
    {
      "cell_type": "code",
      "execution_count": null,
      "metadata": {
        "id": "zBpt2ksbswa6"
      },
      "outputs": [],
      "source": [
        "!gcloud auth login --no-launch-browser\n",
        "!gcloud config set project $GCP_PROJECT_ID"
      ]
    },
    {
      "cell_type": "markdown",
      "source": [
        "### Download necessary input files from GCP bucket"
      ],
      "metadata": {
        "id": "hgC1nqO0XkRq"
      }
    },
    {
      "cell_type": "code",
      "source": [
        "%%capture\n",
        "\n",
        "!gsutil cp gs://virtual-home-studio/vhome_medium_ds/v0_t1680_images.tar.gz .\n",
        "!gsutil cp gs://virtual-home-studio/vhome_medium_ds/requirements.txt .\n",
        "!gsutil cp gs://virtual-home-studio/vhome_medium_ds/v0_t1680_image_2_captions.json .\n",
        "!tar -xzvf v0_t1680_images.tar.gz\n",
        "!nvidia-smi"
      ],
      "metadata": {
        "id": "UA8FZcO5tCH9"
      },
      "execution_count": 3,
      "outputs": []
    },
    {
      "cell_type": "markdown",
      "source": [
        "### Concatentate captions into single file"
      ],
      "metadata": {
        "id": "XWLLuVFGXSIH"
      }
    },
    {
      "cell_type": "code",
      "source": [
        "import numpy as np\n",
        "import json\n",
        "\n",
        "def write_concatenated_captions_to_file(captions_dict, output_file):\n",
        "  \"\"\"\n",
        "  Writes all captions in a dictionary to a single text file.\n",
        "\n",
        "  Args:\n",
        "    captions_dict: A dictionary where keys are image filenames and values are CLIP generated image captions.\n",
        "    output_file: The path to the output text file.\n",
        "  \"\"\"\n",
        "\n",
        "  with open(output_file, 'w') as f:\n",
        "    for filename, caption in captions_dict.items():\n",
        "      # print(caption[0])\n",
        "      f.write(caption[0] + '. ')\n",
        "\n",
        "def read_captions_from_file(input_file):\n",
        "  \"\"\"\n",
        "  Read all captions in a dictionary to a single text file.\n",
        "\n",
        "  Args:\n",
        "    input_file: The path to the input text file.\n",
        "  \"\"\"\n",
        "\n",
        "  with open(input_file) as f:\n",
        "      v0_t1680_image_2_captions = json.load(f)\n",
        "  return v0_t1680_image_2_captions\n",
        "\n",
        "\n",
        "v0_t1680_image_2_captions = read_captions_from_file('v0_t1680_image_2_captions.json')\n",
        "write_concatenated_captions_to_file(v0_t1680_image_2_captions, 'captions.txt')\n"
      ],
      "metadata": {
        "id": "4F3Oex3Et333"
      },
      "execution_count": 4,
      "outputs": []
    },
    {
      "cell_type": "markdown",
      "source": [
        "### Preview captions generated from VirtualHome images."
      ],
      "metadata": {
        "id": "F2hZR5MkVnsS"
      }
    },
    {
      "cell_type": "code",
      "source": [
        "!head captions.txt"
      ],
      "metadata": {
        "colab": {
          "base_uri": "https://localhost:8080/"
        },
        "collapsed": true,
        "id": "tBQFLDazuW1E",
        "outputId": "3f829fd1-aab7-4706-d996-4be06ee28279"
      },
      "execution_count": 5,
      "outputs": [
        {
          "output_type": "stream",
          "name": "stdout",
          "text": [
            "a red refrigerator freezer sitting next to a sink. a woman standing next to a table with a pie on it. a bathroom with a sink and a toilet. a man is standing in a room with furniture. a room with a bed, desk and television. a living room with a couch a table and a shelf. a red refrigerator freezer sitting next to a microwave oven. a computer desk with a monitor, keyboard and mouse. a woman standing in a room next to a book shelf. a woman standing in a kitchen with a red rug on the floor. a room with a computer desk and a chair. a woman standing in a room next to a wall with pictures on it. a room with a book shelf and a chair. a woman standing in a room next to a book shelf. a table with a bowl of fruit on top of it. a room with a book shelf and a chair. a woman standing in front of a book shelf. a woman standing in a kitchen next to a stove top oven. a living room with a couch and a table. a person standing in a room with red and white furniture. a person standing in a room with a bed. a bowl of fruit on a table in a living room. a bathroom with black walls and a white sink. a living room with a couch and a table. a computer monitor sitting on top of a wooden shelf. a red refrigerator freezer sitting next to a sink. a person standing in a room with a bed and closet. a man standing in a room next to a desk. a living room filled with furniture and a flat screen tv. a room with a bed and a desk in it. a woman standing in a room talking on a cell phone. a living room with a white couch and a painting on the wall. a living room with a white couch and a black table. a woman is standing in a room with shelves. a bathroom with a toilet and a sink. a bathroom with a toilet, sink, and mirror. a living room with a white couch and a black coffee table. a person in a room with a book shelf. a man is standing in a room with furniture. a woman standing in front of a book shelf. a bathroom with a white sink and tiled walls. a black and white photo of a desk with a computer. a bathroom with a toilet and a sink. a black and white living room with a couch and coffee table. a room with a book shelf and a television. a room with a bed and a table with a flower in it. a woman standing in a living room next to a red table. a room with a book shelf and a toilet. a bathroom with a sink and a painting on the wall. a woman in a green shirt standing in a room. an aerial view of a living room and dining room. a painting of a woman's face and eyes. a woman in a bathroom with a bathtub and toilet. a woman standing in a bathroom next to a sink. a woman standing in a kitchen next to a counter. a room with a book shelf and a chair. a person in an orange vest is standing in a room. a woman standing in a kitchen next to a red refrigerator. a man standing in front of a white curtain. a room with a desk and a chair in it. a room with a desk and pictures on the wall. a bathroom with a red toilet and a white wall. a woman standing in a room next to a table. a computer room with a desk and a chair. a room with a red refrigerator and pictures on the wall. a man standing in a living room next to a couch. a living room with a white couch and a black coffee table. a room with a book shelf and a chair. a living room filled with furniture and a painting on the wall. a man standing in a living room next to a table. a room with a desk and pictures on the wall. a bathroom with a sink, mirror, and bathtub. a bedroom with a bed and a night stand. a woman standing in a bathroom next to a bathtub. a bathroom with a sink, toilet and a mirror. a woman in a green top standing in a room. a woman standing in a kitchen next to a table. a kitchen with a stove top oven sitting next to a counter. a living room with a red couch and a tv. a man standing in front of a book shelf. a black and white photo of a desk with a computer. a room with a table, chairs and a red refrigerator. a woman standing in front of a book shelf. a woman standing in a kitchen next to a table. a woman standing in a kitchen next to a table. a person standing in a living room with a computer. a sink with a bowl of tomatoes on top of it. a woman standing in a kitchen next to a table. a bowl of fruit on a table in a living room. a room with a book shelf and a cabinet. a woman standing in a kitchen next to a table. a computer monitor sitting on top of a desk. a woman in a green top standing in a room. a room with a chair, desk, and computer monitor. a room with a chair and a book shelf. a room with a chair and a book shelf. a person standing in a room with pictures on the wall. a computer monitor sitting on top of a red desk. a black and white photo of a desk with a computer. a computer monitor sitting on top of a white couch. a man standing in a living room next to a couch. a room with a book shelf and a cabinet. a computer desk with a monitor, keyboard and mouse. a computer desk and chair in a room. a man in a blue suit standing in a room. a bowl of fruit sitting on top of a table. a computer desk with a chair and pictures on the wall. a living room with a couch and a table. a computer desk with a laptop on top of it. a woman standing in a kitchen next to a table. a black and white photo of a desk with a computer. a woman standing in a bathroom next to a bath tub. a shadow of a person standing behind a curtain. a living room with a red rug and white walls. a red refrigerator freezer sitting next to a sink. a computer desk with a chair and a computer monitor. a living room with a television and a red rug. a woman standing in a room with shelves and a table. a room with a table, chairs and a television. a woman standing in a room with a red rug. a room with a table and a laptop on it. a person standing in front of a bathroom door. a woman standing in a kitchen next to a table. a person standing in a room with a door open. a hallway with a picture of a woman on the wall. a kitchen with a red refrigerator and white counter tops. a woman in an orange shirt standing in a room. a woman standing in a kitchen next to a counter. a living room with a couch a table and a shelf. a man standing in a bathroom next to a toilet. a stove top oven sitting next to a wall with pictures on it. a living room filled with furniture and a yellow cabinet. a person standing in a bathroom next to a sink. a living room filled with furniture and pictures on the wall. a computer generated image of a room with a bed and a desk. a room that has a bunch of shelves in it. a room with a book shelf and a chair. a bathroom with a sink, toilet and a painting on the wall. a kitchen with a stove top oven sitting next to a counter. a woman standing next to a table with plates of food on it. a man standing in a living room next to a couch. a person standing in a room with a red table. a woman in an orange shirt is standing in a room. a woman standing in a room next to a wooden cabinet. a living room with a white couch and a table with a bowl of fruit on it. a man standing in a living room next to a table. a woman standing in front of a red refrigerator. a room with a washing machine in it. a man standing in a room with a bed and a desk. a woman standing in a kitchen next to a table. a bathroom with a toilet and a shower stall. a man standing in front of a mirror in a room. a woman standing in a room with a table and chairs. a person standing in a room with a red backpack. a woman standing in a bathroom next to a sink. a living room with a white couch and a black coffee table. a room with a book shelf and a cabinet. a room with a chair and a painting on the wall. a person standing in a room with a bowl of fruit. a room with a yellow cabinet and a black chair. a kitchen with a red refrigerator and pictures on the wall. a computer monitor sitting on top of a desk. a woman standing in a kitchen next to a counter. a table with a red table runner in a room with pictures on the wall. a bowl of tomatoes sitting on top of a sink. a woman in a hat standing in a room. a room with a mirror and a television in it. a living room with a white couch and a painting on the wall. a room with a table, chairs, and pictures on the wall. a kitchen with a red refrigerator and white counter tops. a living room filled with furniture and a book shelf. a living room with a white couch and a painting on the wall. a person standing in a room with a red refrigerator. an aerial view of a living room and bedroom. a person standing in a room with a clock on the wall. a red refrigerator freezer sitting in a kitchen. a woman standing in front of a wall with pictures on it. a woman standing in a doorway of a house. an overhead view of a living room and dining room. a person standing in front of a flat screen tv. a woman standing in front of a table with food on it. a woman standing in front of a book shelf. a man standing in a bathroom next to a washing machine. a room with a book shelf and a chair. a bowl of fruit on a table in a living room. a sink with a bowl of tomatoes on top of it. a bathroom with a washer and a toilet in it. a computer desk with a chair and a computer monitor. a woman standing in a room next to a man. a man standing in a living room next to a couch. a living room with a white couch and a painting on the wall. a white bath tub sitting next to a white tiled wall. a woman standing in front of a computer monitor. a kitchen with a stove top oven and a sink. a person standing in a room with a clock on the wall. a computer monitor sitting on top of a desk. a white tiled bathroom with a black rug on the floor. a room with a book shelf and a door. a black and white photo of a bedroom. a woman standing in a kitchen next to a table. a white wall with a shelf and pictures on it. a black and white living room with a white couch. a woman standing in a kitchen next to a table. a man in a suit standing next to a book shelf. a black and white living room with a couch and coffee table. a bathroom with a sink, toilet, mirror and pictures on the wall. a living room with a couch and a computer. a bathroom with a sink and a bathtub. a floor plan of a two bedroom apartment. a woman standing in a room with a clock on the wall. a living room with a couch and a table. a person standing in a room with a red rug. a black and white photo of a desk with a computer. a couple of women standing in a kitchen next to each other. a room with a table, chairs and pictures on the wall. a living room with a white couch and a painting on the wall. a room with a bed and a television in it. a room with a door and a shelf on the wall. a living room with a couch and a bed. a kitchen with a counter, sink, oven, and pictures on the wall. a woman in a red and black dress standing in a room. a living room filled with furniture and a painting on the wall. a bathroom with a sink and a mirror. a woman in a green shirt standing in a doorway. a kitchen with a stove top oven next to a sink. a picture of a bathroom with a sink and a dryer. a man standing in a living room next to a white couch. a bathroom with a toilet and a shower stall. a woman standing in a kitchen next to a table. a black and white room with a chair and bookshelf. a woman standing in front of a mirror in a room. a room with a mirror and a television in it. a living room with a white couch and a table with a bowl of fruit on it. a living room with a couch and a table. a kitchen with a refrigerator and a microwave. a room with a bed and a table with a flower in it. a man standing in a bathroom next to a sink. a bed sitting on top of a wooden floor next to a table. a room with a bed and a television. a woman in a green top and black skirt standing in a room. a bedroom with a bed and a picture on the wall. a woman in a green top is standing in a room. a woman standing in a kitchen next to a table. a red refrigerator freezer sitting next to a sink. a kitchen with a stove, sink and counter top. a man standing in a room next to a computer. a room with a book shelf and a bowl. a woman standing in a kitchen next to a red refrigerator. a close up of a door handle on a door. an aerial view of a living room and dining room. a room with a bed and a television in it. a room with a painting of a woman in a red dress. a man standing in a room filled with furniture. a living room with a couch and a table. a woman in a hat standing in a kitchen. a room with a book shelf and a chair. a woman standing in a bathroom next to a washing machine. a computer monitor sitting on top of a red desk. a man standing in a room next to a chair. a man standing in a living room next to a yellow cabinet. a woman in a green top is standing in a room. a bathroom with a sink, toilet, and mirror. a man in a blue suit standing in a room. a room with a book shelf and a cabinet. a man standing in a bathroom next to a shower. a bathroom with a black rug on the floor. three pictures of a woman with her hands on her face. a bathroom with a toilet and a painting on the wall. a living room filled with furniture and a flat screen tv. a living room with a white couch and a table with a bowl of fruit on it. a living room with a flat screen tv on a stand. a living room with a white couch and a painting on the wall. a living room filled with furniture and a painting on the wall. a woman standing in a kitchen next to a stove top oven. a black and white living room with a couch and coffee table. a bathroom with a toilet and a washer. a person standing in a room with black and white walls. a woman standing in a room with a table. a woman in a green shirt and black skirt standing in a room. a person is playing a game on a computer. a bathroom with a white tiled wall and floor. a person standing in a room with pictures on the wall. a bed room with a neatly made bed and a chair. a living room with a couch and a computer. a room with a yellow cabinet and a black floor. a bathroom with a toilet and a washing machine. a room with a chair and a book shelf. a room with a book shelf and a chair. a living room with a red rug and white walls. a couple of women standing in a kitchen next to a table. a woman standing in a room with a tv. a sink with a bowl of tomatoes on top of it. a woman standing in a doorway of a room. a woman standing in a bathroom next to a bed. a room with a mirror and a television in it. a computer desk with a mouse and a monitor. a woman standing in a room with pictures on the wall. a man in a green shirt is walking in a room. a woman standing in front of a wall with pictures on it. a person standing in a room with a bed. a black and white photo of a desk with a computer. a living room filled with furniture and a painting on the wall. a living room with a white couch and a painting on the wall. a man in a blue suit is entering a room. a computer desk with a laptop on top of it. a black and white living room with a couch and coffee table. a computer monitor sitting on top of a desk. a woman standing in front of a table with food on it. a woman in a green shirt is standing in a kitchen. a room with a bed, desk and television. a woman in a green top and black skirt standing in a room. a woman standing in a kitchen next to a stove top oven. a woman in a hat standing in a room. a computer generated image of a room with a desk and chair. a computer generated image of a living room. a living room with a clock and pictures on the wall. a living room with a white couch and a painting on the wall. a sink with a bowl of tomatoes on top of it. a man standing in a living room next to a white couch. a room with a bed and a desk in it. a living room with a couch and a computer. a man standing in a room next to a yellow cabinet. a bed room with a neatly made bed. a woman standing in a bathroom next to a sink. a woman standing in a kitchen next to a sink. a woman standing in a kitchen next to a table. a kitchen with a sink and a microwave. a living room with a white couch and a black coffee table. a bowl of fruit on a table in a living room. a black and white living room with a couch and coffee table. a man standing in a living room next to a couch. a man standing in front of a computer screen. a kitchen with a sink and a microwave. a person standing in a room with pictures on the wall. a kitchen with a sink and a microwave. a kitchen with a red refrigerator and white counter tops. a living room with a red couch and a flat screen tv. a woman standing in a room with a red table. a living room with a couch and a table. a computer desk with a laptop on top of it. a sink with a bowl of tomatoes on top of it. a sink with a bowl of tomatoes on top of it. a room with a table and a red rug. a computer desk with a computer mouse and keyboard. a man standing in the middle of a room. a sink with a bowl of tomatoes on top of it. a white bath tub sitting next to a white tiled wall. a bathroom with a toilet and a sink. a woman standing in a room with a clock on the wall. a man standing in a doorway in a room. a person standing in front of a book shelf. a woman standing in a kitchen next to a stove top oven. a bathroom with a shelf and pictures on the wall. a man in a green shirt standing in a room. a computer desk with a laptop on top of it. a bathroom with a toilet and a shower stall. a woman standing in a room with a hat on. a person standing in a room with a couch. a black and white photo of a desk with a computer. a living room with a couch a table and a shelf. a woman standing in a room with a red carpet. a living room filled with furniture and a mirror. a man in a blue suit standing in a room. a bathroom with a picture of a woman on the wall. a person standing in a room with a couch and a television. a room with a book shelf and a cabinet. a computer desk with a chair and pictures on the wall. a person standing in a room with a black floor. a room with a desk, chair and pictures on the wall. a person standing in a room with a computer. a living room with a couch and a table. a living room with a white couch and a black coffee table. a woman standing in a bathroom next to a tub. a kitchen with a stove top oven and a sink. a man standing in a living room next to a tv. a black and white photo of a desk with a computer. a man is standing in a room with furniture. a room with a bed and a television in it. a black and white room with a computer and a chair. a woman standing in front of a table in a room. a woman standing in a kitchen next to a table. a person standing in a room with a bed. a black and white photo of a desk with a computer. a woman in a red and black dress in a bathroom. a person standing in a bathroom next to a bath tub. a living room filled with furniture and a flat screen tv. a man standing in a bathroom with a frisbee. a woman in a red dress standing in front of a picture of a woman. a bowl of fruit on a table in a room. a woman standing in a room next to a book shelf. a door leading to a bathroom with a toilet in it. a man standing in a living room next to a couch. a man standing in a living room next to a white couch. a woman in an orange tank top standing in a doorway. a person standing in a bathroom next to a toilet. a living room with a white couch and a painting on the wall. a woman standing in a room with a red table. a living room filled with furniture and a mirror. a bowl of fruit on a table in a living room. a living room with a couch and a computer. a living room filled with furniture and a flat screen tv. a woman standing in a kitchen next to a counter. a woman standing in a kitchen next to a counter. a room with a bed, a chair, a mirror and pictures on the wall. a man standing in front of a closet filled with clothes. a kitchen with a refrigerator and a stove. a computer room with a desk, chair, and computer monitor. a man standing in a living room next to a couch. a kitchen with a red refrigerator and a stove. a woman standing in front of a book shelf. a man in a suit standing in a room. a woman standing in a bathroom next to a urinal. a man standing in a room next to a bed. a woman standing in a room with a clock on the wall. a woman standing in a room with a clock on the wall. a woman standing in a kitchen next to a table. a bathroom with a large white bathtub next to a sink. a white tiled bathroom with a black rug. a woman standing in a room with pictures on the wall. a man in a blue suit standing in a room. a woman standing in a kitchen next to a stove top oven. a woman standing in a living room with a red couch. a living room filled with furniture and a mirror. a room with a bed and a book shelf. a bathroom with a sink, toilet and a painting on the wall. a living room with a couch and a table. a room with a desk and pictures on the wall. a room with a desk and pictures on the wall. a room with a chair and pictures on the wall. a woman standing in a kitchen with a red rug. a living room with a white couch and a table with a bowl of fruit on it. a woman standing in front of a book shelf. a woman standing in a kitchen next to a counter. a red refrigerator freezer sitting next to a sink. a computer desk with a monitor and keyboard. a living room with a white couch and a painting on the wall. a man standing in a living room next to a yellow cabinet. a room with a table, shelves and pictures on the wall. a person standing in a room with papers on the floor. a woman standing on a red rug in a room. a living room with a white couch and a painting on the wall. a room with a table, shelves and pictures on the wall. a woman in an orange shirt and a hat. a person standing in a room with a book shelf. a person standing in a room with a red rug. an overhead view of a bathroom with a sink and toilet. a woman standing in a living room next to a table. a woman standing in front of a mirror in a room. a woman standing in a kitchen next to a counter. a view of a small apartment from above. a woman standing in a kitchen next to a red refrigerator. a woman standing in a room with a red rug. a woman standing in a living room next to a man. a woman standing in front of a table in a room. a woman standing on a mat in a kitchen. a white tiled bathroom with brown cabinets and a sink. a living room with a couch and a table. a woman in a green shirt is standing in a room. a woman standing in a kitchen next to a table. a man standing in a living room next to a white couch. a person standing in a room with a bed. a bowl of fruit on a table in a room. a room with a chair and a book shelf. a small bathroom with a sink, toilet, and bathtub. a kitchen with a stove, microwave, toaster and coffee maker. a room with a book shelf and a chair. a computer desk with a monitor, keyboard and mouse. a room with a bed and a book shelf. a computer generated image of a room with a desk and shelves. a room with a book shelf and a chair. a woman in a black dress standing in a kitchen. a man standing in a doorway of a room. a room with a book shelf and a chair. a man in a suit and tie standing in a room. a view of a living room and kitchen from above. a woman in a green top standing in a kitchen. a woman standing in a room next to a man. a kitchen with a stove, microwave, toaster and coffee maker. an overhead view of a bathroom with a sink and toilet. a bed room with a bed and a vase of flowers. a woman standing in front of a book shelf. a living room with a white couch and a black table. a living room with a white couch and a table with a bowl of fruit on it. a shelf that has a toothbrush and toothpaste on it. a woman standing in a room with a clock on the wall. a man standing in a living room next to a yellow cabinet. a room with a bed, desk, and computer monitor. a living room with a white couch and a table with a bowl of fruit on it. a woman standing in a kitchen next to a table. a woman in a green top is standing in a room. a red refrigerator freezer sitting next to a sink. a kitchen with a red table and a red rug. a sink with a bowl of tomatoes on top of it. a man standing in front of a painting of a woman. a woman standing in front of a bed in a room. a bathroom with a sink and a painting on the wall. a woman standing in a kitchen next to a counter. a man standing in a living room next to a couch. a man standing in a living room next to a couch. a man in a suit and tie standing next to a painting. a room with a chair and a book shelf. a black and white photo of a small room. a man standing next to a white wall in a room. a woman standing at a table with plates of food on it. a man standing in a living room next to a couch. a modern kitchen with a red and white theme. a woman standing in front of a table with a pie on it. an aerial view of a kitchen and living room. a woman in a green top is standing in a room. a woman standing in a kitchen next to a table. a woman standing in front of a table with a pizza on it. a computer desk with a chair and pictures on the wall. a living room with a couch and a table. a woman standing in a kitchen next to a stove top oven. a bathroom with a sink and a towel rack. a room with a book shelf filled with books. a living room filled with furniture and a painting on the wall. a bowl of fruit on a table in a room. a woman standing in a room with a table and pictures on the wall. a woman in a green shirt is standing in a room. a man standing in front of a mirror in a room. a man standing in a living room next to a white couch. a woman standing in a kitchen next to a stove top oven. a woman standing in a kitchen next to a sink. a living room with a white couch and a black table. a living room filled with furniture and a painting on the wall. a person standing in a room next to a desk. a living room with a white couch and a table with a bowl of fruit on it. a woman standing in front of a book shelf. a woman standing in a bathroom next to a toilet. a computer desk with a chair and a painting on the wall. a black and white living room with a couch and coffee table. a room with a table and a tv. a person standing in a room with a book shelf. a woman standing in a bathroom next to a sink. a man standing in front of a flat screen tv. a person standing in a room with a painting on the wall. a bedroom with a bed and a night stand. a kitchen with a sink and a microwave. a bathroom with a sink, toilet and a picture on the wall. a man standing in a room next to a desk. an aerial view of a living room and bedroom. a computer generated image of a closet with clothes. a woman standing in a room with a red rug. a bowl of fruit on a table in a living room. a woman standing in a living room next to a tv. a living room with a couch and a table. a living room with black walls and white furniture. a living room with a white couch and a table with a bowl of fruit on it. a computer generated image of a small room. a man standing in a living room next to a couch. a bathroom with a sink, toilet, and bathtub. a living room with a white couch and a table with a bowl of fruit on it. a bathroom with a sink, toilet and a painting on the wall. a person standing in a room with pictures on the wall. a bowl of fruit on a table in a living room. a white room with a black door and pictures on the wall. a kitchen with a sink and a microwave. a man in a blue suit standing in a room. a person standing in a room with pictures on the wall. a woman standing in a kitchen next to a sink. a man standing in a room with a lot of furniture. a red refrigerator freezer sitting next to a sink. a person standing in front of a computer monitor. a computer desk with a laptop on top of it. a man in a blue suit standing in a room. a man is standing in a room with a lot of furniture. a sink with a bowl of tomatoes on top of it. a woman standing in a room next to a wall with pictures on it. a bowl of fruit on a table in a room. a woman standing in a room with a table and chairs. a room with a shelf and pictures on the wall. a room with a mirror and a television in it. a man standing in a room with a black floor. a woman standing in a kitchen next to a table. a living room with a couch and a table. a living room with a couch and a table. a picture of a woman holding a dog on a wall. a kitchen with a red rug on the floor. a room with a book shelf and a microwave. a bathroom with a white tiled floor and walls. a living room filled with furniture and pictures on the wall. a bowl of fruit on a table in a room. a bathroom with a white sink and white tiled walls. a bathroom with a toilet and a sink. a red refrigerator freezer sitting next to a sink. a kitchen with a stove, microwave and toaster oven. a room with a desk and a computer monitor. a room with a mirror and a television in it. a woman standing in a bathroom next to a tub. a bathroom with a white toilet and a white sink. a living room with a couch and a television. an overhead view of a red and white bathroom. a kitchen with a refrigerator and a microwave. a computer desk with a monitor, keyboard and mouse. a man standing in a living room next to a table. a woman standing in a room with a red rug. a room with a chair and a book shelf. an overhead view of a bathroom with a sink and toilet. a man standing in a living room next to a couch. a woman wearing a hat standing in a room. a kitchen with a refrigerator and a stove. a living room with a white couch and a painting on the wall. a living room filled with furniture and a yellow cabinet. a bathroom with a sink and a mirror. a bathroom with a sink, toilet, and bathtub. a man standing in a living room next to a couch. a room with a washer and a dryer in it. a couple of people standing in a room. a room with a closet and a bed. a room with a table, shelves and pictures on the wall. a computer desk with a monitor, keyboard and mouse. a bathroom with a sink, toilet and a painting on the wall. a white tiled bathroom with a toilet and shower. a bowl of fruit on a table in a living room. a woman in a green shirt is standing in a room. a black and white room with a bed and a chair. a living room with a white couch and a picture on the wall. a room with a bed and a mirror. a computer desk and chair in a room. a room with a bed, desk, and computer monitor. a man standing in a bathroom next to a washing machine. a woman standing in a kitchen next to a stove top oven. a kitchen with a sink, stove, microwave and cabinets. a living room with a white couch and a table with a bowl of fruit on it. a man standing in a living room next to a white couch. a woman standing in a kitchen next to a table. a woman standing in a kitchen next to a counter. a black and white living room with a couch and coffee table. a room with a bed, desk, and shelves. a person standing in a room with a lot of furniture. a room with a bed and a book shelf. a person standing in a room with a lot of furniture. a kitchen with a stove, microwave and toaster oven. a man standing in a bathroom next to a door. a woman standing in a kitchen next to a table. a bathroom with a black and white rug in the middle of the floor. a bathroom with a sink, toilet, and a mirror. a woman in a green top and black skirt standing in a room. a black and white photo of a desk with a computer. a woman standing in a kitchen next to a red refrigerator. a red refrigerator freezer sitting next to a sink. a room with a desk, chair, and picture on the wall. a woman in a green shirt and black skirt. a room with a couch, desk, chair and television. a bathroom with a toilet, sink, and mirror. an aerial view of a living room and kitchen. a living room with a couch and a table. a bathroom with two toilets and a sink. a man standing in front of a computer monitor. a person jumping in the air on a skateboard. a man standing in a living room next to a couch. a bunch of umbrellas that are hanging on a wall. a black and white living room with a couch and coffee table. a room with a book shelf and a chair. a woman standing in a living room next to a table. a room with a bed and a clock on the wall. a bathroom with a toilet and a sink. a person standing in a room with a computer monitor. a bathroom with a sink and a mirror. a man standing in front of a book shelf. a woman standing in a kitchen next to a counter. a living room with a couch and a table. a bathroom with a black rug on the floor. a living room with a couch and a table. a bathroom with a sink and a mirror. a man in a blue shirt is looking at a computer screen. a kitchen with a microwave, toaster, toaster oven and a red refrigerator. a woman in an orange shirt is standing in a room. a computer generated image of a living room. a person standing in a room with a painting on the wall. a kitchen with a stove, microwave, toaster and coffee maker. a woman standing in a room next to a book shelf. an aerial view of a living room and kitchen. a computer desk and chair in a room. a kitchen with a red rug on the floor. a room with a desk and a chair in it. a person standing in a room with a tv. a woman in a green top and black skirt standing in a room. a woman standing in a bathroom next to a shower. a kitchen with a red refrigerator and white counter tops. a room with a bed and a painting on the wall. a woman standing in a room with a red carpet. a man standing in a living room next to a white couch. a woman standing in a kitchen next to a stove top oven. a woman standing in front of a picture of herself. a woman in a green top and black skirt standing in a kitchen. a woman standing in a bathroom next to a washing machine. a room with a red chair and pictures on the wall. a woman standing in a room with a clock on the wall. a room with a book shelf and a chair. a bathroom with a bunch of sinks and mirrors. a room with a long table and a red rug on the floor. a woman in a green top standing in a kitchen. a man standing in a living room next to a couch. a black and white photo of a living room. a room with a chair and a book shelf. a bowl of fruit on a table in a room. a man standing in front of a couch in a living room. a bathroom with a white tiled floor and walls. a living room with a couch a table and a television. a woman standing in front of a computer monitor. a man standing in a living room next to a tv. a man in a suit standing in a room. a woman standing in a kitchen next to a table. a man standing in a kitchen next to a refrigerator. a room with a table, shelves and a television. a computer monitor sitting on top of a red shelf. a woman standing in a kitchen next to a stove top oven. a kitchen with a refrigerator and a stove. a person standing in a room with a clock on the wall. a woman standing in a kitchen next to a counter. a computer generated image of a small room. a red refrigerator freezer sitting next to a counter. a bathroom with a sink, toilet and a mirror. a woman standing in a room with a clock on the wall. a room with a desk and pictures on the wall. a man in a blue suit standing in a room. a kitchen with a refrigerator and a stove top oven. a man in a blue suit standing in a room. a person standing in a room with a red and white floor. a man in a blue suit standing in a room. a man in a suit and tie standing in a room. a person standing in a bathroom next to a sink. a man standing in a living room next to a white couch. a woman standing in a bathroom next to a black dog. a living room filled with furniture and a flat screen tv. a bathroom scene with focus on the sink. a woman standing in front of a counter in a kitchen. a room that has a mirror and a table in it. a black and white photo of a room with a desk. a room with a red door and a white wall. a computer monitor sitting on top of a red desk. a woman standing in a room with a clock on the wall. a person standing in a living room with a white couch. a woman standing in a kitchen next to a stove top oven. a person standing in a room next to a desk. a living room filled with furniture and a painting on the wall. a kitchen with a stove, microwave, toaster and coffee maker. a room with a picture of a woman on the wall. a man standing in a room with a computer. a room with a table, shelves and a television. a black and white bathroom with a sink and toilet. a room with a table, chairs and pictures on the wall. a black and white photo of a desk with a computer. a woman standing in a kitchen next to a table. a living room with a red couch and a black table. a room with a bed, a desk and a mirror. a room with a book shelf and a chair. a woman standing in a kitchen next to a counter. a woman standing next to a table with a pie on it. a living room with a couch and a table. a red refrigerator freezer sitting in a kitchen. a person standing in front of a book shelf. a kitchen with a refrigerator and a microwave. a person in an orange vest standing in a doorway. a kitchen with a red refrigerator and a clock on the wall. a woman is standing in a room with a table. a man in a blue suit standing in a room. a bowl of fruit on a table in a room. a person standing in a room with a white table. a sink with a bowl of tomatoes on top of it. a woman standing in front of a room with pictures on the wall. a kitchen with a sink and a microwave. a woman standing in a room next to a table. a kitchen with a red refrigerator and a stove top oven. a bathroom with a sink and a mirror. a room with a bed and a television in it. a computer monitor sitting on top of a red desk. a man and a woman standing in a room. a living room with a white couch and a black coffee table. a black and white living room with couches and a television. a woman standing in a kitchen next to a table. a woman standing in a kitchen next to a table. a woman in a hat standing in a kitchen. a computer generated image of a bathroom with a sink and toilet. a person standing in a room with shelves and a tv. a room with a chair and a book shelf. a living room filled with furniture and a painting on the wall. a man is standing in the middle of a room. a room with a table and a tv. a woman standing in front of a table with a pizza on it. a room with a bed, desk and television. a living room filled with furniture and a flat screen tv. a kitchen with a refrigerator and a stove. a room with a table and a bench in it. a bathroom with a toilet, sink, and mirror. a bathroom with a sink and a mirror. a bowl of fruit on a table in a living room. a person standing in a room with a bed and a table. a black and white bathroom with a sink and toilet. a room filled with furniture and a clock on the wall. a bathroom with a toilet and a bathtub. a room with a chair and pictures on the wall. a woman standing in front of a mirror in a room. a bathroom with a sink, toilet, mirror and pictures on the wall. a living room with a couch and a table. a bathroom with a toilet and a sink. a room with a table and a tv. a bath room with a bath tub a sink and a mirror. a woman standing in a kitchen next to a table. a kid's bedroom with a red and white bed. a woman in a green top and black skirt standing in a room. a bathroom with a toilet, sink and mirror. a bathroom with a sink, toilet and a painting on the wall. a woman standing in a room next to a book shelf. a woman in a green top is standing in a room. a computer monitor sitting on top of a red table. a black and white living room with a couch and coffee table. a bathroom with a toilet and a book shelf. a woman in a bathroom with a sink and a washing machine. a man is standing in a room with furniture. a woman standing in a kitchen next to a stove top oven. a man standing in front of a computer monitor. a room with a red refrigerator and pictures on the wall. a kitchen with a stove top oven and pictures on the wall. a bathroom with a sink, mirror and pictures on the wall. a man standing in a bathroom next to a sink. a man standing in a room next to a bed. a bowl of fruit on a table in a room. a red refrigerator freezer sitting next to a sink. a woman standing in a room next to a table. a picture of a blue hand on a pink background. a kitchen with a red refrigerator and a stove top oven. a person standing in a bathroom next to a toilet. a computer desk with a mouse and keyboard on it. a bedroom with a bed, dresser and mirror. a bathroom with a stand up shower next to a red box. a computer monitor sitting on top of a desk. a person standing in front of a computer chair. a computer desk sitting in a room next to a computer monitor. a living room with a white couch and a painting on the wall. a room with a book shelf and a chair. a bookshelf filled with lots of white shelves. a man standing in a living room next to a couch. a man standing in a room with a black and white checkered floor. a kitchen with a sink, stove, counter, and pictures on the wall. a room with a chair and pictures on the wall. a living room with a couch and a table. a computer desk with a laptop on top of it. a living room with a couch and a table. a woman standing in a room next to a table. a man in a suit standing in front of a book shelf. a kitchen with a stove top oven and pictures on the wall. a woman standing in a kitchen next to a table. a room with a book shelf and a chair. a living room with a white couch and a black table. a bathroom with a toilet and a washing machine. a man standing in a room with a painting on the wall. a living room with a couch and a computer. a computer desk with a laptop on top of it. a white chair sitting in a room next to a wall. a room with a picture of a woman on the wall. a computer generated image of a living room. a living room filled with furniture and a painting on the wall. a computer desk with a keyboard and mouse. a room with a table, chairs and a television. a person standing in a room with a red rug. a woman standing in a kitchen next to a stove top oven. a person standing in a bathroom next to a sink. a woman standing in a room next to a table. a room with a bed, a desk and a book shelf. a man standing in front of a computer screen. a woman standing in a room with pictures on the wall. a woman standing in a kitchen next to a counter. a man standing in a bathroom next to a washing machine. a woman standing in a kitchen next to a table. a woman standing in front of a table with a pie on it. a woman standing in a room next to a counter. a room with a refrigerator and pictures on the wall. a kitchen with a red refrigerator and a sink. a man walking down a hallway next to a desk. a woman in a green top is standing in a kitchen. a kitchen with a stove, microwave and toaster oven. a bowl of fruit on a table in a living room. a picture of a woman with blue hair hanging on a wall. a kitchen with a refrigerator and a stove. a man in a blue suit standing in a room. a man standing in a room with a black floor. a bathroom with a sink, toilet, and cabinets. a kitchen with a refrigerator and a stove. a room with a table, chairs, and pictures on the wall. a room with a book shelf and a picture on the wall. a bathroom with a sink and a mirror. a woman standing in front of a table in a room. a man standing in a room with a lot of furniture. a woman standing in a bathroom next to a toilet. a couple of women standing next to each other in a room. a man in a suit and tie standing in a room. a room with a black floor and a yellow cabinet. a small bathroom with a washer and dryer. a bathroom with a sink, toilet and a painting on the wall. a woman standing in a kitchen next to a red refrigerator. a woman standing in a kitchen next to a table. a man standing in a room with a bowl of fruit. a kitchen with a red refrigerator and a stove top oven. a living room with a couch a table and a ladder. a kitchen with a refrigerator and a microwave. a woman standing in a bathroom next to a sink. a woman standing in a room with a clock on the wall. a person standing in a room with a bed and a sink. a computer desk with a chair and pictures on the wall. an overhead view of a red and white room. a room with a desk and pictures on the wall. a bathroom with a toilet and a washer. a woman in a green top is walking through a room. a woman standing in a kitchen next to a table. a woman wearing a hat standing in front of a red refrigerator. a sink with a bowl of tomatoes on top of it. a person standing in front of a flat screen tv. a living room filled with furniture and a flat screen tv. a woman standing in a room next to a table. a room with a red refrigerator and pictures on the wall. a computer desk with a monitor, keyboard and mouse. a woman standing in a bathroom next to a urinal. a woman standing in a room with a red rug. a man in a suit standing in a room. a person standing in a room with a clock on the wall. a woman standing in a living room next to a couch. a computer desk with a computer monitor and keyboard. a man standing in a bathroom next to a washer and dryer. a woman standing in front of a book shelf. a room with a bed, desk and television. a bathroom with a sink, mirror, and toilet paper dispenser. a computer desk with a laptop on top of it. a person standing in a living room next to a table. a room with a table, shelves, and a tv. a woman standing in a kitchen next to a counter. a man in a suit standing in front of a bookcase. a man standing in a living room next to a couch. a kitchen with a sink and a microwave. a computer monitor sitting on top of a red desk. a bathroom with a bathtub and a shower. a woman in a green top is standing in a kitchen. a room with a bed and a television in it. a computer monitor sitting on top of a desk. a room with a desk and pictures on the wall. a white tiled bathroom with a sink and mirror. a man standing in a room with a white couch. a living room with a couch, table and television. a bathroom with a toilet and a sink. a person standing in a room with a clock on the wall. a man is standing in a room with chairs. a living room with a couch and a table. a computer desk with a chair and a computer monitor. a kitchen with a red refrigerator and a stove. a living room with a white couch and a painting on the wall. a woman standing in a kitchen next to a table. a black and white living room with a couch and coffee table. a computer monitor sitting on top of a red table. a computer desk with a laptop on top of it. a man in a blue suit standing in a room. a room with a table, chairs, and pictures on the wall. a view of a living room and kitchen from above. a bathroom with a sink, toilet, and a mirror. a woman in a green shirt is standing in a room. a man standing in front of a bed in a room. a man standing in a living room next to a book shelf. a black and white bathroom with a sink and toilet. a room with a book shelf and a chair. a bathroom with a sink, toilet and a painting on the wall. a woman standing in a living room next to a couch. a woman standing in a room with a red rug. a man standing in front of a mirror in a room. a woman standing in a kitchen next to a stove top oven. a table with a red table runner in a room. a kitchen with a sink and a microwave. a black and white photo of a desk with a computer. a computer desk with a chair and a monitor. a living room filled with furniture and a tv. a woman standing in a room with tables and chairs. a room with a desk and pictures on the wall. a living room filled with furniture and a mirror. a man standing in a living room next to a white couch. a bathroom with a sink, mirror, and toilet. a kitchen with a stove, sink, and cabinets. a black and white room with a bed and a desk. a person standing in a bathroom next to a sink. a woman standing in a kitchen next to a table. a woman is standing in a bathroom with a toilet. a woman is standing in a room with shelves. a white tiled bathroom with a black rug on the floor. a room with a bed, a table, and pictures on the wall. a man standing in a room next to a desk. a woman standing in a room with pictures on the wall. a woman standing in a room next to a counter. a bedroom with a bed and a book shelf. a room with a toilet and a sink in it. a woman standing in a room with a red table. a room with pictures on the wall and pictures on the wall. a bathroom with a black rug on the floor. a bedroom with a bed and a mirror. a man standing in a living room next to a table. a bathroom with a sink and a painting on the wall. a couple of women standing in a kitchen next to a table. a woman standing in front of a table with a pie on it. a man standing in front of a computer monitor in a room. a woman in a hat standing in a room. a living room with a white couch and a table with a bowl of fruit on it. a room with a book shelf and a yellow cabinet. a person standing in a room with a couch. a living room with red and white decor. a computer monitor sitting on top of a desk. a small kitchen with a stove and a counter. a computer monitor sitting on top of a red desk. a man standing in a living room next to a table. a woman standing in a kitchen next to another woman. a woman standing in a room next to a book shelf. a person standing in a room with a clock on the wall. a computer monitor sitting on top of a red desk. a kitchen with a sink and a microwave. a bathroom with a black door and a white wall. a red refrigerator freezer sitting next to a sink. a woman in a green top standing in a doorway. a bathroom with a toilet, sink, and mirror. a person standing in a room with pictures on the wall. a person standing in a bathroom with a sink and toilet. a room that has a bunch of shelves in it. a woman standing in a kitchen next to a table. a woman in a hat standing in a room. an aerial view of a kitchen and living room. a man standing in a living room looking at a television. a room with a bed, desk and television. a bathroom with a sink, toilet, and bathtub. a woman standing in front of a wall with pictures on it. a living room with a couch and a table. a man in a blue suit standing in front of a bookshelf. a bowl of fruit on a table in a living room. a living room with a couch and a computer. a computer desk with a chair and a computer monitor. a room with a counter, plates and a can of soda. a man standing in front of a computer monitor in a room. a man standing in a living room next to a table. a room that has a bed and a table in it. a man standing in front of a computer desk. a woman standing in a room with a book shelf. a woman in an orange shirt and black boots. a woman standing in a room with a clock on the wall. a man in a blue suit standing in a room. a woman standing in a kitchen next to a counter. a computer desk with a keyboard and mouse. a person standing in a room with a bed and desk. a person standing in a living room next to a couch. a room with a bed and a desk in it. a living room filled with furniture and a flat screen tv. a bowl of fruit on a table in a room. a living room with a couch and a computer. a room with a bed, desk, and mirror. a bathroom with a shelf and a toilet paper dispenser. a man in a blue suit standing in a room. a woman in a green top is walking through a room. a computer desk sitting in a room next to a chair. a computer desk with a monitor, keyboard and mouse. a picture of a woman with blue hair on a pink background. a living room with a white couch and a painting on the wall. a computer desk with a chair and a computer monitor. a man in a blue suit standing in a room. a woman standing in a kitchen next to a table. a room with a black door and white walls. a couple of women standing in a kitchen next to each other. a kitchen with a red refrigerator and white counter tops. a person standing in a room with a red chair. a kitchen with a sink and a microwave. a computer generated image of a room with shelves. a living room with a red couch and a white table. a room with a red and black wall and pictures on the wall. a man standing in a room next to a computer desk. a woman standing in a kitchen next to a counter. a woman is standing in a room with red carpet. a black and white bathroom with a sink and toilet. a woman standing in a bathroom next to a urinal. a bathroom with a black and white rug on the floor. a computer generated image of a man in a bathroom. a bathroom with a toilet and a shelf. a computer desk with a monitor, keyboard and mouse. a room with a book shelf and a chair. a shadow of a person standing in a corner. a living room with a couch and a computer. a sink with a bowl of tomatoes on top of it. a kitchen with a red refrigerator and white cabinets. a bath room with a toilet a sink and a mirror. a living room with a couch and a computer. a woman in a hat standing in a kitchen. an overhead view of a bathroom with a sink and toilet. a red refrigerator freezer sitting next to a counter. a woman standing in a room with a table and chairs. a woman in a green top and black skirt standing in a room. a woman in a green shirt and black skirt in a kitchen. a computer monitor sitting on top of a red desk. a living room with a tv and a red table. a room with a table, shelves and pictures on the wall. a woman in an orange dress standing in a room. a man in a blue suit standing in a room. a woman standing in front of a book shelf. a man standing in front of a bathtub in a bathroom. a room with a couch and a wall light. a man standing in a living room next to a bed. a man standing in a living room next to a couch. a computer monitor sitting on top of a red desk. a black and white room with a book shelf. a woman standing in a kitchen next to a horse. a man standing in a living room next to a couch. a room with a table and a tv. a man in a blue suit standing in a room. a woman standing in a bathroom next to a tub. a bathroom with a toilet and a sink. a person standing in a bathroom next to a sink. a woman standing in front of a wall with pictures on it. a living room filled with furniture and a mirror. a room with a desk, chair and pictures on the wall. a living room filled with furniture and a flat screen tv. a computer desk with a monitor, keyboard and mouse. a person in an orange vest standing in a room. a living room with a white couch and a black table. a living room with a red couch and a red table. a woman in a green shirt is standing in a room. a woman standing in a bathroom in a red and black dress. a red refrigerator freezer sitting next to a sink. a man standing in a room next to a chair. a bathroom with a sink, toilet, and shower. a living room with a white couch and a black coffee table. a white tiled bathroom with a black rug. a woman standing in a doorway of a room. a kitchen with a stove, microwave, toaster and coffee maker. a person standing in a room with a red and white floor. a person standing in a room with a white couch. a woman standing in front of a table with a pie on it. a computer generated image of a bathroom with a red sink. a computer monitor sitting on top of a red table. a woman standing in a room with a red rug on the floor. a bowl of fruit on a table in a living room. a bathroom with a toilet, sink, and mirror. a man in a blue suit standing in a room. a woman standing in a room with a red rug. a computer room with a desk, chair, and computer monitor. a white kitchen with a red refrigerator freezer. a woman in a green top standing in a kitchen. a man in a blue suit standing in a room. a woman standing in front of a book shelf. a computer desk with a chair and a computer monitor. a room with a white couch and a picture on the wall. a woman in a green shirt standing in a kitchen. a kitchen with a counter, sink, oven, and pictures on the wall. a computer desk with a chair and a computer monitor. a bathroom with a black rug in the middle of the floor. a woman standing in a kitchen next to a table. a man in a green shirt is standing in a room. a clock mounted to the side of a wall. a person standing in a room with a book shelf. a black and white living room with a couch and coffee table. a computer monitor sitting on top of a red desk. a room with a desk and a chair. a bed room with a neatly made bed and a night stand. an overhead view of a bathroom with a sink and toilet. a computer desk with a monitor and keyboard. a man standing in front of a bed in a room. a person standing in a room with a painting on the wall. a woman standing in a room with a table. a woman standing in a kitchen next to a table. a computer desk with a monitor, keyboard and mouse. a woman standing in a room with a desk and chair. a painting of a woman's face on a wall. a living room filled with furniture and a flat screen tv. a kitchen with a stove, microwave, toaster and coffee maker. a woman standing in front of a table in a room. a computer generated image of a kitchen sink. a woman standing in a room next to a table. a woman standing in front of a table with plates of food on it. a woman standing in a room with a red rug. a woman in a green top and black skirt. a computer desk with a monitor, keyboard and mouse. a man standing in a living room next to a couch. a person standing in a room with red and white rugs. a room with a table and a tv. a woman standing in front of a table with plates of food on it. a bathroom with a toilet and a sink. a desk with a vase of flowers on top of it. a person standing in front of a black door. a bathroom with a sink, toilet, and mirror. a living room filled with furniture and a flat screen tv. a man standing in front of a mirror in a room. a person standing in a room with a computer. a bowl of fruit sitting on top of a table. a computer monitor sitting on top of a red desk. a red and white kitchen with a table and chairs. a bathroom with a sink and a towel rack. an aerial view of a living room and kitchen. a woman standing in a room with a clock on the wall. a computer desk and chair in a room. a man in a blue suit standing in a room. a woman standing in front of a table with plates of food on it. a woman standing in a room next to a table. a painting of a woman with blue eyes. a room with a book shelf and a picture on the wall. a person standing in a room with a black object. a living room filled with furniture and a painting on the wall. a man standing in a living room next to a desk. a woman standing in a kitchen next to a counter. a room with a bed, desk, and computer monitor. a stove top oven sitting inside of a kitchen. a sink with a bowl of tomatoes on top of it. a woman standing in a room with a clock on the wall. a person standing in a room with a white table. a close up of a toilet in a bathroom. a woman standing in a room with a red rug. a red refrigerator freezer sitting next to a sink. a room with a desk and pictures on the wall. a man standing in a room with a chair and a television. a woman standing in a kitchen next to another woman. a bathroom with a black rug on the floor. a kitchen with a sink, stove, and refrigerator. a couple of people that are standing in a room. a person standing in a room with a red door. a computer monitor sitting on top of a red table. a kitchen with a stove, microwave, toaster and coffee maker. a room with a picture of a woman on the wall. a living room with a white couch and a black coffee table. a woman standing in a room with a clock on the wall. a bathroom with a white toilet and a white sink. a bathroom with a toilet and a trash can. a kitchen with a stove top oven next to a refrigerator. a man standing in a living room next to a couch. a kitchen with a refrigerator and a microwave. a man standing in front of a tv in a living room. a woman standing in a room with a clock on the wall. a kitchen with a sink and a microwave. a living room with a white couch and a black table. a black and white living room with a couch and coffee table. a woman standing in a kitchen next to a stove top oven. a person standing in a room with furniture. a man standing in front of a computer desk. a person standing in front of a book shelf. a sink with a bowl of tomatoes on top of it. a woman in a hat standing in a room. a computer monitor sitting on top of a desk. a woman standing in a kitchen next to a table. a bowl of fruit on a table in a room. a woman in a green shirt and black skirt in a room. a room with a bed and a television. a man standing in a living room next to a couch. a man standing in the doorway of a room. a kitchen with a sink, stove, counter, and pictures on the wall. a man standing in front of a computer monitor. a kitchen with a stove, microwave and toaster oven. a person standing in a bathroom with a black and white rug. a room with a red shelf and a blackboard. a living room with a white couch and a table with a bowl of fruit on it. a man in a blue suit standing in a room. a woman in an orange top is standing in a room. a woman standing in a living room next to a bed. a woman standing in a kitchen next to a counter. a kitchen with a refrigerator and a microwave. a woman standing in front of a mirror in a room. a bed room with a bed a table and a mirror. a woman standing in a kitchen next to a counter. a woman standing in a bathroom next to a bathtub. a bathroom with a sink and a painting on the wall. a man standing in a room next to a bed. a kitchen with a refrigerator and a microwave. a man standing in a kitchen next to a counter. a person standing in a bathroom with a towel. a woman standing in a kitchen next to a stove top oven. a woman standing in a room with a book shelf. a woman standing in a bathroom next to a bed. a person standing in a room with a couch and a table. a bowl of fruit on a table in a room. a woman standing in a kitchen next to a table. a computer desk with a monitor, keyboard and mouse. a woman standing in a room with a red rug. a woman standing in a kitchen next to a table. a bathroom with a toilet and a washer. a red refrigerator in a kitchen next to a picture of a woman. a bathroom with a black wall and a white toilet. a room with a table, chairs, and pictures on the wall. a person standing in a room with a cabinet. a woman standing in a bathroom with a towel on her back. a bowl of fruit sitting on top of a table. a room with a bed and a desk in it. a living room with a couch a table and a shelf. a man in a blue suit standing in a room. a man standing in a room with a lot of furniture. a kitchen with a sink and a microwave. a woman standing in a room next to a book shelf. a bathroom with a toilet and tiled walls. a red refrigerator freezer sitting inside of a kitchen. a woman standing in a room with a clock on the wall. a shadow of a person standing in a corner. a white tiled bathroom with a black rug on the floor. a woman standing in a kitchen next to a counter. a woman standing in a room with a red rug. a bathroom with a sink, mirror, and toilet. a black and white living room with a couch and coffee table. a bathroom with a sink and a mirror. a living room with a couch and a computer. a person standing in a bathroom with a black and white tile floor. a woman standing in a room with a table. a living room with a couch and a computer. a woman standing in a bathroom next to a sink. a black and white photo of a bathroom. a red refrigerator freezer sitting next to a sink. a woman standing in a room with a clock on the wall. a living room with a couch and a computer. a kitchen with a red refrigerator and white counter tops. a man standing in a living room next to a table. a bathroom with a sink, toilet, and bathtub. a room with a desk and a red and white wall. a room with a bed, a desk and a mirror. a room with a tv and a red table. a woman is standing in a room with red and white decor. a room with a book shelf and a toilet. a man in a blue shirt is standing in a room. a computer generated image of a room with bookshelves. a woman standing in a room next to a table. a person standing in front of a computer desk. a man standing in a living room next to a table. a person in an orange vest in a room. a person standing in a bathroom next to a sink. a kitchen with a stove, microwave and toaster oven. a woman standing in a kitchen next to a table. a computer desk with a monitor, keyboard and mouse. a room with a table, chairs, and pictures on the wall. a computer desk with a computer monitor on top of it. a kitchen with a sink and a microwave. a man standing in a living room next to a couch. a woman in a green top is standing in a room. a shadow of a person in a dark room. a kitchen with a refrigerator and a stove. a living room with a white couch and a black coffee table. a person standing in a living room with a coffee table. a man standing in front of a computer keyboard. a bathroom with a toilet and a sink. a room with a yellow cabinet and pictures on the wall. a woman standing in a room with a red rug. a person taking a picture of themselves in a bathroom mirror. a woman standing in a room with a clock on the wall. a man standing in a room with a suitcase. a living room with a couch and a table. a kitchen with a sink and a microwave. a man standing in front of a computer monitor. a kitchen with a stove, microwave and toaster oven. a person standing in a bathroom with a red and white towel. a man standing in a room with a red umbrella. a kitchen with a red refrigerator and a stove. a computer generated image of a man in a living room. a bathroom with a sink and a bathtub. a book shelf filled with lots of books. a black and white bathroom with a sink and toilet. a sink with a bowl of tomatoes on top of it. a man standing in front of a painting in a room. a man in a suit and tie standing in a room. a woman standing in a room with a red rug. a person standing in front of a flat screen tv. a room with a table, chairs, and pictures on the wall. a bathroom with a toilet and a sink. a bedroom with a picture of a woman on the wall. a living room with a white couch and a black table. a black and white photo of a desk with a computer. a woman standing in a kitchen next to a red refrigerator. a room with a black door and a white wall. a computer generated image of a room with shelves and a chair. a woman standing in front of a mirror in a room. a desk with a computer monitor and keyboard. a living room filled with furniture and a flat screen tv. a man standing in front of a computer desk. a bathroom with a sink, toilet, and bathtub. a woman standing in front of a book shelf. a computer desk with a chair and a picture on the wall. a woman standing in a room next to a table. a bathroom with a sink, mirror and pictures on the wall. a room with a bed, desk, and computer monitor. a living room with a white couch and a black coffee table. a room with a table and a tv. a black and white photo of a desk with a computer. a room with a closet and a shelf filled with boxes. a room with a book shelf and a cabinet. a person standing in front of a book shelf. a room with a book shelf and a cabinet. a man standing in a living room next to a couch. a bathroom with a sink, toilet and a shower. a computer generated image of a kitchen with red and white decor. a living room with a couch and a table. a woman standing in a kitchen next to a table. a black and white room with a desk and chair. a woman in a red and black dress standing in a bathroom. a living room with a white couch and a black table. a black and white living room with a couch and coffee table. a man standing in a room next to a book shelf. a woman in a green top and black skirt standing in a room. a woman standing in a room next to a man. a woman standing in a room next to another woman. a living room with a white couch and a painting on the wall. a kitchen with a red table and white chairs. a man in a blue suit standing in a room. a computer generated image of a bathroom with a sink. a man standing in front of a bed in a room. a computer monitor sitting on top of a desk. a woman in a green top standing in a room. a woman standing in a room with a red rug. a woman standing next to a table with plates on it. a woman in a green top is standing in a kitchen. a red refrigerator freezer sitting next to a sink. a living room with a couch a table and a book shelf. a bedroom with a bed and a closet. a room with shelves and a picture on the wall. a kitchen with a red refrigerator and a stove. a living room with a white couch and a table with a bowl of fruit on it. a room that has a bunch of shelves in it. an overhead view of a red and white kitchen. an overhead view of a bedroom with a bed and a desk. a woman standing in a bathroom next to a sink. a computer desk with a monitor, keyboard and mouse. a couple of women standing in a bathroom next to each other. a kitchen with a refrigerator and a stove. a computer generated image of a modern kitchen. a room with a book shelf and a chair. a bedroom with a bed and a table. a woman standing in a kitchen next to a table. a woman in a hat standing in a room. a living room with a white couch and a black coffee table. a room with a table and a red rug on the floor. a woman in a red and black dress standing in a room. a white tiled bathroom with brown cabinets and a sink. a living room with a couch and a computer. a person standing in a room with a couch. a man in a blue suit standing in a room. a woman standing in a room with a clock on the wall. a living room with a white couch and a book shelf. a woman standing in a bathroom next to a urinal. a computer desk with a laptop on top of it. a room with a desk and pictures on the wall. a person in a bathroom with a dog. a computer monitor sitting on top of a red desk. a woman standing in a bathroom with a black rug. a living room with a white couch and a black coffee table. a white bath tub sitting next to a white shower curtain. a woman in a green top standing in a room. a man standing in front of a mirror in a room. a computer desk sitting in a room next to a couch. a computer monitor sitting on top of a red table. a man standing in front of a computer monitor in a living room. a woman in a green top and black skirt standing in a kitchen. a person standing in a bathroom next to a washer and dryer. a room with a desk and pictures on the wall. a bed room with a neatly made bed and a vase of flowers. a room with a book shelf and a cabinet. a living room with a white couch and a black table. a person standing in front of a flat screen tv. a living room with a couch and a table. a person standing in a room with a desk and pictures on the wall. a living room with a television and pictures on the wall. a woman standing in a kitchen next to a table. a living room filled with furniture and a painting on the wall. a woman standing in a bathroom with a tub and sink. a man standing in a living room next to a table. a bowl of fruit on a table in a living room. a bathroom with a sink, toilet and a painting on the wall. a man standing in a living room next to a couch. a man standing in front of a computer desk. a woman in a green top is standing in a room. a room that has a table and a chair in it. a room with a book shelf and a chair. a clock mounted to the side of a wall. a woman standing in a kitchen next to a red refrigerator. a room with a chair and a book shelf. a room with a desk, shelves, and a computer monitor. a woman standing in a room with a hat on. a woman standing in a room next to a table. a man and a woman standing in a room. a computer monitor sitting on top of a red desk. a woman in a green shirt standing in a kitchen. a room with a book shelf and a toilet. a woman standing in a living room next to a book shelf. a woman standing in a room with a clock on the wall. a kitchen with a counter, sink, oven, and pictures on the wall. a person standing in a room with pictures on the wall. a man standing in a room with a large rock. a view of a small kitchen from above. a man in a blue suit standing in a room. a living room with a couch and a computer. a woman standing in front of a flat screen tv. a man standing in a living room next to a couch. a man standing in a room next to a mirror. a woman standing in a room with a red rug. a man standing in a room next to a desk. a room with a chair and a picture on the wall. a computer desk with a chair and a computer monitor. a kitchen with a red refrigerator and a stove top oven. a woman standing in a room with a book shelf. a woman standing in a kitchen next to a red refrigerator. a room with a desk and a chair in it. a kitchen with a sink and a microwave. a computer monitor sitting on top of a red desk. a man in a blue suit standing in front of a bookcase. a computer room with a desk and a bed. a man standing in a living room next to a couch. a living room with a television and a book shelf. a man standing in a living room next to a couch. a woman standing in a room with red and white walls. a man standing in a room with a red and white carpet. a woman in a bathroom with a sink and mirror. a woman standing in a bathroom next to a bathtub. a bowl of fruit on a table in a room. a woman standing in a kitchen next to a counter. a room with a desk and pictures on the wall. an overhead view of a living room and kitchen. a computer monitor sitting on top of a desk. a bedroom with a bed, desk, and chair. a small room with a red and white decor. a computer desk with a monitor, keyboard and mouse. a woman standing in a kitchen next to a stove top oven. a computer desk with a chair and a computer monitor. a bowl of fruit on a table in a living room. a woman standing in a room with a red carpet. a woman standing in front of a table with plates of food on it. a computer monitor sitting on top of a desk. a woman standing in front of a table with plates on it. a living room with a white couch and a black table. a living room with a couch a table and a chair. a computer chair sitting in a room next to a book shelf. a kitchen with a sink and a microwave. a bathroom with a sink and a mirror. a room with a table, chairs and pictures on the wall. a living room filled with furniture and a mirror. a room with a desk and pictures on the wall. a person standing in a room with a red and white table. a kitchen with a sink and a microwave. a room with a table and a chair and a toilet. a man in a blue suit standing in a bedroom. a room with a desk and a chair in it. a room with a table and a television. a woman standing in a kitchen next to a table. a man in a blue suit standing in a room. a living room with a white couch and a painting on the wall. a black and white photo of a desk with a computer. a kitchen with a refrigerator and a stove. a person standing in a room with a laptop. a computer monitor sitting on top of a red desk. a room with a chair and pictures on the wall. a computer desk with a laptop on top of it. a living room with a white couch and a table with a bowl of fruit on it. a living room with a white couch and a black table. an overhead view of a living room with pictures on the wall. a kitchen with a sink and a microwave. a man in a blue suit standing in front of a mirror. a woman standing in a room with a red rug. a kitchen with a red refrigerator and a red trash can. a woman in a hat standing in front of a table. a woman standing in a kitchen next to a counter. a computer desk with a chair and a computer monitor. a black and white living room with a couch and coffee table. a white tiled bathroom with a bathtub and sink. a sink with a bowl of tomatoes on top of it. a man standing in a living room next to a white couch. a black and white bathroom with a white toilet. a picture of a room with a picture on the wall. a white tiled bathroom with a toilet and shower. a view of a living room from above. a woman standing in a doorway of a room. a computer desk with a keyboard and mouse. a bathroom with a black rug in the middle of the floor. a woman in a green top is standing in a room. a bowl of fruit is sitting on a coffee table. a black and white photo of a desk with a computer. a woman standing in a living room next to another woman. a bedroom with a bed, dresser, and closet. a woman standing in a kitchen next to a table. a clock on the wall of a bathroom. an aerial view of a bedroom with a bed and a desk. a living room filled with furniture and a painting on the wall. a woman in a green shirt and black skirt. a computer generated image of a woman in a kitchen. a man standing in a room with a large rock. a bowl of fruit on a table in a room. a man standing in a room next to pictures on the wall. an aerial view of a bathroom with a toilet and a sink. a woman in a green top is standing in a kitchen. a woman standing in a bathroom next to a sink. a woman in an orange shirt and a black hat. a man standing in a living room next to a white couch. a room with a bed, desk, and a chair. a kitchen with a sink and a microwave. a living room with a white couch and a painting on the wall. a man standing in a room with a red rug. a computer monitor sitting on top of a red desk. a man in a blue suit standing in a room. a woman in a green top is standing in a room. a kitchen with a stove, microwave, toaster and coffee maker. a room with a book shelf and a cabinet. a bathroom with a sink, mirror and toilet. a living room with a white couch and a coffee table. a man in a suit standing in front of a bed. a man in a suit and tie standing in a room. a woman standing in a room next to a red shelf. a bowl of fruit on a table in a living room. a living room with a white couch and a table with a bowl of fruit on it. a living room with a white couch and a black table. a person standing in a room with a book shelf. a computer desk with a computer on top of it. a woman leaning against a wall in a kitchen. a woman standing in a room with a hat on. a sink with a bowl of tomatoes on top of it. a kitchen with a sink, stove, counter, and pictures on the wall. a woman standing in a room next to a man. a man in a blue suit standing in a room. a living room with a white couch and a table with a bowl of fruit on it. a room with a desk and pictures on the wall. a bed room with a neatly made bed and a mirror. a room with a bunch of surfboards hanging on the wall. a bathroom with a sink and a mirror. a computer desk with a monitor, keyboard and mouse. a kitchen with a stove top oven next to a sink. a woman in an orange top standing in a room. a man standing in a living room next to a white couch. a bowl of fruit on a table in a room. a woman standing in a kitchen next to a sink. a computer desk with a monitor, keyboard and mouse. a kitchen with a stove, microwave, toaster and coffee maker. a man standing in a living room next to a couch. a computer desk with a laptop on top of it. a table with a red table runner in a room. a red refrigerator freezer sitting next to a sink. a living room with a couch a table and a chair. a woman in a red and black dress standing in a bathroom. a woman standing in a kitchen next to a table. a woman standing in a kitchen next to a counter. a man standing in front of a computer monitor. a computer monitor sitting on top of a red table. a room with a washer, dryer and pictures on the wall. a sink with a bowl of tomatoes on top of it. a bowl of fruit on a table in a living room. a man in a blue suit standing in a room. a living room with a white couch and a television. a floor plan of a two bedroom apartment. a bathroom with a toilet and a black wall. a bathroom with a sink, toilet and mirror. a bathroom with a shower and a sink. a man in a blue suit standing in a room. a living room with a couch and a table. a bathroom with a toilet and a washer. a man standing in a living room next to a couch. a very modern looking kitchen with a red light hanging from the ceiling. a woman standing in a kitchen next to a red refrigerator. a living room with a white couch and a painting on the wall. a living room with a couch and a table. a sink with a bowl of tomatoes on top of it. a man in a suit standing in a room. a room with a bed, desk, and shelves. a man standing in front of a couch in a living room. a woman standing in a kitchen next to a table. a woman standing in a room next to a table. a person sitting at a table in a room. a room with a red bench and a white wall. a living room with a couch and a table. a living room with a white couch and a table with a bowl of fruit on it. a room with a desk and pictures on the wall. a computer desk with a monitor, keyboard and mouse. a man standing in a living room next to a couch. a room with a chair and a book shelf. a bowl of fruit on a table in a living room. a man standing in a living room next to a couch. a man standing in a living room next to a table. a man standing in a living room next to a couch. a woman standing in a room next to a table. a person standing in a room with shelves. a man in a blue suit standing in a room. a woman standing in a kitchen next to a counter. a room with a bed and pictures on the wall. a woman standing in front of a table with plates on it. a white couch sitting in a living room next to a book shelf. a clock mounted to the side of a wall. a bowl of fruit on a table in a room. a room with a bed, a desk, and a computer monitor. a computer generated image of a room with a mirror. a couple of women standing in a kitchen next to a table. a living room with a couch and a table. a room with a couch, table, and television in it. a man is standing in the doorway of a room. a room with a chair and pictures on the wall. a man standing in front of a book shelf. a man standing in a living room next to a couch. "
          ]
        }
      ]
    },
    {
      "cell_type": "markdown",
      "source": [
        "### Install depedencies"
      ],
      "metadata": {
        "id": "V04-85goXM2S"
      }
    },
    {
      "cell_type": "code",
      "source": [
        "%%capture\n",
        "!pip install -r requirements.txt"
      ],
      "metadata": {
        "collapsed": true,
        "id": "kS90BGibysjW"
      },
      "execution_count": 6,
      "outputs": []
    },
    {
      "cell_type": "markdown",
      "source": [
        "#### Capture dependencies versions"
      ],
      "metadata": {
        "id": "IlJY2Bi_YYGg"
      }
    },
    {
      "cell_type": "code",
      "source": [
        "from importlib.metadata import version\n",
        "\n",
        "import tiktoken\n",
        "import torch\n",
        "import re\n",
        "\n",
        "libs = [\"torch\", \"tiktoken\", \"tensorflow\", \"numpy\", \"pandas\", \"matplotlib\"]\n",
        "for lib in libs:\n",
        "    print(f\"{lib} version:\", version(lib))"
      ],
      "metadata": {
        "colab": {
          "base_uri": "https://localhost:8080/"
        },
        "id": "VnTEBbq1tsaU",
        "outputId": "9bc19980-d269-4110-aa3d-461102d19ae6"
      },
      "execution_count": 7,
      "outputs": [
        {
          "output_type": "stream",
          "name": "stdout",
          "text": [
            "torch version: 2.3.1+cu121\n",
            "tiktoken version: 0.7.0\n",
            "tensorflow version: 2.15.0\n",
            "numpy version: 1.25.2\n",
            "pandas version: 2.2.2\n",
            "matplotlib version: 3.7.1\n"
          ]
        }
      ]
    },
    {
      "cell_type": "markdown",
      "source": [
        "### Build a tokenizer for captions"
      ],
      "metadata": {
        "id": "yO1STUn1Yf1H"
      }
    },
    {
      "cell_type": "code",
      "source": [
        "with open(\"captions.txt\", \"r\", encoding=\"utf-8\") as f:\n",
        "    captions_text = f.read()\n",
        "\n",
        "print(\"Total number of character:\", len(captions_text))\n",
        "print(captions_text.split('.')[0])"
      ],
      "metadata": {
        "colab": {
          "base_uri": "https://localhost:8080/"
        },
        "id": "r_I_-1s_15kX",
        "outputId": "db71841a-0411-4530-a990-420d0743437b"
      },
      "execution_count": 55,
      "outputs": [
        {
          "output_type": "stream",
          "name": "stdout",
          "text": [
            "Total number of character: 81176\n",
            "a red refrigerator freezer sitting next to a sink\n"
          ]
        }
      ]
    },
    {
      "cell_type": "code",
      "source": [
        "preprocessed = re.split(r'([,.:;?_!\"()\\']|--|\\s)', captions_text)\n",
        "preprocessed = [item.strip() for item in preprocessed if item.strip()]\n",
        "print(f'Total number of tokens present in corpus: {len(preprocessed)}')\n",
        "print(preprocessed[:30])"
      ],
      "metadata": {
        "colab": {
          "base_uri": "https://localhost:8080/"
        },
        "id": "_jJgcGOj2crZ",
        "outputId": "ccca35b2-b5ea-4e05-89dc-60cf04a4cc84"
      },
      "execution_count": 56,
      "outputs": [
        {
          "output_type": "stream",
          "name": "stdout",
          "text": [
            "Total number of tokens present in corpus: 19154\n",
            "['a', 'red', 'refrigerator', 'freezer', 'sitting', 'next', 'to', 'a', 'sink', '.', 'a', 'woman', 'standing', 'next', 'to', 'a', 'table', 'with', 'a', 'pie', 'on', 'it', '.', 'a', 'bathroom', 'with', 'a', 'sink', 'and', 'a']\n"
          ]
        }
      ]
    },
    {
      "cell_type": "code",
      "source": [
        "all_words = sorted(set(preprocessed))\n",
        "vocab_size = len(all_words)\n",
        "\n",
        "print(f'Vocab size: {vocab_size}')\n",
        "vocab = {token:integer for integer,token in enumerate(all_words)}\n",
        "for i, item in enumerate(vocab.items()):\n",
        "    print(f'Vocab <> token ID: {item}')\n",
        "    if i >= 50:\n",
        "        break"
      ],
      "metadata": {
        "colab": {
          "base_uri": "https://localhost:8080/"
        },
        "id": "GyJsrvOp2-JW",
        "outputId": "58276321-4935-4dba-ecc0-eb7c7de2386a"
      },
      "execution_count": 10,
      "outputs": [
        {
          "output_type": "stream",
          "name": "stdout",
          "text": [
            "Vocab size: 243\n",
            "Vocab <> token ID: (\"'\", 0)\n",
            "Vocab <> token ID: (',', 1)\n",
            "Vocab <> token ID: ('.', 2)\n",
            "Vocab <> token ID: ('a', 3)\n",
            "Vocab <> token ID: ('above', 4)\n",
            "Vocab <> token ID: ('aerial', 5)\n",
            "Vocab <> token ID: ('against', 6)\n",
            "Vocab <> token ID: ('air', 7)\n",
            "Vocab <> token ID: ('an', 8)\n",
            "Vocab <> token ID: ('and', 9)\n",
            "Vocab <> token ID: ('another', 10)\n",
            "Vocab <> token ID: ('apartment', 11)\n",
            "Vocab <> token ID: ('are', 12)\n",
            "Vocab <> token ID: ('at', 13)\n",
            "Vocab <> token ID: ('back', 14)\n",
            "Vocab <> token ID: ('background', 15)\n",
            "Vocab <> token ID: ('backpack', 16)\n",
            "Vocab <> token ID: ('bath', 17)\n",
            "Vocab <> token ID: ('bathroom', 18)\n",
            "Vocab <> token ID: ('bathtub', 19)\n",
            "Vocab <> token ID: ('bed', 20)\n",
            "Vocab <> token ID: ('bedroom', 21)\n",
            "Vocab <> token ID: ('behind', 22)\n",
            "Vocab <> token ID: ('bench', 23)\n",
            "Vocab <> token ID: ('black', 24)\n",
            "Vocab <> token ID: ('blackboard', 25)\n",
            "Vocab <> token ID: ('blue', 26)\n",
            "Vocab <> token ID: ('book', 27)\n",
            "Vocab <> token ID: ('bookcase', 28)\n",
            "Vocab <> token ID: ('books', 29)\n",
            "Vocab <> token ID: ('bookshelf', 30)\n",
            "Vocab <> token ID: ('bookshelves', 31)\n",
            "Vocab <> token ID: ('boots', 32)\n",
            "Vocab <> token ID: ('bowl', 33)\n",
            "Vocab <> token ID: ('box', 34)\n",
            "Vocab <> token ID: ('boxes', 35)\n",
            "Vocab <> token ID: ('brown', 36)\n",
            "Vocab <> token ID: ('bunch', 37)\n",
            "Vocab <> token ID: ('cabinet', 38)\n",
            "Vocab <> token ID: ('cabinets', 39)\n",
            "Vocab <> token ID: ('can', 40)\n",
            "Vocab <> token ID: ('carpet', 41)\n",
            "Vocab <> token ID: ('ceiling', 42)\n",
            "Vocab <> token ID: ('cell', 43)\n",
            "Vocab <> token ID: ('chair', 44)\n",
            "Vocab <> token ID: ('chairs', 45)\n",
            "Vocab <> token ID: ('checkered', 46)\n",
            "Vocab <> token ID: ('clock', 47)\n",
            "Vocab <> token ID: ('close', 48)\n",
            "Vocab <> token ID: ('closet', 49)\n",
            "Vocab <> token ID: ('clothes', 50)\n"
          ]
        }
      ]
    },
    {
      "cell_type": "code",
      "source": [
        "class TokenizerV1:\n",
        "    def __init__(self, vocab):\n",
        "        self.str_to_int = vocab\n",
        "        self.int_to_str = {i:s for s,i in vocab.items()}\n",
        "\n",
        "    def encode(self, text):\n",
        "        \"\"\"\n",
        "        Tokenizer uses encode method to tokenize texts into integers\n",
        "\n",
        "        Args:\n",
        "          text: A string containing the text to be tokenized.\n",
        "\n",
        "        Returns:\n",
        "          A list of integers representing the tokenized text\n",
        "        \"\"\"\n",
        "        preprocessed = re.split(r'([,.:;?_!\"()\\']|--|\\s)', text)\n",
        "\n",
        "        preprocessed = [\n",
        "            item.strip() for item in preprocessed if item.strip()\n",
        "        ]\n",
        "        ids = [self.str_to_int[s] for s in preprocessed]\n",
        "        return ids\n",
        "\n",
        "    def decode(self, ids):\n",
        "        \"\"\"\n",
        "        Tokenizer uses decode method to convert integers back to text\n",
        "\n",
        "        Args:\n",
        "          ids: A list of integers representing the tokenized text.\n",
        "\n",
        "        Returns:\n",
        "          A string containing the decoded text.\n",
        "        \"\"\"\n",
        "        text = \" \".join([self.int_to_str[i] for i in ids])\n",
        "        # Replace spaces before the specified punctuations\n",
        "        text = re.sub(r'\\s+([,.?!\"()\\'])', r'\\1', text)\n",
        "        return text\n",
        "\n",
        "tokenizer = TokenizerV1(vocab)\n",
        "\n",
        "text = \"a red refrigerator freezer sitting next to a sink\"\n",
        "ids = tokenizer.encode(text)\n",
        "print(f\"Tokenized ids:\", ids)\n",
        "print(f\"Decoded text:\", tokenizer.decode(ids))"
      ],
      "metadata": {
        "colab": {
          "base_uri": "https://localhost:8080/"
        },
        "id": "1fTw8rLP3st5",
        "outputId": "778591bc-0846-4bb9-cc53-73c8b83a5c49"
      },
      "execution_count": 34,
      "outputs": [
        {
          "output_type": "stream",
          "name": "stdout",
          "text": [
            "Tokenized ids: [3, 164, 165, 82, 182, 138, 209, 3, 180]\n",
            "Decoded text: a red refrigerator freezer sitting next to a sink\n"
          ]
        }
      ]
    },
    {
      "cell_type": "markdown",
      "source": [
        "Can you spot any issues with this tokenizer? How would it handle words it hasn't seen before?"
      ],
      "metadata": {
        "id": "oIMwlnAKZZxs"
      }
    },
    {
      "cell_type": "markdown",
      "source": [
        "#### Support out of vocabulary words"
      ],
      "metadata": {
        "id": "RQzuoFRpZMBb"
      }
    },
    {
      "cell_type": "code",
      "source": [
        "all_tokens = sorted(list(set(preprocessed)))\n",
        "all_tokens.extend([\"<|endoftext|>\", \"<|unk|>\"])\n",
        "\n",
        "vocab = {token:integer for integer,token in enumerate(all_tokens)}\n",
        "len(f'Number of tokens: {vocab.items()}')\n",
        "for i, item in enumerate(list(vocab.items())[-5:]):\n",
        "    print(item)"
      ],
      "metadata": {
        "colab": {
          "base_uri": "https://localhost:8080/"
        },
        "id": "L1HOn6M04IpT",
        "outputId": "da0c54b6-c75d-4cb6-95f8-4f594478168e"
      },
      "execution_count": 14,
      "outputs": [
        {
          "output_type": "stream",
          "name": "stdout",
          "text": [
            "('women', 240)\n",
            "('wooden', 241)\n",
            "('yellow', 242)\n",
            "('<|endoftext|>', 243)\n",
            "('<|unk|>', 244)\n"
          ]
        }
      ]
    },
    {
      "cell_type": "code",
      "source": [
        "class TokenizerV2:\n",
        "    def __init__(self, vocab):\n",
        "        self.str_to_int = vocab\n",
        "        self.int_to_str = { i:s for s,i in vocab.items()}\n",
        "\n",
        "    def encode(self, text):\n",
        "        \"\"\"\n",
        "        Tokenizer uses encode method to tokenize texts into integers\n",
        "\n",
        "        Args:\n",
        "          text: A string containing the text to be tokenized.\n",
        "\n",
        "        Returns:\n",
        "          A list of integers representing the tokenized text\n",
        "        \"\"\"\n",
        "        preprocessed = re.split(r'([,.:;?_!\"()\\']|--|\\s)', text)\n",
        "        preprocessed = [item.strip() for item in preprocessed if item.strip()]\n",
        "        preprocessed = [\n",
        "            item if item in self.str_to_int\n",
        "            else \"<|unk|>\" for item in preprocessed\n",
        "        ]\n",
        "\n",
        "        ids = [self.str_to_int[s] for s in preprocessed]\n",
        "        return ids\n",
        "\n",
        "    def decode(self, ids):\n",
        "        \"\"\"\n",
        "        Tokenizer uses decode method to convert integers back to text\n",
        "\n",
        "        Args:\n",
        "          ids: A list of integers representing the tokenized text.\n",
        "\n",
        "        Returns:\n",
        "          A string containing the decoded text.\n",
        "        \"\"\"\n",
        "        text = \" \".join([self.int_to_str[i] for i in ids])\n",
        "        # Replace spaces before the specified punctuations\n",
        "        text = re.sub(r'\\s+([,.?!\"()\\'])', r'\\1', text)\n",
        "        return text"
      ],
      "metadata": {
        "id": "sRL7hKNl4gFk"
      },
      "execution_count": 42,
      "outputs": []
    },
    {
      "cell_type": "code",
      "source": [
        "tokenizer = TokenizerV2(vocab)\n",
        "\n",
        "text1 = \"Test is a new string not in original vocabulary.\"\n",
        "text2 = \"a red refrigerator freezer sitting next to a sink\"\n",
        "\n",
        "\n",
        "text = \" <|EndOfText|> \".join((text1, text2))\n",
        "\n",
        "print(text)"
      ],
      "metadata": {
        "colab": {
          "base_uri": "https://localhost:8080/"
        },
        "id": "9keKVHJV4i23",
        "outputId": "6e043093-c6e3-4125-f9a5-29a2f0a21b28"
      },
      "execution_count": 43,
      "outputs": [
        {
          "output_type": "stream",
          "name": "stdout",
          "text": [
            "Test is a new string not in original vocabulary. <|EndOfText|> a red refrigerator freezer sitting next to a sink\n"
          ]
        }
      ]
    },
    {
      "cell_type": "code",
      "source": [
        "tokenizer.encode(text)\n"
      ],
      "metadata": {
        "colab": {
          "base_uri": "https://localhost:8080/"
        },
        "id": "ZMVq3cUL4wvG",
        "outputId": "6c200ae4-e319-4245-b2ad-23746166d7f9"
      },
      "execution_count": 44,
      "outputs": [
        {
          "output_type": "execute_result",
          "data": {
            "text/plain": [
              "[244,\n",
              " 107,\n",
              " 3,\n",
              " 244,\n",
              " 244,\n",
              " 244,\n",
              " 105,\n",
              " 244,\n",
              " 244,\n",
              " 2,\n",
              " 244,\n",
              " 3,\n",
              " 164,\n",
              " 165,\n",
              " 82,\n",
              " 182,\n",
              " 138,\n",
              " 209,\n",
              " 3,\n",
              " 180]"
            ]
          },
          "metadata": {},
          "execution_count": 44
        }
      ]
    },
    {
      "cell_type": "code",
      "source": [
        "tokenizer.decode(tokenizer.encode(text))\n"
      ],
      "metadata": {
        "colab": {
          "base_uri": "https://localhost:8080/",
          "height": 35
        },
        "id": "pmY_yFT44zTQ",
        "outputId": "d5fb9ffb-1408-407b-e6fd-0f2b65aaa797"
      },
      "execution_count": 45,
      "outputs": [
        {
          "output_type": "execute_result",
          "data": {
            "text/plain": [
              "'<|unk|> is a <|unk|> <|unk|> <|unk|> in <|unk|> <|unk|>. <|unk|> a red refrigerator freezer sitting next to a sink'"
            ],
            "application/vnd.google.colaboratory.intrinsic+json": {
              "type": "string"
            }
          },
          "metadata": {},
          "execution_count": 45
        }
      ]
    },
    {
      "cell_type": "markdown",
      "source": [
        "We can now see words not in the vocabulary be represented as `<|unk|>`."
      ],
      "metadata": {
        "id": "7AMR00aKbqMx"
      }
    },
    {
      "cell_type": "markdown",
      "source": [
        "### Compare w/ BytePair encoding"
      ],
      "metadata": {
        "id": "WAIF8awhcIGZ"
      }
    },
    {
      "cell_type": "code",
      "source": [
        "tokenizer = tiktoken.get_encoding(\"gpt2\")\n",
        "enc_text = tokenizer.encode(captions_text)\n",
        "print(f\"Length of encoded text: {len(enc_text)}\")"
      ],
      "metadata": {
        "colab": {
          "base_uri": "https://localhost:8080/"
        },
        "id": "mDjS-ah-SIfg",
        "outputId": "c97b3f43-6c15-48f4-9d61-b0d61b96c6a9"
      },
      "execution_count": 57,
      "outputs": [
        {
          "output_type": "stream",
          "name": "stdout",
          "text": [
            "Length of encoded text: 19256\n"
          ]
        }
      ]
    },
    {
      "cell_type": "markdown",
      "source": [
        "#### Inspect encoded text (context and next word)"
      ],
      "metadata": {
        "id": "MUvB45K8dERq"
      }
    },
    {
      "cell_type": "code",
      "source": [
        "enc_sample = enc_text[50:]\n",
        "context_size = 4\n",
        "\n",
        "x = enc_sample[:context_size]\n",
        "y = enc_sample[1:context_size+1]\n",
        "\n",
        "print(f\"enc_sample: {enc_sample}\")\n",
        "print(f\"x: {x}\")\n",
        "print(f\"y:      {y}\")\n",
        "\n",
        "for i in range(1, context_size+1):\n",
        "    context = enc_sample[:i]\n",
        "    desired = enc_sample[i]\n",
        "\n",
        "    print(f\"\"\"Token Id Context: {context}, \"---->\", Desired Id: {desired}\"\"\")"
      ],
      "metadata": {
        "colab": {
          "base_uri": "https://localhost:8080/"
        },
        "id": "B9Q2cFK_SISN",
        "outputId": "23f74219-115e-40c0-a42d-41501c0a05c8"
      },
      "execution_count": 53,
      "outputs": [
        {
          "output_type": "stream",
          "name": "stdout",
          "text": [
            "enc_sample: [5581, 13, 257, 2877, 2119, 351, 257, 18507, 257, 3084, 290, 257, 18316, 13, 257, 2266, 30500, 30967, 5586, 1306, 284, 257, 27000, 14361, 13, 257, 3644, 6915, 351, 257, 5671, 11, 10586, 290, 10211, 13, 257, 2415, 5055, 287, 257, 2119, 1306, 284, 257, 1492, 18316, 13, 257, 2415, 5055, 287, 257, 9592, 351, 257, 2266, 14477, 319, 262, 4314, 13, 257, 2119, 351, 257, 3644, 6915, 290, 257, 5118, 13, 257, 2415, 5055, 287, 257, 2119, 1306, 284, 257, 3355, 351, 5986, 319, 340, 13, 257, 2119, 351, 257, 1492, 18316, 290, 257, 5118, 13, 257, 2415, 5055, 287, 257, 2119, 1306, 284, 257, 1492, 18316, 13, 257, 3084, 351, 257, 9396, 286, 8234, 319, 1353, 286, 340, 13, 257, 2119, 351, 257, 1492, 18316, 290, 257, 5118, 13, 257, 2415, 5055, 287, 2166, 286, 257, 1492, 18316, 13, 257, 2415, 5055, 287, 257, 9592, 1306, 284, 257, 27635, 1353, 14361, 13, 257, 2877, 2119, 351, 257, 18507, 290, 257, 3084, 13, 257, 1048, 5055, 287, 257, 2119, 351, 2266, 290, 2330, 13091, 13, 257, 1048, 5055, 287, 257, 2119, 351, 257, 3996, 13, 257, 9396, 286, 8234, 319, 257, 3084, 287, 257, 2877, 2119, 13, 257, 12436, 351, 2042, 7714, 290, 257, 2330, 14595, 13, 257, 2877, 2119, 351, 257, 18507, 290, 257, 3084, 13, 257, 3644, 5671, 5586, 319, 1353, 286, 257, 13510, 18316, 13, 257, 2266, 30500, 30967, 5586, 1306, 284, 257, 14595, 13, 257, 1048, 5055, 287, 257, 2119, 351, 257, 3996, 290, 21615, 13, 257, 582, 5055, 287, 257, 2119, 1306, 284, 257, 6915, 13, 257, 2877, 2119, 5901, 351, 13091, 290, 257, 6228, 3159, 31557, 13, 257, 2119, 351, 257, 3996, 290, 257, 6915, 287, 340, 13, 257, 2415, 5055, 287, 257, 2119, 3375, 319, 257, 2685, 3072, 13, 257, 2877, 2119, 351, 257, 2330, 18507, 290, 257, 12036, 319, 262, 3355, 13, 257, 2877, 2119, 351, 257, 2330, 18507, 290, 257, 2042, 3084, 13, 257, 2415, 318, 5055, 287, 257, 2119, 351, 20726, 13, 257, 12436, 351, 257, 16146, 290, 257, 14595, 13, 257, 12436, 351, 257, 16146, 11, 14595, 11, 290, 10162, 13, 257, 2877, 2119, 351, 257, 2330, 18507, 290, 257, 2042, 6891, 3084, 13, 257, 1048, 287, 257, 2119, 351, 257, 1492, 18316, 13, 257, 582, 318, 5055, 287, 257, 2119, 351, 13091, 13, 257, 2415, 5055, 287, 2166, 286, 257, 1492, 18316, 13, 257, 12436, 351, 257, 2330, 14595, 290, 256, 3902, 7714, 13, 257, 2042, 290, 2330, 4590, 286, 257, 6915, 351, 257, 3644, 13, 257, 12436, 351, 257, 16146, 290, 257, 14595, 13, 257, 2042, 290, 2330, 2877, 2119, 351, 257, 18507, 290, 6891, 3084, 13, 257, 2119, 351, 257, 1492, 18316, 290, 257, 5581, 13, 257, 2119, 351, 257, 3996, 290, 257, 3084, 351, 257, 15061, 287, 340, 13, 257, 2415, 5055, 287, 257, 2877, 2119, 1306, 284, 257, 2266, 3084, 13, 257, 2119, 351, 257, 1492, 18316, 290, 257, 16146, 13, 257, 12436, 351, 257, 14595, 290, 257, 12036, 319, 262, 3355, 13, 257, 2415, 287, 257, 4077, 10147, 5055, 287, 257, 2119, 13, 281, 17789, 1570, 286, 257, 2877, 2119, 290, 17423, 2119, 13, 257, 12036, 286, 257, 2415, 338, 1986, 290, 2951, 13, 257, 2415, 287, 257, 12436, 351, 257, 7837, 37995, 290, 16146, 13, 257, 2415, 5055, 287, 257, 12436, 1306, 284, 257, 14595, 13, 257, 2415, 5055, 287, 257, 9592, 1306, 284, 257, 3753, 13, 257, 2119, 351, 257, 1492, 18316, 290, 257, 5118, 13, 257, 1048, 287, 281, 10912, 19750, 318, 5055, 287, 257, 2119, 13, 257, 2415, 5055, 287, 257, 9592, 1306, 284, 257, 2266, 30500, 13, 257, 582, 5055, 287, 2166, 286, 257, 2330, 29461, 13, 257, 2119, 351, 257, 6915, 290, 257, 5118, 287, 340, 13, 257, 2119, 351, 257, 6915, 290, 5986, 319, 262, 3355, 13, 257, 12436, 351, 257, 2266, 16146, 290, 257, 2330, 3355, 13, 257, 2415, 5055, 287, 257, 2119, 1306, 284, 257, 3084, 13, 257, 3644, 2119, 351, 257, 6915, 290, 257, 5118, 13, 257, 2119, 351, 257, 2266, 30500, 290, 5986, 319, 262, 3355, 13, 257, 582, 5055, 287, 257, 2877, 2119, 1306, 284, 257, 18507, 13, 257, 2877, 2119, 351, 257, 2330, 18507, 290, 257, 2042, 6891, 3084, 13, 257, 2119, 351, 257, 1492, 18316, 290, 257, 5118, 13, 257, 2877, 2119, 5901, 351, 13091, 290, 257, 12036, 319, 262, 3355, 13, 257, 582, 5055, 287, 257, 2877, 2119, 1306, 284, 257, 3084, 13, 257, 2119, 351, 257, 6915, 290, 5986, 319, 262, 3355, 13, 257, 12436, 351, 257, 14595, 11, 10162, 11, 290, 7837, 37995, 13, 257, 14043, 351, 257, 3996, 290, 257, 1755, 1302, 13, 257, 2415, 5055, 287, 257, 12436, 1306, 284, 257, 7837, 37995, 13, 257, 12436, 351, 257, 14595, 11, 16146, 290, 257, 10162, 13, 257, 2415, 287, 257, 4077, 1353, 5055, 287, 257, 2119, 13, 257, 2415, 5055, 287, 257, 9592, 1306, 284, 257, 3084, 13, 257, 9592, 351, 257, 27635, 1353, 14361, 5586, 1306, 284, 257, 3753, 13, 257, 2877, 2119, 351, 257, 2266, 18507, 290, 257, 31557, 13, 257, 582, 5055, 287, 2166, 286, 257, 1492, 18316, 13, 257, 2042, 290, 2330, 4590, 286, 257, 6915, 351, 257, 3644, 13, 257, 2119, 351, 257, 3084, 11, 18791, 290, 257, 2266, 30500, 13, 257, 2415, 5055, 287, 2166, 286, 257, 1492, 18316, 13, 257, 2415, 5055, 287, 257, 9592, 1306, 284, 257, 3084, 13, 257, 2415, 5055, 287, 257, 9592, 1306, 284, 257, 3084, 13, 257, 1048, 5055, 287, 257, 2877, 2119, 351, 257, 3644, 13, 257, 14595, 351, 257, 9396, 286, 23972, 319, 1353, 286, 340, 13, 257, 2415, 5055, 287, 257, 9592, 1306, 284, 257, 3084, 13, 257, 9396, 286, 8234, 319, 257, 3084, 287, 257, 2877, 2119, 13, 257, 2119, 351, 257, 1492, 18316, 290, 257, 13447, 13, 257, 2415, 5055, 287, 257, 9592, 1306, 284, 257, 3084, 13, 257, 3644, 5671, 5586, 319, 1353, 286, 257, 6915, 13, 257, 2415, 287, 257, 4077, 1353, 5055, 287, 257, 2119, 13, 257, 2119, 351, 257, 5118, 11, 6915, 11, 290, 3644, 5671, 13, 257, 2119, 351, 257, 5118, 290, 257, 1492, 18316, 13, 257, 2119, 351, 257, 5118, 290, 257, 1492, 18316, 13, 257, 1048, 5055, 287, 257, 2119, 351, 5986, 319, 262, 3355, 13, 257, 3644, 5671, 5586, 319, 1353, 286, 257, 2266, 6915, 13, 257, 2042, 290, 2330, 4590, 286, 257, 6915, 351, 257, 3644, 13, 257, 3644, 5671, 5586, 319, 1353, 286, 257, 2330, 18507, 13, 257, 582, 5055, 287, 257, 2877, 2119, 1306, 284, 257, 18507, 13, 257, 2119, 351, 257, 1492, 18316, 290, 257, 13447, 13, 257, 3644, 6915, 351, 257, 5671, 11, 10586, 290, 10211, 13, 257, 3644, 6915, 290, 5118, 287, 257, 2119, 13, 257, 582, 287, 257, 4171, 6050, 5055, 287, 257, 2119, 13, 257, 9396, 286, 8234, 5586, 319, 1353, 286, 257, 3084, 13, 257, 3644, 6915, 351, 257, 5118, 290, 5986, 319, 262, 3355, 13, 257, 2877, 2119, 351, 257, 18507, 290, 257, 3084, 13, 257, 3644, 6915, 351, 257, 13224, 319, 1353, 286, 340, 13, 257, 2415, 5055, 287, 257, 9592, 1306, 284, 257, 3084, 13, 257, 2042, 290, 2330, 4590, 286, 257, 6915, 351, 257, 3644, 13, 257, 2415, 5055, 287, 257, 12436, 1306, 284, 257, 7837, 12202, 13, 257, 9082, 286, 257, 1048, 5055, 2157, 257, 29461, 13, 257, 2877, 2119, 351, 257, 2266, 14477, 290, 2330, 7714, 13, 257, 2266, 30500, 30967, 5586, 1306, 284, 257, 14595, 13, 257, 3644, 6915, 351, 257, 5118, 290, 257, 3644, 5671, 13, 257, 2877, 2119, 351, 257, 5581, 290, 257, 2266, 14477, 13, 257, 2415, 5055, 287, 257, 2119, 351, 20726, 290, 257, 3084, 13, 257, 2119, 351, 257, 3084, 11, 18791, 290, 257, 5581, 13, 257, 2415, 5055, 287, 257, 2119, 351, 257, 2266, 14477, 13, 257, 2119, 351, 257, 3084, 290, 257, 13224, 319, 340, 13, 257, 1048, 5055, 287, 2166, 286, 257, 12436, 3420, 13, 257, 2415, 5055, 287, 257, 9592, 1306, 284, 257, 3084, 13, 257, 1048, 5055, 287, 257, 2119, 351, 257, 3420, 1280, 13, 257, 23959, 351, 257, 4286, 286, 257, 2415, 319, 262, 3355, 13, 257, 9592, 351, 257, 2266, 30500, 290, 2330, 3753, 21246, 13, 257, 2415, 287, 281, 10912, 10147, 5055, 287, 257, 2119, 13, 257, 2415, 5055, 287, 257, 9592, 1306, 284, 257, 3753, 13, 257, 2877, 2119, 351, 257, 18507, 257, 3084, 290, 257, 18316, 13, 257, 582, 5055, 287, 257, 12436, 1306, 284, 257, 16146, 13, 257, 27635, 1353, 14361, 5586, 1306, 284, 257, 3355, 351, 5986, 319, 340, 13, 257, 2877, 2119, 5901, 351, 13091, 290, 257, 7872, 13447, 13, 257, 1048, 5055, 287, 257, 12436, 1306, 284, 257, 14595, 13, 257, 2877, 2119, 5901, 351, 13091, 290, 5986, 319, 262, 3355, 13, 257, 3644, 7560, 2939, 286, 257, 2119, 351, 257, 3996, 290, 257, 6915, 13, 257, 2119, 326, 468, 257, 7684, 286, 20726, 287, 340, 13, 257, 2119, 351, 257, 1492, 18316, 290, 257, 5118, 13, 257, 12436, 351, 257, 14595, 11, 16146, 290, 257, 12036, 319, 262, 3355, 13, 257, 9592, 351, 257, 27635, 1353, 14361, 5586, 1306, 284, 257, 3753, 13, 257, 2415, 5055, 1306, 284, 257, 3084, 351, 13375, 286, 2057, 319, 340, 13, 257, 582, 5055, 287, 257, 2877, 2119, 1306, 284, 257, 18507, 13, 257, 1048, 5055, 287, 257, 2119, 351, 257, 2266, 3084, 13, 257, 2415, 287, 281, 10912, 10147, 318, 5055, 287, 257, 2119, 13, 257, 2415, 5055, 287, 257, 2119, 1306, 284, 257, 13510, 13447, 13, 257, 2877, 2119, 351, 257, 2330, 18507, 290, 257, 3084, 351, 257, 9396, 286, 8234, 319, 340, 13, 257, 582, 5055, 287, 257, 2877, 2119, 1306, 284, 257, 3084, 13, 257, 2415, 5055, 287, 2166, 286, 257, 2266, 30500, 13, 257, 2119, 351, 257, 20518, 4572, 287, 340, 13, 257, 582, 5055, 287, 257, 2119, 351, 257, 3996, 290, 257, 6915, 13, 257, 2415, 5055, 287, 257, 9592, 1306, 284, 257, 3084, 13, 257, 12436, 351, 257, 16146, 290, 257, 14643, 22549, 13, 257, 582, 5055, 287, 2166, 286, 257, 10162, 287, 257, 2119, 13, 257, 2415, 5055, 287, 257, 2119, 351, 257, 3084, 290, 18791, 13, 257, 1048, 5055, 287, 257, 2119, 351, 257, 2266, 22526, 13, 257, 2415, 5055, 287, 257, 12436, 1306, 284, 257, 14595, 13, 257, 2877, 2119, 351, 257, 2330, 18507, 290, 257, 2042, 6891, 3084, 13, 257, 2119, 351, 257, 1492, 18316, 290, 257, 13447, 13, 257, 2119, 351, 257, 5118, 290, 257, 12036, 319, 262, 3355, 13, 257, 1048, 5055, 287, 257, 2119, 351, 257, 9396, 286, 8234, 13, 257, 2119, 351, 257, 7872, 13447, 290, 257, 2042, 5118, 13, 257, 9592, 351, 257, 2266, 30500, 290, 5986, 319, 262, 3355, 13, 257, 3644, 5671, 5586, 319, 1353, 286, 257, 6915, 13, 257, 2415, 5055, 287, 257, 9592, 1306, 284, 257, 3753, 13, 257, 3084, 351, 257, 2266, 3084, 17490, 287, 257, 2119, 351, 5986, 319, 262, 3355, 13, 257, 9396, 286, 23972, 5586, 319, 1353, 286, 257, 14595, 13, 257, 2415, 287, 257, 6877, 5055, 287, 257, 2119, 13, 257, 2119, 351, 257, 10162, 290, 257, 5581, 287, 340, 13, 257, 2877, 2119, 351, 257, 2330, 18507, 290, 257, 12036, 319, 262, 3355, 13, 257, 2119, 351, 257, 3084, 11, 18791, 11, 290, 5986, 319, 262, 3355, 13, 257, 9592, 351, 257, 2266, 30500, 290, 2330, 3753, 21246, 13, 257, 2877, 2119, 5901, 351, 13091, 290, 257, 1492, 18316, 13, 257, 2877, 2119, 351, 257, 2330, 18507, 290, 257, 12036, 319, 262, 3355, 13, 257, 1048, 5055, 287, 257, 2119, 351, 257, 2266, 30500, 13, 281, 17789, 1570, 286, 257, 2877, 2119, 290, 14043, 13, 257, 1048, 5055, 287, 257, 2119, 351, 257, 8801, 319, 262, 3355, 13, 257, 2266, 30500, 30967, 5586, 287, 257, 9592, 13, 257, 2415, 5055, 287, 2166, 286, 257, 3355, 351, 5986, 319, 340, 13, 257, 2415, 5055, 287, 257, 32439, 286, 257, 2156, 13, 281, 16965, 1570, 286, 257, 2877, 2119, 290, 17423, 2119, 13, 257, 1048, 5055, 287, 2166, 286, 257, 6228, 3159, 31557, 13, 257, 2415, 5055, 287, 2166, 286, 257, 3084, 351, 2057, 319, 340, 13, 257, 2415, 5055, 287, 2166, 286, 257, 1492, 18316, 13, 257, 582, 5055, 287, 257, 12436, 1306, 284, 257, 20518, 4572, 13, 257, 2119, 351, 257, 1492, 18316, 290, 257, 5118, 13, 257, 9396, 286, 8234, 319, 257, 3084, 287, 257, 2877, 2119, 13, 257, 14595, 351, 257, 9396, 286, 23972, 319, 1353, 286, 340, 13, 257, 12436, 351, 257, 373, 372, 290, 257, 16146, 287, 340, 13, 257, 3644, 6915, 351, 257, 5118, 290, 257, 3644, 5671, 13, 257, 2415, 5055, 287, 257, 2119, 1306, 284, 257, 582, 13, 257, 582, 5055, 287, 257, 2877, 2119, 1306, 284, 257, 18507, 13, 257, 2877, 2119, 351, 257, 2330, 18507, 290, 257, 12036, 319, 262, 3355, 13, 257, 2330, 7837, 12202, 5586, 1306, 284, 257, 2330, 256, 3902, 3355, 13, 257, 2415, 5055, 287, 2166, 286, 257, 3644, 5671, 13, 257, 9592, 351, 257, 27635, 1353, 14361, 290, 257, 14595, 13, 257, 1048, 5055, 287, 257, 2119, 351, 257, 8801, 319, 262, 3355, 13, 257, 3644, 5671, 5586, 319, 1353, 286, 257, 6915, 13, 257, 2330, 256, 3902, 12436, 351, 257, 2042, 14477, 319, 262, 4314, 13, 257, 2119, 351, 257, 1492, 18316, 290, 257, 3420, 13, 257, 2042, 290, 2330, 4590, 286, 257, 14043, 13, 257, 2415, 5055, 287, 257, 9592, 1306, 284, 257, 3084, 13, 257, 2330, 3355, 351, 257, 18316, 290, 5986, 319, 340, 13, 257, 2042, 290, 2330, 2877, 2119, 351, 257, 2330, 18507, 13, 257, 2415, 5055, 287, 257, 9592, 1306, 284, 257, 3084, 13, 257, 582, 287, 257, 6050, 5055, 1306, 284, 257, 1492, 18316, 13, 257, 2042, 290, 2330, 2877, 2119, 351, 257, 18507, 290, 6891, 3084, 13, 257, 12436, 351, 257, 14595, 11, 16146, 11, 10162, 290, 5986, 319, 262, 3355, 13, 257, 2877, 2119, 351, 257, 18507, 290, 257, 3644, 13, 257, 12436, 351, 257, 14595, 290, 257, 7837, 37995, 13, 257, 4314, 1410, 286, 257, 734, 14043, 7962, 13, 257, 2415, 5055, 287, 257, 2119, 351, 257, 8801, 319, 262, 3355, 13, 257, 2877, 2119, 351, 257, 18507, 290, 257, 3084, 13, 257, 1048, 5055, 287, 257, 2119, 351, 257, 2266, 14477, 13, 257, 2042, 290, 2330, 4590, 286, 257, 6915, 351, 257, 3644, 13, 257, 3155, 286, 1466, 5055, 287, 257, 9592, 1306, 284, 1123, 584, 13, 257, 2119, 351, 257, 3084, 11, 18791, 290, 5986, 319, 262, 3355, 13, 257, 2877, 2119, 351, 257, 2330, 18507, 290, 257, 12036, 319, 262, 3355, 13, 257, 2119, 351, 257, 3996, 290, 257, 5581, 287, 340, 13, 257, 2119, 351, 257, 3420, 290, 257, 18316, 319, 262, 3355, 13, 257, 2877, 2119, 351, 257, 18507, 290, 257, 3996, 13, 257, 9592, 351, 257, 3753, 11, 14595, 11, 14361, 11, 290, 5986, 319, 262, 3355, 13, 257, 2415, 287, 257, 2266, 290, 2042, 6576, 5055, 287, 257, 2119, 13, 257, 2877, 2119, 5901, 351, 13091, 290, 257, 12036, 319, 262, 3355, 13, 257, 12436, 351, 257, 14595, 290, 257, 10162, 13, 257, 2415, 287, 257, 4077, 10147, 5055, 287, 257, 32439, 13, 257, 9592, 351, 257, 27635, 1353, 14361, 1306, 284, 257, 14595, 13, 257, 4286, 286, 257, 12436, 351, 257, 14595, 290, 257, 5894, 263, 13, 257, 582, 5055, 287, 257, 2877, 2119, 1306, 284, 257, 2330, 18507, 13, 257, 12436, 351, 257, 16146, 290, 257, 14643, 22549, 13, 257, 2415, 5055, 287, 257, 9592, 1306, 284, 257, 3084, 13, 257, 2042, 290, 2330, 2119, 351, 257, 5118, 290, 3835, 258, 1652, 13, 257, 2415, 5055, 287, 2166, 286, 257, 10162, 287, 257, 2119, 13, 257, 2119, 351, 257, 10162, 290, 257, 5581, 287, 340, 13, 257, 2877, 2119, 351, 257, 2330, 18507, 290, 257, 3084, 351, 257, 9396, 286, 8234, 319, 340, 13, 257, 2877, 2119, 351, 257, 18507, 290, 257, 3084, 13, 257, 9592, 351, 257, 30500, 290, 257, 27000, 13, 257, 2119, 351, 257, 3996, 290, 257, 3084, 351, 257, 15061, 287, 340, 13, 257, 582, 5055, 287, 257, 12436, 1306, 284, 257, 14595, 13, 257, 3996, 5586, 319, 1353, 286, 257, 13510, 4314, 1306, 284, 257, 3084, 13, 257, 2119, 351, 257, 3996, 290, 257, 5581, 13, 257, 2415, 287, 257, 4077, 1353, 290, 2042, 23967, 5055, 287, 257, 2119, 13, 257, 14043, 351, 257, 3996, 290, 257, 4286, 319, 262, 3355, 13, 257, 2415, 287, 257, 4077, 1353, 318, 5055, 287, 257, 2119, 13, 257, 2415, 5055, 287, 257, 9592, 1306, 284, 257, 3084, 13, 257, 2266, 30500, 30967, 5586, 1306, 284, 257, 14595, 13, 257, 9592, 351, 257, 27635, 11, 14595, 290, 3753, 1353, 13, 257, 582, 5055, 287, 257, 2119, 1306, 284, 257, 3644, 13, 257, 2119, 351, 257, 1492, 18316, 290, 257, 9396, 13, 257, 2415, 5055, 287, 257, 9592, 1306, 284, 257, 2266, 30500, 13, 257, 1969, 510, 286, 257, 3420, 5412, 319, 257, 3420, 13, 281, 17789, 1570, 286, 257, 2877, 2119, 290, 17423, 2119, 13, 257, 2119, 351, 257, 3996, 290, 257, 5581, 287, 340, 13, 257, 2119, 351, 257, 12036, 286, 257, 2415, 287, 257, 2266, 6576, 13, 257, 582, 5055, 287, 257, 2119, 5901, 351, 13091, 13, 257, 2877, 2119, 351, 257, 18507, 290, 257, 3084, 13, 257, 2415, 287, 257, 6877, 5055, 287, 257, 9592, 13, 257, 2119, 351, 257, 1492, 18316, 290, 257, 5118, 13, 257, 2415, 5055, 287, 257, 12436, 1306, 284, 257, 20518, 4572, 13, 257, 3644, 5671, 5586, 319, 1353, 286, 257, 2266, 6915, 13, 257, 582, 5055, 287, 257, 2119, 1306, 284, 257, 5118, 13, 257, 582, 5055, 287, 257, 2877, 2119, 1306, 284, 257, 7872, 13447, 13, 257, 2415, 287, 257, 4077, 1353, 318, 5055, 287, 257, 2119, 13, 257, 12436, 351, 257, 14595, 11, 16146, 11, 290, 10162, 13, 257, 582, 287, 257, 4171, 6050, 5055, 287, 257, 2119, 13, 257, 2119, 351, 257, 1492, 18316, 290, 257, 13447, 13, 257, 582, 5055, 287, 257, 12436, 1306, 284, 257, 14643, 13, 257, 12436, 351, 257, 2042, 14477, 319, 262, 4314, 13, 1115, 5986, 286, 257, 2415, 351, 607, 2832, 319, 607, 1986, 13, 257, 12436, 351, 257, 16146, 290, 257, 12036, 319, 262, 3355, 13, 257, 2877, 2119, 5901, 351, 13091, 290, 257, 6228, 3159, 31557, 13, 257, 2877, 2119, 351, 257, 2330, 18507, 290, 257, 3084, 351, 257, 9396, 286, 8234, 319, 340, 13, 257, 2877, 2119, 351, 257, 6228, 3159, 31557, 319, 257, 1302, 13, 257, 2877, 2119, 351, 257, 2330, 18507, 290, 257, 12036, 319, 262, 3355, 13, 257, 2877, 2119, 5901, 351, 13091, 290, 257, 12036, 319, 262, 3355, 13, 257, 2415, 5055, 287, 257, 9592, 1306, 284, 257, 27635, 1353, 14361, 13, 257, 2042, 290, 2330, 2877, 2119, 351, 257, 18507, 290, 6891, 3084, 13, 257, 12436, 351, 257, 16146, 290, 257, 373, 372, 13, 257, 1048, 5055, 287, 257, 2119, 351, 2042, 290, 2330, 7714, 13, 257, 2415, 5055, 287, 257, 2119, 351, 257, 3084, 13, 257, 2415, 287, 257, 4077, 10147, 290, 2042, 23967, 5055, 287, 257, 2119, 13, 257, 1048, 318, 2712, 257, 983, 319, 257, 3644, 13, 257, 12436, 351, 257, 2330, 256, 3902, 3355, 290, 4314, 13, 257, 1048, 5055, 287, 257, 2119, 351, 5986, 319, 262, 3355, 13, 257, 3996, 2119, 351, 257, 29776, 925, 3996, 290, 257, 5118, 13, 257, 2877, 2119, 351, 257, 18507, 290, 257, 3644, 13, 257, 2119, 351, 257, 7872, 13447, 290, 257, 2042, 4314, 13, 257, 12436, 351, 257, 16146, 290, 257, 20518, 4572, 13, 257, 2119, 351, 257, 5118, 290, 257, 1492, 18316, 13, 257, 2119, 351, 257, 1492, 18316, 290, 257, 5118, 13, 257, 2877, 2119, 351, 257, 2266, 14477, 290, 2330, 7714, 13, 257, 3155, 286, 1466, 5055, 287, 257, 9592, 1306, 284, 257, 3084, 13, 257, 2415, 5055, 287, 257, 2119, 351, 257, 31557, 13, 257, 14595, 351, 257, 9396, 286, 23972, 319, 1353, 286, 340, 13, 257, 2415, 5055, 287, 257, 32439, 286, 257, 2119, 13, 257, 2415, 5055, 287, 257, 12436, 1306, 284, 257, 3996, 13, 257, 2119, 351, 257, 10162, 290, 257, 5581, 287, 340, 13, 257, 3644, 6915, 351, 257, 10211, 290, 257, 5671, 13, 257, 2415, 5055, 287, 257, 2119, 351, 5986, 319, 262, 3355, 13, 257, 582, 287, 257, 4077, 10147, 318, 6155, 287, 257, 2119, 13, 257, 2415, 5055, 287, 2166, 286, 257, 3355, 351, 5986, 319, 340, 13, 257, 1048, 5055, 287, 257, 2119, 351, 257, 3996, 13, 257, 2042, 290, 2330, 4590, 286, 257, 6915, 351, 257, 3644, 13, 257, 2877, 2119, 5901, 351, 13091, 290, 257, 12036, 319, 262, 3355, 13, 257, 2877, 2119, 351, 257, 2330, 18507, 290, 257, 12036, 319, 262, 3355, 13, 257, 582, 287, 257, 4171, 6050, 318, 8218, 257, 2119, 13, 257, 3644, 6915, 351, 257, 13224, 319, 1353, 286, 340, 13, 257, 2042, 290, 2330, 2877, 2119, 351, 257, 18507, 290, 6891, 3084, 13, 257, 3644, 5671, 5586, 319, 1353, 286, 257, 6915, 13, 257, 2415, 5055, 287, 2166, 286, 257, 3084, 351, 2057, 319, 340, 13, 257, 2415, 287, 257, 4077, 10147, 318, 5055, 287, 257, 9592, 13, 257, 2119, 351, 257, 3996, 11, 6915, 290, 5581, 13, 257, 2415, 287, 257, 4077, 1353, 290, 2042, 23967, 5055, 287, 257, 2119, 13, 257, 2415, 5055, 287, 257, 9592, 1306, 284, 257, 27635, 1353, 14361, 13, 257, 2415, 287, 257, 6877, 5055, 287, 257, 2119, 13, 257, 3644, 7560, 2939, 286, 257, 2119, 351, 257, 6915, 290, 5118, 13, 257, 3644, 7560, 2939, 286, 257, 2877, 2119, 13, 257, 2877, 2119, 351, 257, 8801, 290, 5986, 319, 262, 3355, 13, 257, 2877, 2119, 351, 257, 2330, 18507, 290, 257, 12036, 319, 262, 3355, 13, 257, 14595, 351, 257, 9396, 286, 23972, 319, 1353, 286, 340, 13, 257, 582, 5055, 287, 257, 2877, 2119, 1306, 284, 257, 2330, 18507, 13, 257, 2119, 351, 257, 3996, 290, 257, 6915, 287, 340, 13, 257, 2877, 2119, 351, 257, 18507, 290, 257, 3644, 13, 257, 582, 5055, 287, 257, 2119, 1306, 284, 257, 7872, 13447, 13, 257, 3996, 2119, 351, 257, 29776, 925, 3996, 13, 257, 2415, 5055, 287, 257, 12436, 1306, 284, 257, 14595, 13, 257, 2415, 5055, 287, 257, 9592, 1306, 284, 257, 14595, 13, 257, 2415, 5055, 287, 257, 9592, 1306, 284, 257, 3084, 13, 257, 9592, 351, 257, 14595, 290, 257, 27000, 13, 257, 2877, 2119, 351, 257, 2330, 18507, 290, 257, 2042, 6891, 3084, 13, 257, 9396, 286, 8234, 319, 257, 3084, 287, 257, 2877, 2119, 13, 257, 2042, 290, 2330, 2877, 2119, 351, 257, 18507, 290, 6891, 3084, 13, 257, 582, 5055, 287, 257, 2877, 2119, 1306, 284, 257, 18507, 13, 257, 582, 5055, 287, 2166, 286, 257, 3644, 3159, 13, 257, 9592, 351, 257, 14595, 290, 257, 27000, 13, 257, 1048, 5055, 287, 257, 2119, 351, 5986, 319, 262, 3355, 13, 257, 9592, 351, 257, 14595, 290, 257, 27000, 13, 257, 9592, 351, 257, 2266, 30500, 290, 2330, 3753, 21246, 13, 257, 2877, 2119, 351, 257, 2266, 18507, 290, 257, 6228, 3159, 31557, 13, 257, 2415, 5055, 287, 257, 2119, 351, 257, 2266, 3084, 13, 257, 2877, 2119, 351, 257, 18507, 290, 257, 3084, 13, 257, 3644, 6915, 351, 257, 13224, 319, 1353, 286, 340, 13, 257, 14595, 351, 257, 9396, 286, 23972, 319, 1353, 286, 340, 13, 257, 14595, 351, 257, 9396, 286, 23972, 319, 1353, 286, 340, 13, 257, 2119, 351, 257, 3084, 290, 257, 2266, 14477, 13, 257, 3644, 6915, 351, 257, 3644, 10211, 290, 10586, 13, 257, 582, 5055, 287, 262, 3504, 286, 257, 2119, 13, 257, 14595, 351, 257, 9396, 286, 23972, 319, 1353, 286, 340, 13, 257, 2330, 7837, 12202, 5586, 1306, 284, 257, 2330, 256, 3902, 3355, 13, 257, 12436, 351, 257, 16146, 290, 257, 14595, 13, 257, 2415, 5055, 287, 257, 2119, 351, 257, 8801, 319, 262, 3355, 13, 257, 582, 5055, 287, 257, 32439, 287, 257, 2119, 13, 257, 1048, 5055, 287, 2166, 286, 257, 1492, 18316, 13, 257, 2415, 5055, 287, 257, 9592, 1306, 284, 257, 27635, 1353, 14361, 13, 257, 12436, 351, 257, 18316, 290, 5986, 319, 262, 3355, 13, 257, 582, 287, 257, 4077, 10147, 5055, 287, 257, 2119, 13, 257, 3644, 6915, 351, 257, 13224, 319, 1353, 286, 340, 13, 257, 12436, 351, 257, 16146, 290, 257, 14643, 22549, 13, 257, 2415, 5055, 287, 257, 2119, 351, 257, 6877, 319, 13, 257, 1048, 5055, 287, 257, 2119, 351, 257, 18507, 13, 257, 2042, 290, 2330, 4590, 286, 257, 6915, 351, 257, 3644, 13, 257, 2877, 2119, 351, 257, 18507, 257, 3084, 290, 257, 18316, 13, 257, 2415, 5055, 287, 257, 2119, 351, 257, 2266, 20710, 13, 257, 2877, 2119, 5901, 351, 13091, 290, 257, 10162, 13, 257, 582, 287, 257, 4171, 6050, 5055, 287, 257, 2119, 13, 257, 12436, 351, 257, 4286, 286, 257, 2415, 319, 262, 3355, 13, 257, 1048, 5055, 287, 257, 2119, 351, 257, 18507, 290, 257, 5581, 13, 257, 2119, 351, 257, 1492, 18316, 290, 257, 13447, 13, 257, 3644, 6915, 351, 257, 5118, 290, 5986, 319, 262, 3355, 13, 257, 1048, 5055, 287, 257, 2119, 351, 257, 2042, 4314, 13, 257, 2119, 351, 257, 6915, 11, 5118, 290, 5986, 319, 262, 3355, 13, 257, 1048, 5055, 287, 257, 2119, 351, 257, 3644, 13, 257, 2877, 2119, 351, 257, 18507, 290, 257, 3084, 13, 257, 2877, 2119, 351, 257, 2330, 18507, 290, 257, 2042, 6891, 3084, 13, 257, 2415, 5055, 287, 257, 12436, 1306, 284, 257, 12202, 13, 257, 9592, 351, 257, 27635, 1353, 14361, 290, 257, 14595, 13, 257, 582, 5055, 287, 257, 2877, 2119, 1306, 284, 257, 31557, 13, 257, 2042, 290, 2330, 4590, 286, 257, 6915, 351, 257, 3644, 13, 257, 582, 318, 5055, 287, 257, 2119, 351, 13091, 13, 257, 2119, 351, 257, 3996, 290, 257, 5581, 287, 340, 13, 257, 2042, 290, 2330, 2119, 351, 257, 3644, 290, 257, 5118, 13, 257, 2415, 5055, 287, 2166, 286, 257, 3084, 287, 257, 2119, 13, 257, 2415, 5055, 287, 257, 9592, 1306, 284, 257, 3084, 13, 257, 1048, 5055, 287, 257, 2119, 351, 257, 3996, 13, 257, 2042, 290, 2330, 4590, 286, 257, 6915, 351, 257, 3644, 13, 257, 2415, 287, 257, 2266, 290, 2042, 6576, 287, 257, 12436, 13, 257, 1048, 5055, 287, 257, 12436, 1306, 284, 257, 7837, 12202, 13, 257, 2877, 2119, 5901, 351, 13091, 290, 257, 6228, 3159, 31557, 13, 257, 582, 5055, 287, 257, 12436, 351, 257, 1216, 271, 20963, 13, 257, 2415, 287, 257, 2266, 6576, 5055, 287, 2166, 286, 257, 4286, 286, 257, 2415, 13, 257, 9396, 286, 8234, 319, 257, 3084, 287, 257, 2119, 13, 257, 2415, 5055, 287, 257, 2119, 1306, 284, 257, 1492, 18316, 13, 257, 3420, 3756, 284, 257, 12436, 351, 257, 16146, 287, 340, 13, 257, 582, 5055, 287, 257, 2877, 2119, 1306, 284, 257, 18507, 13, 257, 582, 5055, 287, 257, 2877, 2119, 1306, 284, 257, 2330, 18507, 13, 257, 2415, 287, 281, 10912, 6873, 1353, 5055, 287, 257, 32439, 13, 257, 1048, 5055, 287, 257, 12436, 1306, 284, 257, 16146, 13, 257, 2877, 2119, 351, 257, 2330, 18507, 290, 257, 12036, 319, 262, 3355, 13, 257, 2415, 5055, 287, 257, 2119, 351, 257, 2266, 3084, 13, 257, 2877, 2119, 5901, 351, 13091, 290, 257, 10162, 13, 257, 9396, 286, 8234, 319, 257, 3084, 287, 257, 2877, 2119, 13, 257, 2877, 2119, 351, 257, 18507, 290, 257, 3644, 13, 257, 2877, 2119, 5901, 351, 13091, 290, 257, 6228, 3159, 31557, 13, 257, 2415, 5055, 287, 257, 9592, 1306, 284, 257, 3753, 13, 257, 2415, 5055, 287, 257, 9592, 1306, 284, 257, 3753, 13, 257, 2119, 351, 257, 3996, 11, 257, 5118, 11, 257, 10162, 290, 5986, 319, 262, 3355, 13, 257, 582, 5055, 287, 2166, 286, 257, 21615, 5901, 351, 8242, 13, 257, 9592, 351, 257, 30500, 290, 257, 27635, 13, 257, 3644, 2119, 351, 257, 6915, 11, 5118, 11, 290, 3644, 5671, 13, 257, 582, 5055, 287, 257, 2877, 2119, 1306, 284, 257, 18507, 13, 257, 9592, 351, 257, 2266, 30500, 290, 257, 27635, 13, 257, 2415, 5055, 287, 2166, 286, 257, 1492, 18316, 13, 257, 582, 287, 257, 6050, 5055, 287, 257, 2119, 13, 257, 2415, 5055, 287, 257, 12436, 1306, 284, 257, 2956, 1292, 13, 257, 582, 5055, 287, 257, 2119, 1306, 284, 257, 3996, 13, 257, 2415, 5055, 287, 257, 2119, 351, 257, 8801, 319, 262, 3355, 13, 257, 2415, 5055, 287, 257, 2119, 351, 257, 8801, 319, 262, 3355, 13, 257, 2415, 5055, 287, 257, 9592, 1306, 284, 257, 3084, 13, 257, 12436, 351, 257, 1588, 2330, 7837, 37995, 1306, 284, 257, 14595, 13, 257, 2330, 256, 3902, 12436, 351, 257, 2042, 14477, 13, 257, 2415, 5055, 287, 257, 2119, 351, 5986, 319, 262, 3355, 13, 257, 582, 287, 257, 4171, 6050, 5055, 287, 257, 2119, 13, 257, 2415, 5055, 287, 257, 9592, 1306, 284, 257, 27635, 1353, 14361, 13, 257, 2415, 5055, 287, 257, 2877, 2119, 351, 257, 2266, 18507, 13, 257, 2877, 2119, 5901, 351, 13091, 290, 257, 10162, 13, 257, 2119, 351, 257, 3996, 290, 257, 1492, 18316, 13, 257, 12436, 351, 257, 14595, 11, 16146, 290, 257, 12036, 319, 262, 3355, 13, 257, 2877, 2119, 351, 257, 18507, 290, 257, 3084, 13, 257, 2119, 351, 257, 6915, 290, 5986, 319, 262, 3355, 13, 257, 2119, 351, 257, 6915, 290, 5986, 319, 262, 3355, 13, 257, 2119, 351, 257, 5118, 290, 5986, 319, 262, 3355, 13, 257, 2415, 5055, 287, 257, 9592, 351, 257, 2266, 14477, 13, 257, 2877, 2119, 351, 257, 2330, 18507, 290, 257, 3084, 351, 257, 9396, 286, 8234, 319, 340, 13, 257, 2415, 5055, 287, 2166, 286, 257, 1492, 18316, 13, 257, 2415, 5055, 287, 257, 9592, 1306, 284, 257, 3753, 13, 257, 2266, 30500, 30967, 5586, 1306, 284, 257, 14595, 13, 257, 3644, 6915, 351, 257, 5671, 290, 10586, 13, 257, 2877, 2119, 351, 257, 2330, 18507, 290, 257, 12036, 319, 262, 3355, 13, 257, 582, 5055, 287, 257, 2877, 2119, 1306, 284, 257, 7872, 13447, 13, 257, 2119, 351, 257, 3084, 11, 20726, 290, 5986, 319, 262, 3355, 13, 257, 1048, 5055, 287, 257, 2119, 351, 9473, 319, 262, 4314, 13, 257, 2415, 5055, 319, 257, 2266, 14477, 287, 257, 2119, 13, 257, 2877, 2119, 351, 257, 2330, 18507, 290, 257, 12036, 319, 262, 3355, 13, 257, 2119, 351, 257, 3084, 11, 20726, 290, 5986, 319, 262, 3355, 13, 257, 2415, 287, 281, 10912, 10147, 290, 257, 6877, 13, 257, 1048, 5055, 287, 257, 2119, 351, 257, 1492, 18316, 13, 257, 1048, 5055, 287, 257, 2119, 351, 257, 2266, 14477, 13, 281, 16965, 1570, 286, 257, 12436, 351, 257, 14595, 290, 16146, 13, 257, 2415, 5055, 287, 257, 2877, 2119, 1306, 284, 257, 3084, 13, 257, 2415, 5055, 287, 2166, 286, 257, 10162, 287, 257, 2119, 13, 257, 2415, 5055, 287, 257, 9592, 1306, 284, 257, 3753, 13, 257, 1570, 286, 257, 1402, 7962, 422, 2029, 13, 257, 2415, 5055, 287, 257, 9592, 1306, 284, 257, 2266, 30500, 13, 257, 2415, 5055, 287, 257, 2119, 351, 257, 2266, 14477, 13, 257, 2415, 5055, 287, 257, 2877, 2119, 1306, 284, 257, 582, 13, 257, 2415, 5055, 287, 2166, 286, 257, 3084, 287, 257, 2119, 13, 257, 2415, 5055, 319, 257, 2603, 287, 257, 9592, 13, 257, 2330, 256, 3902, 12436, 351, 7586, 43064, 290, 257, 14595, 13, 257, 2877, 2119, 351, 257, 18507, 290, 257, 3084, 13, 257, 2415, 287, 257, 4077, 10147, 318, 5055, 287, 257, 2119, 13, 257, 2415, 5055, 287, 257, 9592, 1306, 284, 257, 3084, 13, 257, 582, 5055, 287, 257, 2877, 2119, 1306, 284, 257, 2330, 18507, 13, 257, 1048, 5055, 287, 257, 2119, 351, 257, 3996, 13, 257, 9396, 286, 8234, 319, 257, 3084, 287, 257, 2119, 13, 257, 2119, 351, 257, 5118, 290, 257, 1492, 18316, 13, 257, 1402, 12436, 351, 257, 14595, 11, 16146, 11, 290, 7837, 37995, 13, 257, 9592, 351, 257, 27635, 11, 27000, 11, 284, 1603, 290, 6891, 16009, 13, 257, 2119, 351, 257, 1492, 18316, 290, 257, 5118, 13, 257, 3644, 6915, 351, 257, 5671, 11, 10586, 290, 10211, 13, 257, 2119, 351, 257, 3996, 290, 257, 1492, 18316, 13, 257, 3644, 7560, 2939, 286, 257, 2119, 351, 257, 6915, 290, 20726, 13, 257, 2119, 351, 257, 1492, 18316, 290, 257, 5118, 13, 257, 2415, 287, 257, 2042, 6576, 5055, 287, 257, 9592, 13, 257, 582, 5055, 287, 257, 32439, 286, 257, 2119, 13, 257, 2119, 351, 257, 1492, 18316, 290, 257, 5118, 13, 257, 582, 287, 257, 6050, 290, 9839, 5055, 287, 257, 2119, 13, 257, 1570, 286, 257, 2877, 2119, 290, 9592, 422, 2029, 13, 257, 2415, 287, 257, 4077, 1353, 5055, 287, 257, 9592, 13, 257, 2415, 5055, 287, 257, 2119, 1306, 284, 257, 582, 13, 257, 9592, 351, 257, 27635, 11, 27000, 11, 284, 1603, 290, 6891, 16009, 13, 281, 16965, 1570, 286, 257, 12436, 351, 257, 14595, 290, 16146, 13, 257, 3996, 2119, 351, 257, 3996, 290, 257, 410, 589, 286, 12734, 13, 257, 2415, 5055, 287, 2166, 286, 257, 1492, 18316, 13, 257, 2877, 2119, 351, 257, 2330, 18507, 290, 257, 2042, 3084, 13, 257, 2877, 2119, 351, 257, 2330, 18507, 290, 257, 3084, 351, 257, 9396, 286, 8234, 319, 340, 13, 257, 18316, 326, 468, 257, 16162, 32680, 290, 16162, 34274, 319, 340, 13, 257, 2415, 5055, 287, 257, 2119, 351, 257, 8801, 319, 262, 3355, 13, 257, 582, 5055, 287, 257, 2877, 2119, 1306, 284, 257, 7872, 13447, 13, 257, 2119, 351, 257, 3996, 11, 6915, 11, 290, 3644, 5671, 13, 257, 2877, 2119, 351, 257, 2330, 18507, 290, 257, 3084, 351, 257, 9396, 286, 8234, 319, 340, 13, 257, 2415, 5055, 287, 257, 9592, 1306, 284, 257, 3084, 13, 257, 2415, 287, 257, 4077, 1353, 318, 5055, 287, 257, 2119, 13, 257, 2266, 30500, 30967, 5586, 1306, 284, 257, 14595, 13, 257, 9592, 351, 257, 2266, 3084, 290, 257, 2266, 14477, 13, 257, 14595, 351, 257, 9396, 286, 23972, 319, 1353, 286, 340, 13, 257, 582, 5055, 287, 2166, 286, 257, 12036, 286, 257, 2415, 13, 257, 2415, 5055, 287, 2166, 286, 257, 3996, 287, 257, 2119, 13, 257, 12436, 351, 257, 14595, 290, 257, 12036, 319, 262, 3355, 13, 257, 2415, 5055, 287, 257, 9592, 1306, 284, 257, 3753, 13, 257, 582, 5055, 287, 257, 2877, 2119, 1306, 284, 257, 18507, 13, 257, 582, 5055, 287, 257, 2877, 2119, 1306, 284, 257, 18507, 13, 257, 582, 287, 257, 6050, 290, 9839, 5055, 1306, 284, 257, 12036, 13, 257, 2119, 351, 257, 5118, 290, 257, 1492, 18316, 13, 257, 2042, 290, 2330, 4590, 286, 257, 1402, 2119, 13, 257, 582, 5055, 1306, 284, 257, 2330, 3355, 287, 257, 2119, 13, 257, 2415, 5055, 379, 257, 3084, 351, 13375, 286, 2057, 319, 340, 13, 257, 582, 5055, 287, 257, 2877, 2119, 1306, 284, 257, 18507, 13, 257, 3660, 9592, 351, 257, 2266, 290, 2330, 7505, 13, 257, 2415, 5055, 287, 2166, 286, 257, 3084, 351, 257, 2508, 319, 340, 13, 281, 17789, 1570, 286, 257, 9592, 290, 2877, 2119, 13, 257, 2415, 287, 257, 4077, 1353, 318, 5055, 287, 257, 2119, 13, 257, 2415, 5055, 287, 257, 9592, 1306, 284, 257, 3084, 13, 257, 2415, 5055, 287, 2166, 286, 257, 3084, 351, 257, 14256, 319, 340, 13, 257, 3644, 6915, 351, 257, 5118, 290, 5986, 319, 262, 3355, 13, 257, 2877, 2119, 351, 257, 18507, 290, 257, 3084, 13, 257, 2415, 5055, 287, 257, 9592, 1306, 284, 257, 27635, 1353, 14361, 13, 257, 12436, 351, 257, 14595, 290, 257, 24808, 19127, 13, 257, 2119, 351, 257, 1492, 18316, 5901, 351, 3835, 13, 257, 2877, 2119, 5901, 351, 13091, 290, 257, 12036, 319, 262, 3355, 13, 257, 9396, 286, 8234, 319, 257, 3084, 287, 257, 2119, 13, 257, 2415, 5055, 287, 257, 2119, 351, 257, 3084, 290, 5986, 319, 262, 3355, 13, 257, 2415, 287, 257, 4077, 10147, 318, 5055, 287, 257, 2119, 13, 257, 582, 5055, 287, 2166, 286, 257, 10162, 287, 257, 2119, 13, 257, 582, 5055, 287, 257, 2877, 2119, 1306, 284, 257, 2330, 18507, 13, 257, 2415, 5055, 287, 257, 9592, 1306, 284, 257, 27635, 1353, 14361, 13, 257, 2415, 5055, 287, 257, 9592, 1306, 284, 257, 14595, 13, 257, 2877, 2119, 351, 257, 2330, 18507, 290, 257, 2042, 3084, 13, 257, 2877, 2119, 5901, 351, 13091, 290, 257, 12036, 319, 262, 3355, 13, 257, 1048, 5055, 287, 257, 2119, 1306, 284, 257, 6915, 13, 257, 2877, 2119, 351, 257, 2330, 18507, 290, 257, 3084, 351, 257, 9396, 286, 8234, 319, 340, 13, 257, 2415, 5055, 287, 2166, 286, 257, 1492, 18316, 13, 257, 2415, 5055, 287, 257, 12436, 1306, 284, 257, 16146, 13, 257, 3644, 6915, 351, 257, 5118, 290, 257, 12036, 319, 262, 3355, 13, 257, 2042, 290, 2330, 2877, 2119, 351, 257, 18507, 290, 6891, 3084, 13, 257, 2119, 351, 257, 3084, 290, 257, 31557, 13, 257, 1048, 5055, 287, 257, 2119, 351, 257, 1492, 18316, 13, 257, 2415, 5055, 287, 257, 12436, 1306, 284, 257, 14595, 13, 257, 582, 5055, 287, 2166, 286, 257, 6228, 3159, 31557, 13, 257, 1048, 5055, 287, 257, 2119, 351, 257, 12036, 319, 262, 3355, 13, 257, 14043, 351, 257, 3996, 290, 257, 1755, 1302, 13, 257, 9592, 351, 257, 14595, 290, 257, 27000, 13, 257, 12436, 351, 257, 14595, 11, 16146, 290, 257, 4286, 319, 262, 3355, 13, 257, 582, 5055, 287, 257, 2119, 1306, 284, 257, 6915, 13, 281, 17789, 1570, 286, 257, 2877, 2119, 290, 14043, 13, 257, 3644, 7560, 2939, 286, 257, 21615, 351, 8242, 13, 257, 2415, 5055, 287, 257, 2119, 351, 257, 2266, 14477, 13, 257, 9396, 286, 8234, 319, 257, 3084, 287, 257, 2877, 2119, 13, 257, 2415, 5055, 287, 257, 2877, 2119, 1306, 284, 257, 31557, 13, 257, 2877, 2119, 351, 257, 18507, 290, 257, 3084, 13, 257, 2877, 2119, 351, 2042, 7714, 290, 2330, 13091, 13, 257, 2877, 2119, 351, 257, 2330, 18507, 290, 257, 3084, 351, 257, 9396, 286, 8234, 319, 340, 13, 257, 3644, 7560, 2939, 286, 257, 1402, 2119, 13, 257, 582, 5055, 287, 257, 2877, 2119, 1306, 284, 257, 18507, 13, 257, 12436, 351, 257, 14595, 11, 16146, 11, 290, 7837, 37995, 13, 257, 2877, 2119, 351, 257, 2330, 18507, 290, 257, 3084, 351, 257, 9396, 286, 8234, 319, 340, 13, 257, 12436, 351, 257, 14595, 11, 16146, 290, 257, 12036, 319, 262, 3355, 13, 257, 1048, 5055, 287, 257, 2119, 351, 5986, 319, 262, 3355, 13, 257, 9396, 286, 8234, 319, 257, 3084, 287, 257, 2877, 2119, 13, 257, 2330, 2119, 351, 257, 2042, 3420, 290, 5986, 319, 262, 3355, 13, 257, 9592, 351, 257, 14595, 290, 257, 27000, 13, 257, 582, 287, 257, 4171, 6050, 5055, 287, 257, 2119, 13, 257, 1048, 5055, 287, 257, 2119, 351, 5986, 319, 262, 3355, 13, 257, 2415, 5055, 287, 257, 9592, 1306, 284, 257, 14595, 13, 257, 582, 5055, 287, 257, 2119, 351, 257, 1256, 286, 13091, 13, 257, 2266, 30500, 30967, 5586, 1306, 284, 257, 14595, 13, 257, 1048, 5055, 287, 2166, 286, 257, 3644, 5671, 13, 257, 3644, 6915, 351, 257, 13224, 319, 1353, 286, 340, 13, 257, 582, 287, 257, 4171, 6050, 5055, 287, 257, 2119, 13, 257, 582, 318, 5055, 287, 257, 2119, 351, 257, 1256, 286, 13091, 13, 257, 14595, 351, 257, 9396, 286, 23972, 319, 1353, 286, 340, 13, 257, 2415, 5055, 287, 257, 2119, 1306, 284, 257, 3355, 351, 5986, 319, 340, 13, 257, 9396, 286, 8234, 319, 257, 3084, 287, 257, 2119, 13, 257, 2415, 5055, 287, 257, 2119, 351, 257, 3084, 290, 18791, 13, 257, 2119, 351, 257, 18316, 290, 5986, 319, 262, 3355, 13, 257, 2119, 351, 257, 10162, 290, 257, 5581, 287, 340, 13, 257, 582, 5055, 287, 257, 2119, 351, 257, 2042, 4314, 13, 257, 2415, 5055, 287, 257, 9592, 1306, 284, 257, 3084, 13, 257, 2877, 2119, 351, 257, 18507, 290, 257, 3084, 13, 257, 2877, 2119, 351, 257, 18507, 290, 257, 3084, 13, 257, 4286, 286, 257, 2415, 4769, 257, 3290, 319, 257, 3355, 13, 257, 9592, 351, 257, 2266, 14477, 319, 262, 4314, 13, 257, 2119, 351, 257, 1492, 18316, 290, 257, 27000, 13, 257, 12436, 351, 257, 2330, 256, 3902, 4314, 290, 7714, 13, 257, 2877, 2119, 5901, 351, 13091, 290, 5986, 319, 262, 3355, 13, 257, 9396, 286, 8234, 319, 257, 3084, 287, 257, 2119, 13, 257, 12436, 351, 257, 2330, 14595, 290, 2330, 256, 3902, 7714, 13, 257, 12436, 351, 257, 16146, 290, 257, 14595, 13, 257, 2266, 30500, 30967, 5586, 1306, 284, 257, 14595, 13, 257, 9592, 351, 257, 27635, 11, 27000, 290, 284, 1603, 14361, 13, 257, 2119, 351, 257, 6915, 290, 257, 3644, 5671, 13, 257, 2119, 351, 257, 10162, 290, 257, 5581, 287, 340, 13, 257, 2415, 5055, 287, 257, 12436, 1306, 284, 257, 12202, 13, 257, 12436, 351, 257, 2330, 16146, 290, 257, 2330, 14595, 13, 257, 2877, 2119, 351, 257, 18507, 290, 257, 5581, 13, 281, 16965, 1570, 286, 257, 2266, 290, 2330, 12436, 13, 257, 9592, 351, 257, 30500, 290, 257, 27000, 13, 257, 3644, 6915, 351, 257, 5671, 11, 10586, 290, 10211, 13, 257, 582, 5055, 287, 257, 2877, 2119, 1306, 284, 257, 3084, 13, 257, 2415, 5055, 287, 257, 2119, 351, 257, 2266, 14477, 13, 257, 2119, 351, 257, 5118, 290, 257, 1492, 18316, 13, 281, 16965, 1570, 286, 257, 12436, 351, 257, 14595, 290, 16146, 13, 257, 582, 5055, 287, 257, 2877, 2119, 1306, 284, 257, 18507, 13, 257, 2415, 5762, 257, 6877, 5055, 287, 257, 2119, 13, 257, 9592, 351, 257, 30500, 290, 257, 27635, 13, 257, 2877, 2119, 351, 257, 2330, 18507, 290, 257, 12036, 319, 262, 3355, 13, 257, 2877, 2119, 5901, 351, 13091, 290, 257, 7872, 13447, 13, 257, 12436, 351, 257, 14595, 290, 257, 10162, 13, 257, 12436, 351, 257, 14595, 11, 16146, 11, 290, 7837, 37995, 13, 257, 582, 5055, 287, 257, 2877, 2119, 1306, 284, 257, 18507, 13, 257, 2119, 351, 257, 373, 372, 290, 257, 5894, 263, 287, 340, 13, 257, 3155, 286, 661, 5055, 287, 257, 2119, 13, 257, 2119, 351, 257, 21615, 290, 257, 3996, 13, 257, 2119, 351, 257, 3084, 11, 20726, 290, 5986, 319, 262, 3355, 13, 257, 3644, 6915, 351, 257, 5671, 11, 10586, 290, 10211, 13, 257, 12436, 351, 257, 14595, 11, 16146, 290, 257, 12036, 319, 262, 3355, 13, 257, 2330, 256, 3902, 12436, 351, 257, 16146, 290, 14643, 13, 257, 9396, 286, 8234, 319, 257, 3084, 287, 257, 2877, 2119, 13, 257, 2415, 287, 257, 4077, 10147, 318, 5055, 287, 257, 2119, 13, 257, 2042, 290, 2330, 2119, 351, 257, 3996, 290, 257, 5118, 13, 257, 2877, 2119, 351, 257, 2330, 18507, 290, 257, 4286, 319, 262, 3355, 13, 257, 2119, 351, 257, 3996, 290, 257, 10162, 13, 257, 3644, 6915, 290, 5118, 287, 257, 2119, 13, 257, 2119, 351, 257, 3996, 11, 6915, 11, 290, 3644, 5671, 13, 257, 582, 5055, 287, 257, 12436, 1306, 284, 257, 20518, 4572, 13, 257, 2415, 5055, 287, 257, 9592, 1306, 284, 257, 27635, 1353, 14361, 13, 257, 9592, 351, 257, 14595, 11, 27635, 11, 27000, 290, 43064, 13, 257, 2877, 2119, 351, 257, 2330, 18507, 290, 257, 3084, 351, 257, 9396, 286, 8234, 319, 340, 13, 257, 582, 5055, 287, 257, 2877, 2119, 1306, 284, 257, 2330, 18507, 13, 257, 2415, 5055, 287, 257, 9592, 1306, 284, 257, 3084, 13, 257, 2415, 5055, 287, 257, 9592, 1306, 284, 257, 3753, 13, 257, 2042, 290, 2330, 2877, 2119, 351, 257, 18507, 290, 6891, 3084, 13, 257, 2119, 351, 257, 3996, 11, 6915, 11, 290, 20726, 13, 257, 1048, 5055, 287, 257, 2119, 351, 257, 1256, 286, 13091, 13, 257, 2119, 351, 257, 3996, 290, 257, 1492, 18316, 13, 257, 1048, 5055, 287, 257, 2119, 351, 257, 1256, 286, 13091, 13, 257, 9592, 351, 257, 27635, 11, 27000, 290, 284, 1603, 14361, 13, 257, 582, 5055, 287, 257, 12436, 1306, 284, 257, 3420, 13, 257, 2415, 5055, 287, 257, 9592, 1306, 284, 257, 3084, 13, 257, 12436, 351, 257, 2042, 290, 2330, 14477, 287, 262, 3504, 286, 262, 4314, 13, 257, 12436, 351, 257, 14595, 11, 16146, 11, 290, 257, 10162, 13, 257, 2415, 287, 257, 4077, 1353, 290, 2042, 23967, 5055, 287, 257, 2119, 13, 257, 2042, 290, 2330, 4590, 286, 257, 6915, 351, 257, 3644, 13, 257, 2415, 5055, 287, 257, 9592, 1306, 284, 257, 2266, 30500, 13, 257, 2266, 30500, 30967, 5586, 1306, 284, 257, 14595, 13, 257, 2119, 351, 257, 6915, 11, 5118, 11, 290, 4286, 319, 262, 3355, 13, 257, 2415, 287, 257, 4077, 10147, 290, 2042, 23967, 13, 257, 2119, 351, 257, 18507, 11, 6915, 11, 5118, 290, 5581, 13, 257, 12436, 351, 257, 16146, 11, 14595, 11, 290, 10162, 13, 281, 17789, 1570, 286, 257, 2877, 2119, 290, 9592, 13, 257, 2877, 2119, 351, 257, 18507, 290, 257, 3084, 13, 257, 12436, 351, 734, 32711, 290, 257, 14595, 13, 257, 582, 5055, 287, 2166, 286, 257, 3644, 5671, 13, 257, 1048, 14284, 287, 262, 1633, 319, 257, 22647, 3526, 13, 257, 582, 5055, 287, 257, 2877, 2119, 1306, 284, 257, 18507, 13, 257, 7684, 286, 20810, 11252, 292, 326, 389, 10938, 319, 257, 3355, 13, 257, 2042, 290, 2330, 2877, 2119, 351, 257, 18507, 290, 6891, 3084, 13, 257, 2119, 351, 257, 1492, 18316, 290, 257, 5118, 13, 257, 2415, 5055, 287, 257, 2877, 2119, 1306, 284, 257, 3084, 13, 257, 2119, 351, 257, 3996, 290, 257, 8801, 319, 262, 3355, 13, 257, 12436, 351, 257, 16146, 290, 257, 14595, 13, 257, 1048, 5055, 287, 257, 2119, 351, 257, 3644, 5671, 13, 257, 12436, 351, 257, 14595, 290, 257, 10162, 13, 257, 582, 5055, 287, 2166, 286, 257, 1492, 18316, 13, 257, 2415, 5055, 287, 257, 9592, 1306, 284, 257, 3753, 13, 257, 2877, 2119, 351, 257, 18507, 290, 257, 3084, 13, 257, 12436, 351, 257, 2042, 14477, 319, 262, 4314, 13, 257, 2877, 2119, 351, 257, 18507, 290, 257, 3084, 13, 257, 12436, 351, 257, 14595, 290, 257, 10162, 13, 257, 582, 287, 257, 4171, 10147, 318, 2045, 379, 257, 3644, 3159, 13, 257, 9592, 351, 257, 27000, 11, 284, 1603, 11, 284, 1603, 14361, 290, 257, 2266, 30500, 13, 257, 2415, 287, 281, 10912, 10147, 318, 5055, 287, 257, 2119, 13, 257, 3644, 7560, 2939, 286, 257, 2877, 2119, 13, 257, 1048, 5055, 287, 257, 2119, 351, 257, 12036, 319, 262, 3355, 13, 257, 9592, 351, 257, 27635, 11, 27000, 11, 284, 1603, 290, 6891, 16009, 13, 257, 2415, 5055, 287, 257, 2119, 1306, 284, 257, 1492, 18316, 13, 281, 17789, 1570, 286, 257, 2877, 2119, 290, 9592, 13, 257, 3644, 6915, 290, 5118, 287, 257, 2119, 13, 257, 9592, 351, 257, 2266, 14477, 319, 262, 4314, 13, 257, 2119, 351, 257, 6915, 290, 257, 5118, 287, 340, 13, 257, 1048, 5055, 287, 257, 2119, 351, 257, 31557, 13, 257, 2415, 287, 257, 4077, 1353, 290, 2042, 23967, 5055, 287, 257, 2119, 13, 257, 2415, 5055, 287, 257, 12436, 1306, 284, 257, 14643, 13, 257, 9592, 351, 257, 2266, 30500, 290, 2330, 3753, 21246, 13, 257, 2119, 351, 257, 3996, 290, 257, 12036, 319, 262, 3355, 13, 257, 2415, 5055, 287, 257, 2119, 351, 257, 2266, 20710, 13, 257, 582, 5055, 287, 257, 2877, 2119, 1306, 284, 257, 2330, 18507, 13, 257, 2415, 5055, 287, 257, 9592, 1306, 284, 257, 27635, 1353, 14361, 13, 257, 2415, 5055, 287, 2166, 286, 257, 4286, 286, 5223, 13, 257, 2415, 287, 257, 4077, 1353, 290, 2042, 23967, 5055, 287, 257, 9592, 13, 257, 2415, 5055, 287, 257, 12436, 1306, 284, 257, 20518, 4572, 13, 257, 2119, 351, 257, 2266, 5118, 290, 5986, 319, 262, 3355, 13, 257, 2415, 5055, 287, 257, 2119, 351, 257, 8801, 319, 262, 3355, 13, 257, 2119, 351, 257, 1492, 18316, 290, 257, 5118, 13, 257, 12436, 351, 257, 7684, 286, 38614, 290, 22353, 13, 257, 2119, 351, 257, 890, 3084, 290, 257, 2266, 14477, 319, 262, 4314, 13, 257, 2415, 287, 257, 4077, 1353, 5055, 287, 257, 9592, 13, 257, 582, 5055, 287, 257, 2877, 2119, 1306, 284, 257, 18507, 13, 257, 2042, 290, 2330, 4590, 286, 257, 2877, 2119, 13, 257, 2119, 351, 257, 5118, 290, 257, 1492, 18316, 13, 257, 9396, 286, 8234, 319, 257, 3084, 287, 257, 2119, 13, 257, 582, 5055, 287, 2166, 286, 257, 18507, 287, 257, 2877, 2119, 13, 257, 12436, 351, 257, 2330, 256, 3902, 4314, 290, 7714, 13, 257, 2877, 2119, 351, 257, 18507, 257, 3084, 290, 257, 5581, 13, 257, 2415, 5055, 287, 2166, 286, 257, 3644, 5671, 13, 257, 582, 5055, 287, 257, 2877, 2119, 1306, 284, 257, 31557, 13, 257, 582, 287, 257, 6050, 5055, 287, 257, 2119, 13, 257, 2415, 5055, 287, 257, 9592, 1306, 284, 257, 3084, 13, 257, 582, 5055, 287, 257, 9592, 1306, 284, 257, 30500, 13, 257, 2119, 351, 257, 3084, 11, 20726, 290, 257, 5581, 13, 257, 3644, 5671, 5586, 319, 1353, 286, 257, 2266, 18316, 13, 257, 2415, 5055, 287, 257, 9592, 1306, 284, 257, 27635, 1353, 14361, 13, 257, 9592, 351, 257, 30500, 290, 257, 27635, 13, 257, 1048, 5055, 287, 257, 2119, 351, 257, 8801, 319, 262, 3355, 13, 257, 2415, 5055, 287, 257, 9592, 1306, 284, 257, 3753, 13, 257, 3644, 7560, 2939, 286, 257, 1402, 2119, 13, 257, 2266, 30500, 30967, 5586, 1306, 284, 257, 3753, 13, 257, 12436, 351, 257, 14595, 11, 16146, 290, 257, 10162, 13, 257, 2415, 5055, 287, 257, 2119, 351, 257, 8801, 319, 262, 3355, 13, 257, 2119, 351, 257, 6915, 290, 5986, 319, 262, 3355, 13, 257, 582, 287, 257, 4171, 6050, 5055, 287, 257, 2119, 13, 257, 9592, 351, 257, 30500, 290, 257, 27635, 1353, 14361, 13, 257, 582, 287, 257, 4171, 6050, 5055, 287, 257, 2119, 13, 257, 1048, 5055, 287, 257, 2119, 351, 257, 2266, 290, 2330, 4314, 13, 257, 582, 287, 257, 4171, 6050, 5055, 287, 257, 2119, 13, 257, 582, 287, 257, 6050, 290, 9839, 5055, 287, 257, 2119, 13, 257, 1048, 5055, 287, 257, 12436, 1306, 284, 257, 14595, 13, 257, 582, 5055, 287, 257, 2877, 2119, 1306, 284, 257, 2330, 18507, 13, 257, 2415, 5055, 287, 257, 12436, 1306, 284, 257, 2042, 3290, 13, 257, 2877, 2119, 5901, 351, 13091, 290, 257, 6228, 3159, 31557, 13, 257, 12436, 3715, 351, 2962, 319, 262, 14595, 13, 257, 2415, 5055, 287, 2166, 286, 257, 3753, 287, 257, 9592, 13, 257, 2119, 326, 468, 257, 10162, 290, 257, 3084, 287, 340, 13, 257, 2042, 290, 2330, 4590, 286, 257, 2119, 351, 257, 6915, 13, 257, 2119, 351, 257, 2266, 3420, 290, 257, 2330, 3355, 13, 257, 3644, 5671, 5586, 319, 1353, 286, 257, 2266, 6915, 13, 257, 2415, 5055, 287, 257, 2119, 351, 257, 8801, 319, 262, 3355, 13, 257, 1048, 5055, 287, 257, 2877, 2119, 351, 257, 2330, 18507, 13, 257, 2415, 5055, 287, 257, 9592, 1306, 284, 257, 27635, 1353, 14361, 13, 257, 1048, 5055, 287, 257, 2119, 1306, 284, 257, 6915, 13, 257, 2877, 2119, 5901, 351, 13091, 290, 257, 12036, 319, 262, 3355, 13, 257, 9592, 351, 257, 27635, 11, 27000, 11, 284, 1603, 290, 6891, 16009, 13, 257, 2119, 351, 257, 4286, 286, 257, 2415, 319, 262, 3355, 13, 257, 582, 5055, 287, 257, 2119, 351, 257, 3644, 13, 257, 2119, 351, 257, 3084, 11, 20726, 290, 257, 5581, 13, 257, 2042, 290, 2330, 12436, 351, 257, 14595, 290, 16146, 13, 257, 2119, 351, 257, 3084, 11, 18791, 290, 5986, 319, 262, 3355, 13, 257, 2042, 290, 2330, 4590, 286, 257, 6915, 351, 257, 3644, 13, 257, 2415, 5055, 287, 257, 9592, 1306, 284, 257, 3084, 13, 257, 2877, 2119, 351, 257, 2266, 18507, 290, 257, 2042, 3084, 13, 257, 2119, 351, 257, 3996, 11, 257, 6915, 290, 257, 10162, 13, 257, 2119, 351, 257, 1492, 18316, 290, 257, 5118, 13, 257, 2415, 5055, 287, 257, 9592, 1306, 284, 257, 3753, 13, 257, 2415, 5055, 1306, 284, 257, 3084, 351, 257, 2508, 319, 340, 13, 257, 2877, 2119, 351, 257, 18507, 290, 257, 3084, 13, 257, 2266, 30500, 30967, 5586, 287, 257, 9592, 13, 257, 1048, 5055, 287, 2166, 286, 257, 1492, 18316, 13, 257, 9592, 351, 257, 30500, 290, 257, 27000, 13, 257, 1048, 287, 281, 10912, 19750, 5055, 287, 257, 32439, 13, 257, 9592, 351, 257, 2266, 30500, 290, 257, 8801, 319, 262, 3355, 13, 257, 2415, 318, 5055, 287, 257, 2119, 351, 257, 3084, 13, 257, 582, 287, 257, 4171, 6050, 5055, 287, 257, 2119, 13, 257, 9396, 286, 8234, 319, 257, 3084, 287, 257, 2119, 13, 257, 1048, 5055, 287, 257, 2119, 351, 257, 2330, 3084, 13, 257, 14595, 351, 257, 9396, 286, 23972, 319, 1353, 286, 340, 13, 257, 2415, 5055, 287, 2166, 286, 257, 2119, 351, 5986, 319, 262, 3355, 13, 257, 9592, 351, 257, 14595, 290, 257, 27000, 13, 257, 2415, 5055, 287, 257, 2119, 1306, 284, 257, 3084, 13, 257, 9592, 351, 257, 2266, 30500, 290, 257, 27635, 1353, 14361, 13, 257, 12436, 351, 257, 14595, 290, 257, 10162, 13, 257, 2119, 351, 257, 3996, 290, 257, 5581, 287, 340, 13, 257, 3644, 5671, 5586, 319, 1353, 286, 257, 2266, 6915, 13, 257, 582, 290, 257, 2415, 5055, 287, 257, 2119, 13, 257, 2877, 2119, 351, 257, 2330, 18507, 290, 257, 2042, 6891, 3084, 13, 257, 2042, 290, 2330, 2877, 2119, 351, 2284, 2052, 290, 257, 5581, 13, 257, 2415, 5055, 287, 257, 9592, 1306, 284, 257, 3084, 13, 257, 2415, 5055, 287, 257, 9592, 1306, 284, 257, 3084, 13, 257, 2415, 287, 257, 6877, 5055, 287, 257, 9592, 13, 257, 3644, 7560, 2939, 286, 257, 12436, 351, 257, 14595, 290, 16146, 13, 257, 1048, 5055, 287, 257, 2119, 351, 20726, 290, 257, 31557, 13, 257, 2119, 351, 257, 5118, 290, 257, 1492, 18316, 13, 257, 2877, 2119, 5901, 351, 13091, 290, 257, 12036, 319, 262, 3355, 13, 257, 582, 318, 5055, 287, 262, 3504, 286, 257, 2119, 13, 257, 2119, 351, 257, 3084, 290, 257, 31557, 13, 257, 2415, 5055, 287, 2166, 286, 257, 3084, 351, 257, 14256, 319, 340, 13, 257, 2119, 351, 257, 3996, 11, 6915, 290, 5581, 13, 257, 2877, 2119, 5901, 351, 13091, 290, 257, 6228, 3159, 31557, 13, 257, 9592, 351, 257, 30500, 290, 257, 27635, 13, 257, 2119, 351, 257, 3084, 290, 257, 7624, 287, 340, 13, 257, 12436, 351, 257, 16146, 11, 14595, 11, 290, 10162, 13, 257, 12436, 351, 257, 14595, 290, 257, 10162, 13, 257, 9396, 286, 8234, 319, 257, 3084, 287, 257, 2877, 2119, 13, 257, 1048, 5055, 287, 257, 2119, 351, 257, 3996, 290, 257, 3084, 13, 257, 2042, 290, 2330, 12436, 351, 257, 14595, 290, 16146, 13, 257, 2119, 5901, 351, 13091, 290, 257, 8801, 319, 262, 3355, 13, 257, 12436, 351, 257, 16146, 290, 257, 7837, 37995, 13, 257, 2119, 351, 257, 5118, 290, 5986, 319, 262, 3355, 13, 257, 2415, 5055, 287, 2166, 286, 257, 10162, 287, 257, 2119, 13, 257, 12436, 351, 257, 14595, 11, 16146, 11, 10162, 290, 5986, 319, 262, 3355, 13, 257, 2877, 2119, 351, 257, 18507, 290, 257, 3084, 13, 257, 12436, 351, 257, 16146, 290, 257, 14595, 13, 257, 2119, 351, 257, 3084, 290, 257, 31557, 13, 257, 7837, 2119, 351, 257, 7837, 12202, 257, 14595, 290, 257, 10162, 13, 257, 2415, 5055, 287, 257, 9592, 1306, 284, 257, 3084, 13, 257, 5141, 338, 14043, 351, 257, 2266, 290, 2330, 3996, 13, 257, 2415, 287, 257, 4077, 1353, 290, 2042, 23967, 5055, 287, 257, 2119, 13, 257, 12436, 351, 257, 16146, 11, 14595, 290, 10162, 13, 257, 12436, 351, 257, 14595, 11, 16146, 290, 257, 12036, 319, 262, 3355, 13, 257, 2415, 5055, 287, 257, 2119, 1306, 284, 257, 1492, 18316, 13, 257, 2415, 287, 257, 4077, 1353, 318, 5055, 287, 257, 2119, 13, 257, 3644, 5671, 5586, 319, 1353, 286, 257, 2266, 3084, 13, 257, 2042, 290, 2330, 2877, 2119, 351, 257, 18507, 290, 6891, 3084, 13, 257, 12436, 351, 257, 16146, 290, 257, 1492, 18316, 13, 257, 2415, 287, 257, 12436, 351, 257, 14595, 290, 257, 20518, 4572, 13, 257, 582, 318, 5055, 287, 257, 2119, 351, 13091, 13, 257, 2415, 5055, 287, 257, 9592, 1306, 284, 257, 27635, 1353, 14361, 13, 257, 582, 5055, 287, 2166, 286, 257, 3644, 5671, 13, 257, 2119, 351, 257, 2266, 30500, 290, 5986, 319, 262, 3355, 13, 257, 9592, 351, 257, 27635, 1353, 14361, 290, 5986, 319, 262, 3355, 13, 257, 12436, 351, 257, 14595, 11, 10162, 290, 5986, 319, 262, 3355, 13, 257, 582, 5055, 287, 257, 12436, 1306, 284, 257, 14595, 13, 257, 582, 5055, 287, 257, 2119, 1306, 284, 257, 3996, 13, 257, 9396, 286, 8234, 319, 257, 3084, 287, 257, 2119, 13, 257, 2266, 30500, 30967, 5586, 1306, 284, 257, 14595, 13, 257, 2415, 5055, 287, 257, 2119, 1306, 284, 257, 3084, 13, 257, 4286, 286, 257, 4171, 1021, 319, 257, 11398, 4469, 13, 257, 9592, 351, 257, 2266, 30500, 290, 257, 27635, 1353, 14361, 13, 257, 1048, 5055, 287, 257, 12436, 1306, 284, 257, 16146, 13, 257, 3644, 6915, 351, 257, 10211, 290, 10586, 319, 340, 13, 257, 14043, 351, 257, 3996, 11, 6576, 263, 290, 10162, 13, 257, 12436, 351, 257, 1302, 510, 14643, 1306, 284, 257, 2266, 3091, 13, 257, 3644, 5671, 5586, 319, 1353, 286, 257, 6915, 13, 257, 1048, 5055, 287, 2166, 286, 257, 3644, 5118, 13, 257, 3644, 6915, 5586, 287, 257, 2119, 1306, 284, 257, 3644, 5671, 13, 257, 2877, 2119, 351, 257, 2330, 18507, 290, 257, 12036, 319, 262, 3355, 13, 257, 2119, 351, 257, 1492, 18316, 290, 257, 5118, 13, 257, 3835, 258, 1652, 5901, 351, 6041, 286, 2330, 20726, 13, 257, 582, 5055, 287, 257, 2877, 2119, 1306, 284, 257, 18507, 13, 257, 582, 5055, 287, 257, 2119, 351, 257, 2042, 290, 2330, 1125, 66, 28970, 4314, 13, 257, 9592, 351, 257, 14595, 11, 27635, 11, 3753, 11, 290, 5986, 319, 262, 3355, 13, 257, 2119, 351, 257, 5118, 290, 5986, 319, 262, 3355, 13, 257, 2877, 2119, 351, 257, 18507, 290, 257, 3084, 13, 257, 3644, 6915, 351, 257, 13224, 319, 1353, 286, 340, 13, 257, 2877, 2119, 351, 257, 18507, 290, 257, 3084, 13, 257, 2415, 5055, 287, 257, 2119, 1306, 284, 257, 3084, 13, 257, 582, 287, 257, 6050, 5055, 287, 2166, 286, 257, 1492, 18316, 13, 257, 9592, 351, 257, 27635, 1353, 14361, 290, 5986, 319, 262, 3355, 13, 257, 2415, 5055, 287, 257, 9592, 1306, 284, 257, 3084, 13, 257, 2119, 351, 257, 1492, 18316, 290, 257, 5118, 13, 257, 2877, 2119, 351, 257, 2330, 18507, 290, 257, 2042, 3084, 13, 257, 12436, 351, 257, 16146, 290, 257, 20518, 4572, 13, 257, 582, 5055, 287, 257, 2119, 351, 257, 12036, 319, 262, 3355, 13, 257, 2877, 2119, 351, 257, 18507, 290, 257, 3644, 13, 257, 3644, 6915, 351, 257, 13224, 319, 1353, 286, 340, 13, 257, 2330, 5118, 5586, 287, 257, 2119, 1306, 284, 257, 3355, 13, 257, 2119, 351, 257, 4286, 286, 257, 2415, 319, 262, 3355, 13, 257, 3644, 7560, 2939, 286, 257, 2877, 2119, 13, 257, 2877, 2119, 5901, 351, 13091, 290, 257, 12036, 319, 262, 3355, 13, 257, 3644, 6915, 351, 257, 10586, 290, 10211, 13, 257, 2119, 351, 257, 3084, 11, 18791, 290, 257, 5581, 13, 257, 1048, 5055, 287, 257, 2119, 351, 257, 2266, 14477, 13, 257, 2415, 5055, 287, 257, 9592, 1306, 284, 257, 27635, 1353, 14361, 13, 257, 1048, 5055, 287, 257, 12436, 1306, 284, 257, 14595, 13, 257, 2415, 5055, 287, 257, 2119, 1306, 284, 257, 3084, 13, 257, 2119, 351, 257, 3996, 11, 257, 6915, 290, 257, 1492, 18316, 13, 257, 582, 5055, 287, 2166, 286, 257, 3644, 3159, 13, 257, 2415, 5055, 287, 257, 2119, 351, 5986, 319, 262, 3355, 13, 257, 2415, 5055, 287, 257, 9592, 1306, 284, 257, 3753, 13, 257, 582, 5055, 287, 257, 12436, 1306, 284, 257, 20518, 4572, 13, 257, 2415, 5055, 287, 257, 9592, 1306, 284, 257, 3084, 13, 257, 2415, 5055, 287, 2166, 286, 257, 3084, 351, 257, 2508, 319, 340, 13, 257, 2415, 5055, 287, 257, 2119, 1306, 284, 257, 3753, 13, 257, 2119, 351, 257, 30500, 290, 5986, 319, 262, 3355, 13, 257, 9592, 351, 257, 2266, 30500, 290, 257, 14595, 13, 257, 582, 6155, 866, 257, 23959, 1306, 284, 257, 6915, 13, 257, 2415, 287, 257, 4077, 1353, 318, 5055, 287, 257, 9592, 13, 257, 9592, 351, 257, 27635, 11, 27000, 290, 284, 1603, 14361, 13, 257, 9396, 286, 8234, 319, 257, 3084, 287, 257, 2877, 2119, 13, 257, 4286, 286, 257, 2415, 351, 4171, 4190, 10938, 319, 257, 3355, 13, 257, 9592, 351, 257, 30500, 290, 257, 27635, 13, 257, 582, 287, 257, 4171, 6050, 5055, 287, 257, 2119, 13, 257, 582, 5055, 287, 257, 2119, 351, 257, 2042, 4314, 13, 257, 12436, 351, 257, 14595, 11, 16146, 11, 290, 43064, 13, 257, 9592, 351, 257, 30500, 290, 257, 27635, 13, 257, 2119, 351, 257, 3084, 11, 18791, 11, 290, 5986, 319, 262, 3355, 13, 257, 2119, 351, 257, 1492, 18316, 290, 257, 4286, 319, 262, 3355, 13, 257, 12436, 351, 257, 14595, 290, 257, 10162, 13, 257, 2415, 5055, 287, 2166, 286, 257, 3084, 287, 257, 2119, 13, 257, 582, 5055, 287, 257, 2119, 351, 257, 1256, 286, 13091, 13, 257, 2415, 5055, 287, 257, 12436, 1306, 284, 257, 16146, 13, 257, 3155, 286, 1466, 5055, 1306, 284, 1123, 584, 287, 257, 2119, 13, 257, 582, 287, 257, 6050, 290, 9839, 5055, 287, 257, 2119, 13, 257, 2119, 351, 257, 2042, 4314, 290, 257, 7872, 13447, 13, 257, 1402, 12436, 351, 257, 373, 372, 290, 5894, 263, 13, 257, 12436, 351, 257, 14595, 11, 16146, 290, 257, 12036, 319, 262, 3355, 13, 257, 2415, 5055, 287, 257, 9592, 1306, 284, 257, 2266, 30500, 13, 257, 2415, 5055, 287, 257, 9592, 1306, 284, 257, 3084, 13, 257, 582, 5055, 287, 257, 2119, 351, 257, 9396, 286, 8234, 13, 257, 9592, 351, 257, 2266, 30500, 290, 257, 27635, 1353, 14361, 13, 257, 2877, 2119, 351, 257, 18507, 257, 3084, 290, 257, 18002, 13, 257, 9592, 351, 257, 30500, 290, 257, 27000, 13, 257, 2415, 5055, 287, 257, 12436, 1306, 284, 257, 14595, 13, 257, 2415, 5055, 287, 257, 2119, 351, 257, 8801, 319, 262, 3355, 13, 257, 1048, 5055, 287, 257, 2119, 351, 257, 3996, 290, 257, 14595, 13, 257, 3644, 6915, 351, 257, 5118, 290, 5986, 319, 262, 3355, 13, 281, 16965, 1570, 286, 257, 2266, 290, 2330, 2119, 13, 257, 2119, 351, 257, 6915, 290, 5986, 319, 262, 3355, 13, 257, 12436, 351, 257, 16146, 290, 257, 373, 372, 13, 257, 2415, 287, 257, 4077, 1353, 318, 6155, 832, 257, 2119, 13, 257, 2415, 5055, 287, 257, 9592, 1306, 284, 257, 3084, 13, 257, 2415, 5762, 257, 6877, 5055, 287, 2166, 286, 257, 2266, 30500, 13, 257, 14595, 351, 257, 9396, 286, 23972, 319, 1353, 286, 340, 13, 257, 1048, 5055, 287, 2166, 286, 257, 6228, 3159, 31557, 13, 257, 2877, 2119, 5901, 351, 13091, 290, 257, 6228, 3159, 31557, 13, 257, 2415, 5055, 287, 257, 2119, 1306, 284, 257, 3084, 13, 257, 2119, 351, 257, 2266, 30500, 290, 5986, 319, 262, 3355, 13, 257, 3644, 6915, 351, 257, 5671, 11, 10586, 290, 10211, 13, 257, 2415, 5055, 287, 257, 12436, 1306, 284, 257, 2956, 1292, 13, 257, 2415, 5055, 287, 257, 2119, 351, 257, 2266, 14477, 13, 257, 582, 287, 257, 6050, 5055, 287, 257, 2119, 13, 257, 1048, 5055, 287, 257, 2119, 351, 257, 8801, 319, 262, 3355, 13, 257, 2415, 5055, 287, 257, 2877, 2119, 1306, 284, 257, 18507, 13, 257, 3644, 6915, 351, 257, 3644, 5671, 290, 10586, 13, 257, 582, 5055, 287, 257, 12436, 1306, 284, 257, 373, 372, 290, 5894, 263, 13, 257, 2415, 5055, 287, 2166, 286, 257, 1492, 18316, 13, 257, 2119, 351, 257, 3996, 11, 6915, 290, 5581, 13, 257, 12436, 351, 257, 14595, 11, 10162, 11, 290, 16146, 3348, 18905, 263, 13, 257, 3644, 6915, 351, 257, 13224, 319, 1353, 286, 340, 13, 257, 1048, 5055, 287, 257, 2877, 2119, 1306, 284, 257, 3084, 13, 257, 2119, 351, 257, 3084, 11, 20726, 11, 290, 257, 31557, 13, 257, 2415, 5055, 287, 257, 9592, 1306, 284, 257, 3753, 13, 257, 582, 287, 257, 6050, 5055, 287, 2166, 286, 257, 1492, 7442, 13, 257, 582, 5055, 287, 257, 2877, 2119, 1306, 284, 257, 18507, 13, 257, 9592, 351, 257, 14595, 290, 257, 27000, 13, 257, 3644, 5671, 5586, 319, 1353, 286, 257, 2266, 6915, 13, 257, 12436, 351, 257, 7837, 37995, 290, 257, 14643, 13, 257, 2415, 287, 257, 4077, 1353, 318, 5055, 287, 257, 9592, 13, 257, 2119, 351, 257, 3996, 290, 257, 5581, 287, 340, 13, 257, 3644, 5671, 5586, 319, 1353, 286, 257, 6915, 13, 257, 2119, 351, 257, 6915, 290, 5986, 319, 262, 3355, 13, 257, 2330, 256, 3902, 12436, 351, 257, 14595, 290, 10162, 13, 257, 582, 5055, 287, 257, 2119, 351, 257, 2330, 18507, 13, 257, 2877, 2119, 351, 257, 18507, 11, 3084, 290, 5581, 13, 257, 12436, 351, 257, 16146, 290, 257, 14595, 13, 257, 1048, 5055, 287, 257, 2119, 351, 257, 8801, 319, 262, 3355, 13, 257, 582, 318, 5055, 287, 257, 2119, 351, 18791, 13, 257, 2877, 2119, 351, 257, 18507, 290, 257, 3084, 13, 257, 3644, 6915, 351, 257, 5118, 290, 257, 3644, 5671, 13, 257, 9592, 351, 257, 2266, 30500, 290, 257, 27635, 13, 257, 2877, 2119, 351, 257, 2330, 18507, 290, 257, 12036, 319, 262, 3355, 13, 257, 2415, 5055, 287, 257, 9592, 1306, 284, 257, 3084, 13, 257, 2042, 290, 2330, 2877, 2119, 351, 257, 18507, 290, 6891, 3084, 13, 257, 3644, 5671, 5586, 319, 1353, 286, 257, 2266, 3084, 13, 257, 3644, 6915, 351, 257, 13224, 319, 1353, 286, 340, 13, 257, 582, 287, 257, 4171, 6050, 5055, 287, 257, 2119, 13, 257, 2119, 351, 257, 3084, 11, 18791, 11, 290, 5986, 319, 262, 3355, 13, 257, 1570, 286, 257, 2877, 2119, 290, 9592, 422, 2029, 13, 257, 12436, 351, 257, 14595, 11, 16146, 11, 290, 257, 10162, 13, 257, 2415, 287, 257, 4077, 10147, 318, 5055, 287, 257, 2119, 13, 257, 582, 5055, 287, 2166, 286, 257, 3996, 287, 257, 2119, 13, 257, 582, 5055, 287, 257, 2877, 2119, 1306, 284, 257, 1492, 18316, 13, 257, 2042, 290, 2330, 12436, 351, 257, 14595, 290, 16146, 13, 257, 2119, 351, 257, 1492, 18316, 290, 257, 5118, 13, 257, 12436, 351, 257, 14595, 11, 16146, 290, 257, 12036, 319, 262, 3355, 13, 257, 2415, 5055, 287, 257, 2877, 2119, 1306, 284, 257, 18507, 13, 257, 2415, 5055, 287, 257, 2119, 351, 257, 2266, 14477, 13, 257, 582, 5055, 287, 2166, 286, 257, 10162, 287, 257, 2119, 13, 257, 2415, 5055, 287, 257, 9592, 1306, 284, 257, 27635, 1353, 14361, 13, 257, 3084, 351, 257, 2266, 3084, 17490, 287, 257, 2119, 13, 257, 9592, 351, 257, 14595, 290, 257, 27000, 13, 257, 2042, 290, 2330, 4590, 286, 257, 6915, 351, 257, 3644, 13, 257, 3644, 6915, 351, 257, 5118, 290, 257, 5671, 13, 257, 2877, 2119, 5901, 351, 13091, 290, 257, 31557, 13, 257, 2415, 5055, 287, 257, 2119, 351, 8893, 290, 18791, 13, 257, 2119, 351, 257, 6915, 290, 5986, 319, 262, 3355, 13, 257, 2877, 2119, 5901, 351, 13091, 290, 257, 10162, 13, 257, 582, 5055, 287, 257, 2877, 2119, 1306, 284, 257, 2330, 18507, 13, 257, 12436, 351, 257, 14595, 11, 10162, 11, 290, 16146, 13, 257, 9592, 351, 257, 27635, 11, 14595, 11, 290, 43064, 13, 257, 2042, 290, 2330, 2119, 351, 257, 3996, 290, 257, 6915, 13, 257, 1048, 5055, 287, 257, 12436, 1306, 284, 257, 14595, 13, 257, 2415, 5055, 287, 257, 9592, 1306, 284, 257, 3084, 13, 257, 2415, 318, 5055, 287, 257, 12436, 351, 257, 16146, 13, 257, 2415, 318, 5055, 287, 257, 2119, 351, 20726, 13, 257, 2330, 256, 3902, 12436, 351, 257, 2042, 14477, 319, 262, 4314, 13, 257, 2119, 351, 257, 3996, 11, 257, 3084, 11, 290, 5986, 319, 262, 3355, 13, 257, 582, 5055, 287, 257, 2119, 1306, 284, 257, 6915, 13, 257, 2415, 5055, 287, 257, 2119, 351, 5986, 319, 262, 3355, 13, 257, 2415, 5055, 287, 257, 2119, 1306, 284, 257, 3753, 13, 257, 14043, 351, 257, 3996, 290, 257, 1492, 18316, 13, 257, 2119, 351, 257, 16146, 290, 257, 14595, 287, 340, 13, 257, 2415, 5055, 287, 257, 2119, 351, 257, 2266, 3084, 13, 257, 2119, 351, 5986, 319, 262, 3355, 290, 5986, 319, 262, 3355, 13, 257, 12436, 351, 257, 2042, 14477, 319, 262, 4314, 13, 257, 14043, 351, 257, 3996, 290, 257, 10162, 13, 257, 582, 5055, 287, 257, 2877, 2119, 1306, 284, 257, 3084, 13, 257, 12436, 351, 257, 14595, 290, 257, 12036, 319, 262, 3355, 13, 257, 3155, 286, 1466, 5055, 287, 257, 9592, 1306, 284, 257, 3084, 13, 257, 2415, 5055, 287, 2166, 286, 257, 3084, 351, 257, 2508, 319, 340, 13, 257, 582, 5055, 287, 2166, 286, 257, 3644, 5671, 287, 257, 2119, 13, 257, 2415, 287, 257, 6877, 5055, 287, 257, 2119, 13, 257, 2877, 2119, 351, 257, 2330, 18507, 290, 257, 3084, 351, 257, 9396, 286, 8234, 319, 340, 13, 257, 2119, 351, 257, 1492, 18316, 290, 257, 7872, 13447, 13, 257, 1048, 5055, 287, 257, 2119, 351, 257, 18507, 13, 257, 2877, 2119, 351, 2266, 290, 2330, 11705, 13, 257, 3644, 5671, 5586, 319, 1353, 286, 257, 6915, 13, 257, 1402, 9592, 351, 257, 27635, 290, 257, 3753, 13, 257, 3644, 5671, 5586, 319, 1353, 286, 257, 2266, 6915, 13, 257, 582, 5055, 287, 257, 2877, 2119, 1306, 284, 257, 3084, 13, 257, 2415, 5055, 287, 257, 9592, 1306, 284, 1194, 2415, 13, 257, 2415, 5055, 287, 257, 2119, 1306, 284, 257, 1492, 18316, 13, 257, 1048, 5055, 287, 257, 2119, 351, 257, 8801, 319, 262, 3355, 13, 257, 3644, 5671, 5586, 319, 1353, 286, 257, 2266, 6915, 13, 257, 9592, 351, 257, 14595, 290, 257, 27000, 13, 257, 12436, 351, 257, 2042, 3420, 290, 257, 2330, 3355, 13, 257, 2266, 30500, 30967, 5586, 1306, 284, 257, 14595, 13, 257, 2415, 287, 257, 4077, 1353, 5055, 287, 257, 32439, 13, 257, 12436, 351, 257, 16146, 11, 14595, 11, 290, 10162, 13, 257, 1048, 5055, 287, 257, 2119, 351, 5986, 319, 262, 3355, 13, 257, 1048, 5055, 287, 257, 12436, 351, 257, 14595, 290, 16146, 13, 257, 2119, 326, 468, 257, 7684, 286, 20726, 287, 340, 13, 257, 2415, 5055, 287, 257, 9592, 1306, 284, 257, 3084, 13, 257, 2415, 287, 257, 6877, 5055, 287, 257, 2119, 13, 281, 17789, 1570, 286, 257, 9592, 290, 2877, 2119, 13, 257, 582, 5055, 287, 257, 2877, 2119, 2045, 379, 257, 5581, 13, 257, 2119, 351, 257, 3996, 11, 6915, 290, 5581, 13, 257, 12436, 351, 257, 14595, 11, 16146, 11, 290, 7837, 37995, 13, 257, 2415, 5055, 287, 2166, 286, 257, 3355, 351, 5986, 319, 340, 13, 257, 2877, 2119, 351, 257, 18507, 290, 257, 3084, 13, 257, 582, 287, 257, 4171, 6050, 5055, 287, 2166, 286, 257, 3835, 258, 1652, 13, 257, 9396, 286, 8234, 319, 257, 3084, 287, 257, 2877, 2119, 13, 257, 2877, 2119, 351, 257, 18507, 290, 257, 3644, 13, 257, 3644, 6915, 351, 257, 5118, 290, 257, 3644, 5671, 13, 257, 2119, 351, 257, 3753, 11, 13375, 290, 257, 460, 286, 20584, 13, 257, 582, 5055, 287, 2166, 286, 257, 3644, 5671, 287, 257, 2119, 13, 257, 582, 5055, 287, 257, 2877, 2119, 1306, 284, 257, 3084, 13, 257, 2119, 326, 468, 257, 3996, 290, 257, 3084, 287, 340, 13, 257, 582, 5055, 287, 2166, 286, 257, 3644, 6915, 13, 257, 2415, 5055, 287, 257, 2119, 351, 257, 1492, 18316, 13, 257, 2415, 287, 281, 10912, 10147, 290, 2042, 14412, 13, 257, 2415, 5055, 287, 257, 2119, 351, 257, 8801, 319, 262, 3355, 13, 257, 582, 287, 257, 4171, 6050, 5055, 287, 257, 2119, 13, 257, 2415, 5055, 287, 257, 9592, 1306, 284, 257, 3753, 13, 257, 3644, 6915, 351, 257, 10586, 290, 10211, 13, 257, 1048, 5055, 287, 257, 2119, 351, 257, 3996, 290, 6915, 13, 257, 1048, 5055, 287, 257, 2877, 2119, 1306, 284, 257, 18507, 13, 257, 2119, 351, 257, 3996, 290, 257, 6915, 287, 340, 13, 257, 2877, 2119, 5901, 351, 13091, 290, 257, 6228, 3159, 31557, 13, 257, 9396, 286, 8234, 319, 257, 3084, 287, 257, 2119, 13, 257, 2877, 2119, 351, 257, 18507, 290, 257, 3644, 13, 257, 2119, 351, 257, 3996, 11, 6915, 11, 290, 10162, 13, 257, 12436, 351, 257, 18316, 290, 257, 16146, 3348, 18905, 263, 13, 257, 582, 287, 257, 4171, 6050, 5055, 287, 257, 2119, 13, 257, 2415, 287, 257, 4077, 1353, 318, 6155, 832, 257, 2119, 13, 257, 3644, 6915, 5586, 287, 257, 2119, 1306, 284, 257, 5118, 13, 257, 3644, 6915, 351, 257, 5671, 11, 10586, 290, 10211, 13, 257, 4286, 286, 257, 2415, 351, 4171, 4190, 319, 257, 11398, 4469, 13, 257, 2877, 2119, 351, 257, 2330, 18507, 290, 257, 12036, 319, 262, 3355, 13, 257, 3644, 6915, 351, 257, 5118, 290, 257, 3644, 5671, 13, 257, 582, 287, 257, 4171, 6050, 5055, 287, 257, 2119, 13, 257, 2415, 5055, 287, 257, 9592, 1306, 284, 257, 3084, 13, 257, 2119, 351, 257, 2042, 3420, 290, 2330, 7714, 13, 257, 3155, 286, 1466, 5055, 287, 257, 9592, 1306, 284, 1123, 584, 13, 257, 9592, 351, 257, 2266, 30500, 290, 2330, 3753, 21246, 13, 257, 1048, 5055, 287, 257, 2119, 351, 257, 2266, 5118, 13, 257, 9592, 351, 257, 14595, 290, 257, 27000, 13, 257, 3644, 7560, 2939, 286, 257, 2119, 351, 20726, 13, 257, 2877, 2119, 351, 257, 2266, 18507, 290, 257, 2330, 3084, 13, 257, 2119, 351, 257, 2266, 290, 2042, 3355, 290, 5986, 319, 262, 3355, 13, 257, 582, 5055, 287, 257, 2119, 1306, 284, 257, 3644, 6915, 13, 257, 2415, 5055, 287, 257, 9592, 1306, 284, 257, 3753, 13, 257, 2415, 318, 5055, 287, 257, 2119, 351, 2266, 20710, 13, 257, 2042, 290, 2330, 12436, 351, 257, 14595, 290, 16146, 13, 257, 2415, 5055, 287, 257, 12436, 1306, 284, 257, 2956, 1292, 13, 257, 12436, 351, 257, 2042, 290, 2330, 14477, 319, 262, 4314, 13, 257, 3644, 7560, 2939, 286, 257, 582, 287, 257, 12436, 13, 257, 12436, 351, 257, 16146, 290, 257, 18316, 13, 257, 3644, 6915, 351, 257, 5671, 11, 10586, 290, 10211, 13, 257, 2119, 351, 257, 1492, 18316, 290, 257, 5118, 13, 257, 9082, 286, 257, 1048, 5055, 287, 257, 5228, 13, 257, 2877, 2119, 351, 257, 18507, 290, 257, 3644, 13, 257, 14595, 351, 257, 9396, 286, 23972, 319, 1353, 286, 340, 13, 257, 9592, 351, 257, 2266, 30500, 290, 2330, 43064, 13, 257, 7837, 2119, 351, 257, 16146, 257, 14595, 290, 257, 10162, 13, 257, 2877, 2119, 351, 257, 18507, 290, 257, 3644, 13, 257, 2415, 287, 257, 6877, 5055, 287, 257, 9592, 13, 281, 16965, 1570, 286, 257, 12436, 351, 257, 14595, 290, 16146, 13, 257, 2266, 30500, 30967, 5586, 1306, 284, 257, 3753, 13, 257, 2415, 5055, 287, 257, 2119, 351, 257, 3084, 290, 18791, 13, 257, 2415, 287, 257, 4077, 1353, 290, 2042, 23967, 5055, 287, 257, 2119, 13, 257, 2415, 287, 257, 4077, 10147, 290, 2042, 23967, 287, 257, 9592, 13, 257, 3644, 5671, 5586, 319, 1353, 286, 257, 2266, 6915, 13, 257, 2877, 2119, 351, 257, 31557, 290, 257, 2266, 3084, 13, 257, 2119, 351, 257, 3084, 11, 20726, 290, 5986, 319, 262, 3355, 13, 257, 2415, 287, 281, 10912, 6576, 5055, 287, 257, 2119, 13, 257, 582, 287, 257, 4171, 6050, 5055, 287, 257, 2119, 13, 257, 2415, 5055, 287, 2166, 286, 257, 1492, 18316, 13, 257, 582, 5055, 287, 2166, 286, 257, 7837, 37995, 287, 257, 12436, 13, 257, 2119, 351, 257, 18507, 290, 257, 3355, 1657, 13, 257, 582, 5055, 287, 257, 2877, 2119, 1306, 284, 257, 3996, 13, 257, 582, 5055, 287, 257, 2877, 2119, 1306, 284, 257, 18507, 13, 257, 3644, 5671, 5586, 319, 1353, 286, 257, 2266, 6915, 13, 257, 2042, 290, 2330, 2119, 351, 257, 1492, 18316, 13, 257, 2415, 5055, 287, 257, 9592, 1306, 284, 257, 8223, 13, 257, 582, 5055, 287, 257, 2877, 2119, 1306, 284, 257, 18507, 13, 257, 2119, 351, 257, 3084, 290, 257, 31557, 13, 257, 582, 287, 257, 4171, 6050, 5055, 287, 257, 2119, 13, 257, 2415, 5055, 287, 257, 12436, 1306, 284, 257, 12202, 13, 257, 12436, 351, 257, 16146, 290, 257, 14595, 13, 257, 1048, 5055, 287, 257, 12436, 1306, 284, 257, 14595, 13, 257, 2415, 5055, 287, 2166, 286, 257, 3355, 351, 5986, 319, 340, 13, 257, 2877, 2119, 5901, 351, 13091, 290, 257, 10162, 13, 257, 2119, 351, 257, 6915, 11, 5118, 290, 5986, 319, 262, 3355, 13, 257, 2877, 2119, 5901, 351, 13091, 290, 257, 6228, 3159, 31557, 13, 257, 3644, 6915, 351, 257, 5671, 11, 10586, 290, 10211, 13, 257, 1048, 287, 281, 10912, 19750, 5055, 287, 257, 2119, 13, 257, 2877, 2119, 351, 257, 2330, 18507, 290, 257, 2042, 3084, 13, 257, 2877, 2119, 351, 257, 2266, 18507, 290, 257, 2266, 3084, 13, 257, 2415, 287, 257, 4077, 10147, 318, 5055, 287, 257, 2119, 13, 257, 2415, 5055, 287, 257, 12436, 287, 257, 2266, 290, 2042, 6576, 13, 257, 2266, 30500, 30967, 5586, 1306, 284, 257, 14595, 13, 257, 582, 5055, 287, 257, 2119, 1306, 284, 257, 5118, 13, 257, 12436, 351, 257, 14595, 11, 16146, 11, 290, 14643, 13, 257, 2877, 2119, 351, 257, 2330, 18507, 290, 257, 2042, 6891, 3084, 13, 257, 2330, 256, 3902, 12436, 351, 257, 2042, 14477, 13, 257, 2415, 5055, 287, 257, 32439, 286, 257, 2119, 13, 257, 9592, 351, 257, 27635, 11, 27000, 11, 284, 1603, 290, 6891, 16009, 13, 257, 1048, 5055, 287, 257, 2119, 351, 257, 2266, 290, 2330, 4314, 13, 257, 1048, 5055, 287, 257, 2119, 351, 257, 2330, 18507, 13, 257, 2415, 5055, 287, 2166, 286, 257, 3084, 351, 257, 2508, 319, 340, 13, 257, 3644, 7560, 2939, 286, 257, 12436, 351, 257, 2266, 14595, 13, 257, 3644, 5671, 5586, 319, 1353, 286, 257, 2266, 3084, 13, 257, 2415, 5055, 287, 257, 2119, 351, 257, 2266, 14477, 319, 262, 4314, 13, 257, 9396, 286, 8234, 319, 257, 3084, 287, 257, 2877, 2119, 13, 257, 12436, 351, 257, 16146, 11, 14595, 11, 290, 10162, 13, 257, 582, 287, 257, 4171, 6050, 5055, 287, 257, 2119, 13, 257, 2415, 5055, 287, 257, 2119, 351, 257, 2266, 14477, 13, 257, 3644, 2119, 351, 257, 6915, 11, 5118, 11, 290, 3644, 5671, 13, 257, 2330, 9592, 351, 257, 2266, 30500, 30967, 13, 257, 2415, 287, 257, 4077, 1353, 5055, 287, 257, 9592, 13, 257, 582, 287, 257, 4171, 6050, 5055, 287, 257, 2119, 13, 257, 2415, 5055, 287, 2166, 286, 257, 1492, 18316, 13, 257, 3644, 6915, 351, 257, 5118, 290, 257, 3644, 5671, 13, 257, 2119, 351, 257, 2330, 18507, 290, 257, 4286, 319, 262, 3355, 13, 257, 2415, 287, 257, 4077, 10147, 5055, 287, 257, 9592, 13, 257, 9592, 351, 257, 3753, 11, 14595, 11, 14361, 11, 290, 5986, 319, 262, 3355, 13, 257, 3644, 6915, 351, 257, 5118, 290, 257, 3644, 5671, 13, 257, 12436, 351, 257, 2042, 14477, 287, 262, 3504, 286, 262, 4314, 13, 257, 2415, 5055, 287, 257, 9592, 1306, 284, 257, 3084, 13, 257, 582, 287, 257, 4077, 10147, 318, 5055, 287, 257, 2119, 13, 257, 8801, 12623, 284, 262, 1735, 286, 257, 3355, 13, 257, 1048, 5055, 287, 257, 2119, 351, 257, 1492, 18316, 13, 257, 2042, 290, 2330, 2877, 2119, 351, 257, 18507, 290, 6891, 3084, 13, 257, 3644, 5671, 5586, 319, 1353, 286, 257, 2266, 6915, 13, 257, 2119, 351, 257, 6915, 290, 257, 5118, 13, 257, 3996, 2119, 351, 257, 29776, 925, 3996, 290, 257, 1755, 1302, 13, 281, 16965, 1570, 286, 257, 12436, 351, 257, 14595, 290, 16146, 13, 257, 3644, 6915, 351, 257, 5671, 290, 10586, 13, 257, 582, 5055, 287, 2166, 286, 257, 3996, 287, 257, 2119, 13, 257, 1048, 5055, 287, 257, 2119, 351, 257, 12036, 319, 262, 3355, 13, 257, 2415, 5055, 287, 257, 2119, 351, 257, 3084, 13, 257, 2415, 5055, 287, 257, 9592, 1306, 284, 257, 3084, 13, 257, 3644, 6915, 351, 257, 5671, 11, 10586, 290, 10211, 13, 257, 2415, 5055, 287, 257, 2119, 351, 257, 6915, 290, 5118, 13, 257, 12036, 286, 257, 2415, 338, 1986, 319, 257, 3355, 13, 257, 2877, 2119, 5901, 351, 13091, 290, 257, 6228, 3159, 31557, 13, 257, 9592, 351, 257, 27635, 11, 27000, 11, 284, 1603, 290, 6891, 16009, 13, 257, 2415, 5055, 287, 2166, 286, 257, 3084, 287, 257, 2119, 13, 257, 3644, 7560, 2939, 286, 257, 9592, 14595, 13, 257, 2415, 5055, 287, 257, 2119, 1306, 284, 257, 3084, 13, 257, 2415, 5055, 287, 2166, 286, 257, 3084, 351, 13375, 286, 2057, 319, 340, 13, 257, 2415, 5055, 287, 257, 2119, 351, 257, 2266, 14477, 13, 257, 2415, 287, 257, 4077, 1353, 290, 2042, 23967, 13, 257, 3644, 6915, 351, 257, 5671, 11, 10586, 290, 10211, 13, 257, 582, 5055, 287, 257, 2877, 2119, 1306, 284, 257, 18507, 13, 257, 1048, 5055, 287, 257, 2119, 351, 2266, 290, 2330, 374, 10339, 13, 257, 2119, 351, 257, 3084, 290, 257, 31557, 13, 257, 2415, 5055, 287, 2166, 286, 257, 3084, 351, 13375, 286, 2057, 319, 340, 13, 257, 12436, 351, 257, 16146, 290, 257, 14595, 13, 257, 6915, 351, 257, 410, 589, 286, 12734, 319, 1353, 286, 340, 13, 257, 1048, 5055, 287, 2166, 286, 257, 2042, 3420, 13, 257, 12436, 351, 257, 14595, 11, 16146, 11, 290, 10162, 13, 257, 2877, 2119, 5901, 351, 13091, 290, 257, 6228, 3159, 31557, 13, 257, 582, 5055, 287, 2166, 286, 257, 10162, 287, 257, 2119, 13, 257, 1048, 5055, 287, 257, 2119, 351, 257, 3644, 13, 257, 9396, 286, 8234, 5586, 319, 1353, 286, 257, 3084, 13, 257, 3644, 5671, 5586, 319, 1353, 286, 257, 2266, 6915, 13, 257, 2266, 290, 2330, 9592, 351, 257, 3084, 290, 18791, 13, 257, 12436, 351, 257, 14595, 290, 257, 24808, 19127, 13, 281, 17789, 1570, 286, 257, 2877, 2119, 290, 9592, 13, 257, 2415, 5055, 287, 257, 2119, 351, 257, 8801, 319, 262, 3355, 13, 257, 3644, 6915, 290, 5118, 287, 257, 2119, 13, 257, 582, 287, 257, 4171, 6050, 5055, 287, 257, 2119, 13, 257, 2415, 5055, 287, 2166, 286, 257, 3084, 351, 13375, 286, 2057, 319, 340, 13, 257, 2415, 5055, 287, 257, 2119, 1306, 284, 257, 3084, 13, 257, 12036, 286, 257, 2415, 351, 4171, 2951, 13, 257, 2119, 351, 257, 1492, 18316, 290, 257, 4286, 319, 262, 3355, 13, 257, 1048, 5055, 287, 257, 2119, 351, 257, 2042, 2134, 13, 257, 2877, 2119, 5901, 351, 13091, 290, 257, 12036, 319, 262, 3355, 13, 257, 582, 5055, 287, 257, 2877, 2119, 1306, 284, 257, 6915, 13, 257, 2415, 5055, 287, 257, 9592, 1306, 284, 257, 3753, 13, 257, 2119, 351, 257, 3996, 11, 6915, 11, 290, 3644, 5671, 13, 257, 27635, 1353, 14361, 5586, 2641, 286, 257, 9592, 13, 257, 14595, 351, 257, 9396, 286, 23972, 319, 1353, 286, 340, 13, 257, 2415, 5055, 287, 257, 2119, 351, 257, 8801, 319, 262, 3355, 13, 257, 1048, 5055, 287, 257, 2119, 351, 257, 2330, 3084, 13, 257, 1969, 510, 286, 257, 16146, 287, 257, 12436, 13, 257, 2415, 5055, 287, 257, 2119, 351, 257, 2266, 14477, 13, 257, 2266, 30500, 30967, 5586, 1306, 284, 257, 14595, 13, 257, 2119, 351, 257, 6915, 290, 5986, 319, 262, 3355, 13, 257, 582, 5055, 287, 257, 2119, 351, 257, 5118, 290, 257, 5581, 13, 257, 2415, 5055, 287, 257, 9592, 1306, 284, 1194, 2415, 13, 257, 12436, 351, 257, 2042, 14477, 319, 262, 4314, 13, 257, 9592, 351, 257, 14595, 11, 27635, 11, 290, 30500, 13, 257, 3155, 286, 661, 326, 389, 5055, 287, 257, 2119, 13, 257, 1048, 5055, 287, 257, 2119, 351, 257, 2266, 3420, 13, 257, 3644, 5671, 5586, 319, 1353, 286, 257, 2266, 3084, 13, 257, 9592, 351, 257, 27635, 11, 27000, 11, 284, 1603, 290, 6891, 16009, 13, 257, 2119, 351, 257, 4286, 286, 257, 2415, 319, 262, 3355, 13, 257, 2877, 2119, 351, 257, 2330, 18507, 290, 257, 2042, 6891, 3084, 13, 257, 2415, 5055, 287, 257, 2119, 351, 257, 8801, 319, 262, 3355, 13, 257, 12436, 351, 257, 2330, 16146, 290, 257, 2330, 14595, 13, 257, 12436, 351, 257, 16146, 290, 257, 13913, 460, 13, 257, 9592, 351, 257, 27635, 1353, 14361, 1306, 284, 257, 30500, 13, 257, 582, 5055, 287, 257, 2877, 2119, 1306, 284, 257, 18507, 13, 257, 9592, 351, 257, 30500, 290, 257, 27000, 13, 257, 582, 5055, 287, 2166, 286, 257, 31557, 287, 257, 2877, 2119, 13, 257, 2415, 5055, 287, 257, 2119, 351, 257, 8801, 319, 262, 3355, 13, 257, 9592, 351, 257, 14595, 290, 257, 27000, 13, 257, 2877, 2119, 351, 257, 2330, 18507, 290, 257, 2042, 3084, 13, 257, 2042, 290, 2330, 2877, 2119, 351, 257, 18507, 290, 6891, 3084, 13, 257, 2415, 5055, 287, 257, 9592, 1306, 284, 257, 27635, 1353, 14361, 13, 257, 1048, 5055, 287, 257, 2119, 351, 13091, 13, 257, 582, 5055, 287, 2166, 286, 257, 3644, 6915, 13, 257, 1048, 5055, 287, 2166, 286, 257, 1492, 18316, 13, 257, 14595, 351, 257, 9396, 286, 23972, 319, 1353, 286, 340, 13, 257, 2415, 287, 257, 6877, 5055, 287, 257, 2119, 13, 257, 3644, 5671, 5586, 319, 1353, 286, 257, 6915, 13, 257, 2415, 5055, 287, 257, 9592, 1306, 284, 257, 3084, 13, 257, 9396, 286, 8234, 319, 257, 3084, 287, 257, 2119, 13, 257, 2415, 287, 257, 4077, 10147, 290, 2042, 23967, 287, 257, 2119, 13, 257, 2119, 351, 257, 3996, 290, 257, 5581, 13, 257, 582, 5055, 287, 257, 2877, 2119, 1306, 284, 257, 18507, 13, 257, 582, 5055, 287, 262, 32439, 286, 257, 2119, 13, 257, 9592, 351, 257, 14595, 11, 27635, 11, 3753, 11, 290, 5986, 319, 262, 3355, 13, 257, 582, 5055, 287, 2166, 286, 257, 3644, 5671, 13, 257, 9592, 351, 257, 27635, 11, 27000, 290, 284, 1603, 14361, 13, 257, 1048, 5055, 287, 257, 12436, 351, 257, 2042, 290, 2330, 14477, 13, 257, 2119, 351, 257, 2266, 18316, 290, 257, 2042, 3526, 13, 257, 2877, 2119, 351, 257, 2330, 18507, 290, 257, 3084, 351, 257, 9396, 286, 8234, 319, 340, 13, 257, 582, 287, 257, 4171, 6050, 5055, 287, 257, 2119, 13, 257, 2415, 287, 281, 10912, 1353, 318, 5055, 287, 257, 2119, 13, 257, 2415, 5055, 287, 257, 2877, 2119, 1306, 284, 257, 3996, 13, 257, 2415, 5055, 287, 257, 9592, 1306, 284, 257, 3753, 13, 257, 9592, 351, 257, 30500, 290, 257, 27000, 13, 257, 2415, 5055, 287, 2166, 286, 257, 10162, 287, 257, 2119, 13, 257, 3996, 2119, 351, 257, 3996, 257, 3084, 290, 257, 10162, 13, 257, 2415, 5055, 287, 257, 9592, 1306, 284, 257, 3753, 13, 257, 2415, 5055, 287, 257, 12436, 1306, 284, 257, 7837, 37995, 13, 257, 12436, 351, 257, 14595, 290, 257, 12036, 319, 262, 3355, 13, 257, 582, 5055, 287, 257, 2119, 1306, 284, 257, 3996, 13, 257, 9592, 351, 257, 30500, 290, 257, 27000, 13, 257, 582, 5055, 287, 257, 9592, 1306, 284, 257, 3753, 13, 257, 1048, 5055, 287, 257, 12436, 351, 257, 24808, 13, 257, 2415, 5055, 287, 257, 9592, 1306, 284, 257, 27635, 1353, 14361, 13, 257, 2415, 5055, 287, 257, 2119, 351, 257, 1492, 18316, 13, 257, 2415, 5055, 287, 257, 12436, 1306, 284, 257, 3996, 13, 257, 1048, 5055, 287, 257, 2119, 351, 257, 18507, 290, 257, 3084, 13, 257, 9396, 286, 8234, 319, 257, 3084, 287, 257, 2119, 13, 257, 2415, 5055, 287, 257, 9592, 1306, 284, 257, 3084, 13, 257, 3644, 6915, 351, 257, 5671, 11, 10586, 290, 10211, 13, 257, 2415, 5055, 287, 257, 2119, 351, 257, 2266, 14477, 13, 257, 2415, 5055, 287, 257, 9592, 1306, 284, 257, 3084, 13, 257, 12436, 351, 257, 16146, 290, 257, 373, 372, 13, 257, 2266, 30500, 287, 257, 9592, 1306, 284, 257, 4286, 286, 257, 2415, 13, 257, 12436, 351, 257, 2042, 3355, 290, 257, 2330, 16146, 13, 257, 2119, 351, 257, 3084, 11, 18791, 11, 290, 5986, 319, 262, 3355, 13, 257, 1048, 5055, 287, 257, 2119, 351, 257, 13447, 13, 257, 2415, 5055, 287, 257, 12436, 351, 257, 24808, 319, 607, 736, 13, 257, 9396, 286, 8234, 5586, 319, 1353, 286, 257, 3084, 13, 257, 2119, 351, 257, 3996, 290, 257, 6915, 287, 340, 13, 257, 2877, 2119, 351, 257, 18507, 257, 3084, 290, 257, 18316, 13, 257, 582, 287, 257, 4171, 6050, 5055, 287, 257, 2119, 13, 257, 582, 5055, 287, 257, 2119, 351, 257, 1256, 286, 13091, 13, 257, 9592, 351, 257, 14595, 290, 257, 27000, 13, 257, 2415, 5055, 287, 257, 2119, 1306, 284, 257, 1492, 18316, 13, 257, 12436, 351, 257, 16146, 290, 256, 3902, 7714, 13, 257, 2266, 30500, 30967, 5586, 2641, 286, 257, 9592, 13, 257, 2415, 5055, 287, 257, 2119, 351, 257, 8801, 319, 262, 3355, 13, 257, 9082, 286, 257, 1048, 5055, 287, 257, 5228, 13, 257, 2330, 256, 3902, 12436, 351, 257, 2042, 14477, 319, 262, 4314, 13, 257, 2415, 5055, 287, 257, 9592, 1306, 284, 257, 3753, 13, 257, 2415, 5055, 287, 257, 2119, 351, 257, 2266, 14477, 13, 257, 12436, 351, 257, 14595, 11, 10162, 11, 290, 16146, 13, 257, 2042, 290, 2330, 2877, 2119, 351, 257, 18507, 290, 6891, 3084, 13, 257, 12436, 351, 257, 14595, 290, 257, 10162, 13, 257, 2877, 2119, 351, 257, 18507, 290, 257, 3644, 13, 257, 1048, 5055, 287, 257, 12436, 351, 257, 2042, 290, 2330, 17763, 4314, 13, 257, 2415, 5055, 287, 257, 2119, 351, 257, 3084, 13, 257, 2877, 2119, 351, 257, 18507, 290, 257, 3644, 13, 257, 2415, 5055, 287, 257, 12436, 1306, 284, 257, 14595, 13, 257, 2042, 290, 2330, 4590, 286, 257, 12436, 13, 257, 2266, 30500, 30967, 5586, 1306, 284, 257, 14595, 13, 257, 2415, 5055, 287, 257, 2119, 351, 257, 8801, 319, 262, 3355, 13, 257, 2877, 2119, 351, 257, 18507, 290, 257, 3644, 13, 257, 9592, 351, 257, 2266, 30500, 290, 2330, 3753, 21246, 13, 257, 582, 5055, 287, 257, 2877, 2119, 1306, 284, 257, 3084, 13, 257, 12436, 351, 257, 14595, 11, 16146, 11, 290, 7837, 37995, 13, 257, 2119, 351, 257, 6915, 290, 257, 2266, 290, 2330, 3355, 13, 257, 2119, 351, 257, 3996, 11, 257, 6915, 290, 257, 10162, 13, 257, 2119, 351, 257, 31557, 290, 257, 2266, 3084, 13, 257, 2415, 318, 5055, 287, 257, 2119, 351, 2266, 290, 2330, 11705, 13, 257, 2119, 351, 257, 1492, 18316, 290, 257, 16146, 13, 257, 582, 287, 257, 4171, 10147, 318, 5055, 287, 257, 2119, 13, 257, 3644, 7560, 2939, 286, 257, 2119, 351, 3835, 2978, 1158, 13, 257, 2415, 5055, 287, 257, 2119, 1306, 284, 257, 3084, 13, 257, 1048, 5055, 287, 2166, 286, 257, 3644, 6915, 13, 257, 582, 5055, 287, 257, 2877, 2119, 1306, 284, 257, 3084, 13, 257, 1048, 287, 281, 10912, 19750, 287, 257, 2119, 13, 257, 1048, 5055, 287, 257, 12436, 1306, 284, 257, 14595, 13, 257, 9592, 351, 257, 27635, 11, 27000, 290, 284, 1603, 14361, 13, 257, 2415, 5055, 287, 257, 9592, 1306, 284, 257, 3084, 13, 257, 3644, 6915, 351, 257, 5671, 11, 10586, 290, 10211, 13, 257, 2119, 351, 257, 3084, 11, 18791, 11, 290, 5986, 319, 262, 3355, 13, 257, 3644, 6915, 351, 257, 3644, 5671, 319, 1353, 286, 340, 13, 257, 9592, 351, 257, 14595, 290, 257, 27000, 13, 257, 582, 5055, 287, 257, 2877, 2119, 1306, 284, 257, 18507, 13, 257, 2415, 287, 257, 4077, 1353, 318, 5055, 287, 257, 2119, 13, 257, 9082, 286, 257, 1048, 287, 257, 3223, 2119, 13, 257, 9592, 351, 257, 30500, 290, 257, 27635, 13, 257, 2877, 2119, 351, 257, 2330, 18507, 290, 257, 2042, 6891, 3084, 13, 257, 1048, 5055, 287, 257, 2877, 2119, 351, 257, 6891, 3084, 13, 257, 582, 5055, 287, 2166, 286, 257, 3644, 10586, 13, 257, 12436, 351, 257, 16146, 290, 257, 14595, 13, 257, 2119, 351, 257, 7872, 13447, 290, 5986, 319, 262, 3355, 13, 257, 2415, 5055, 287, 257, 2119, 351, 257, 2266, 14477, 13, 257, 1048, 2263, 257, 4286, 286, 2405, 287, 257, 12436, 10162, 13, 257, 2415, 5055, 287, 257, 2119, 351, 257, 8801, 319, 262, 3355, 13, 257, 582, 5055, 287, 257, 2119, 351, 257, 45391, 13, 257, 2877, 2119, 351, 257, 18507, 290, 257, 3084, 13, 257, 9592, 351, 257, 14595, 290, 257, 27000, 13, 257, 582, 5055, 287, 2166, 286, 257, 3644, 5671, 13, 257, 9592, 351, 257, 27635, 11, 27000, 290, 284, 1603, 14361, 13, 257, 1048, 5055, 287, 257, 12436, 351, 257, 2266, 290, 2330, 24808, 13, 257, 582, 5055, 287, 257, 2119, 351, 257, 2266, 25510, 13, 257, 9592, 351, 257, 2266, 30500, 290, 257, 27635, 13, 257, 3644, 7560, 2939, 286, 257, 582, 287, 257, 2877, 2119, 13, 257, 12436, 351, 257, 14595, 290, 257, 7837, 37995, 13, 257, 1492, 18316, 5901, 351, 6041, 286, 3835, 13, 257, 2042, 290, 2330, 12436, 351, 257, 14595, 290, 16146, 13, 257, 14595, 351, 257, 9396, 286, 23972, 319, 1353, 286, 340, 13, 257, 582, 5055, 287, 2166, 286, 257, 12036, 287, 257, 2119, 13, 257, 582, 287, 257, 6050, 290, 9839, 5055, 287, 257, 2119, 13, 257, 2415, 5055, 287, 257, 2119, 351, 257, 2266, 14477, 13, 257, 1048, 5055, 287, 2166, 286, 257, 6228, 3159, 31557, 13, 257, 2119, 351, 257, 3084, 11, 18791, 11, 290, 5986, 319, 262, 3355, 13, 257, 12436, 351, 257, 16146, 290, 257, 14595, 13, 257, 14043, 351, 257, 4286, 286, 257, 2415, 319, 262, 3355, 13, 257, 2877, 2119, 351, 257, 2330, 18507, 290, 257, 2042, 3084, 13, 257, 2042, 290, 2330, 4590, 286, 257, 6915, 351, 257, 3644, 13, 257, 2415, 5055, 287, 257, 9592, 1306, 284, 257, 2266, 30500, 13, 257, 2119, 351, 257, 2042, 3420, 290, 257, 2330, 3355, 13, 257, 3644, 7560, 2939, 286, 257, 2119, 351, 20726, 290, 257, 5118, 13, 257, 2415, 5055, 287, 2166, 286, 257, 10162, 287, 257, 2119, 13, 257, 6915, 351, 257, 3644, 5671, 290, 10586, 13, 257, 2877, 2119, 5901, 351, 13091, 290, 257, 6228, 3159, 31557, 13, 257, 582, 5055, 287, 2166, 286, 257, 3644, 6915, 13, 257, 12436, 351, 257, 14595, 11, 16146, 11, 290, 7837, 37995, 13, 257, 2415, 5055, 287, 2166, 286, 257, 1492, 18316, 13, 257, 3644, 6915, 351, 257, 5118, 290, 257, 4286, 319, 262, 3355, 13, 257, 2415, 5055, 287, 257, 2119, 1306, 284, 257, 3084, 13, 257, 12436, 351, 257, 14595, 11, 10162, 290, 5986, 319, 262, 3355, 13, 257, 2119, 351, 257, 3996, 11, 6915, 11, 290, 3644, 5671, 13, 257, 2877, 2119, 351, 257, 2330, 18507, 290, 257, 2042, 6891, 3084, 13, 257, 2119, 351, 257, 3084, 290, 257, 31557, 13, 257, 2042, 290, 2330, 4590, 286, 257, 6915, 351, 257, 3644, 13, 257, 2119, 351, 257, 21615, 290, 257, 18316, 5901, 351, 10559, 13, 257, 2119, 351, 257, 1492, 18316, 290, 257, 13447, 13, 257, 1048, 5055, 287, 2166, 286, 257, 1492, 18316, 13, 257, 2119, 351, 257, 1492, 18316, 290, 257, 13447, 13, 257, 582, 5055, 287, 257, 2877, 2119, 1306, 284, 257, 18507, 13, 257, 12436, 351, 257, 14595, 11, 16146, 290, 257, 14643, 13, 257, 3644, 7560, 2939, 286, 257, 9592, 351, 2266, 290, 2330, 11705, 13, 257, 2877, 2119, 351, 257, 18507, 290, 257, 3084, 13, 257, 2415, 5055, 287, 257, 9592, 1306, 284, 257, 3084, 13, 257, 2042, 290, 2330, 2119, 351, 257, 6915, 290, 5118, 13, 257, 2415, 287, 257, 2266, 290, 2042, 6576, 5055, 287, 257, 12436, 13, 257, 2877, 2119, 351, 257, 2330, 18507, 290, 257, 2042, 3084, 13, 257, 2042, 290, 2330, 2877, 2119, 351, 257, 18507, 290, 6891, 3084, 13, 257, 582, 5055, 287, 257, 2119, 1306, 284, 257, 1492, 18316, 13, 257, 2415, 287, 257, 4077, 1353, 290, 2042, 23967, 5055, 287, 257, 2119, 13, 257, 2415, 5055, 287, 257, 2119, 1306, 284, 257, 582, 13, 257, 2415, 5055, 287, 257, 2119, 1306, 284, 1194, 2415, 13, 257, 2877, 2119, 351, 257, 2330, 18507, 290, 257, 12036, 319, 262, 3355, 13, 257, 9592, 351, 257, 2266, 3084, 290, 2330, 18791, 13, 257, 582, 287, 257, 4171, 6050, 5055, 287, 257, 2119, 13, 257, 3644, 7560, 2939, 286, 257, 12436, 351, 257, 14595, 13, 257, 582, 5055, 287, 2166, 286, 257, 3996, 287, 257, 2119, 13, 257, 3644, 5671, 5586, 319, 1353, 286, 257, 6915, 13, 257, 2415, 287, 257, 4077, 1353, 5055, 287, 257, 2119, 13, 257, 2415, 5055, 287, 257, 2119, 351, 257, 2266, 14477, 13, 257, 2415, 5055, 1306, 284, 257, 3084, 351, 13375, 319, 340, 13, 257, 2415, 287, 257, 4077, 1353, 318, 5055, 287, 257, 9592, 13, 257, 2266, 30500, 30967, 5586, 1306, 284, 257, 14595, 13, 257, 2877, 2119, 351, 257, 18507, 257, 3084, 290, 257, 1492, 18316, 13, 257, 14043, 351, 257, 3996, 290, 257, 21615, 13, 257, 2119, 351, 20726, 290, 257, 4286, 319, 262, 3355, 13, 257, 9592, 351, 257, 2266, 30500, 290, 257, 27635, 13, 257, 2877, 2119, 351, 257, 2330, 18507, 290, 257, 3084, 351, 257, 9396, 286, 8234, 319, 340, 13, 257, 2119, 326, 468, 257, 7684, 286, 20726, 287, 340, 13, 281, 16965, 1570, 286, 257, 2266, 290, 2330, 9592, 13, 281, 16965, 1570, 286, 257, 14043, 351, 257, 3996, 290, 257, 6915, 13, 257, 2415, 5055, 287, 257, 12436, 1306, 284, 257, 14595, 13, 257, 3644, 6915, 351, 257, 5671, 11, 10586, 290, 10211, 13, 257, 3155, 286, 1466, 5055, 287, 257, 12436, 1306, 284, 1123, 584, 13, 257, 9592, 351, 257, 30500, 290, 257, 27635, 13, 257, 3644, 7560, 2939, 286, 257, 3660, 9592, 13, 257, 2119, 351, 257, 1492, 18316, 290, 257, 5118, 13, 257, 14043, 351, 257, 3996, 290, 257, 3084, 13, 257, 2415, 5055, 287, 257, 9592, 1306, 284, 257, 3084, 13, 257, 2415, 287, 257, 6877, 5055, 287, 257, 2119, 13, 257, 2877, 2119, 351, 257, 2330, 18507, 290, 257, 2042, 6891, 3084, 13, 257, 2119, 351, 257, 3084, 290, 257, 2266, 14477, 319, 262, 4314, 13, 257, 2415, 287, 257, 2266, 290, 2042, 6576, 5055, 287, 257, 2119, 13, 257, 2330, 256, 3902, 12436, 351, 7586, 43064, 290, 257, 14595, 13, 257, 2877, 2119, 351, 257, 18507, 290, 257, 3644, 13, 257, 1048, 5055, 287, 257, 2119, 351, 257, 18507, 13, 257, 582, 287, 257, 4171, 6050, 5055, 287, 257, 2119, 13, 257, 2415, 5055, 287, 257, 2119, 351, 257, 8801, 319, 262, 3355, 13, 257, 2877, 2119, 351, 257, 2330, 18507, 290, 257, 1492, 18316, 13, 257, 2415, 5055, 287, 257, 12436, 1306, 284, 257, 2956, 1292, 13, 257, 3644, 6915, 351, 257, 13224, 319, 1353, 286, 340, 13, 257, 2119, 351, 257, 6915, 290, 5986, 319, 262, 3355, 13, 257, 1048, 287, 257, 12436, 351, 257, 3290, 13, 257, 3644, 5671, 5586, 319, 1353, 286, 257, 2266, 6915, 13, 257, 2415, 5055, 287, 257, 12436, 351, 257, 2042, 14477, 13, 257, 2877, 2119, 351, 257, 2330, 18507, 290, 257, 2042, 6891, 3084, 13, 257, 2330, 7837, 12202, 5586, 1306, 284, 257, 2330, 14643, 29461, 13, 257, 2415, 287, 257, 4077, 1353, 5055, 287, 257, 2119, 13, 257, 582, 5055, 287, 2166, 286, 257, 10162, 287, 257, 2119, 13, 257, 3644, 6915, 5586, 287, 257, 2119, 1306, 284, 257, 18507, 13, 257, 3644, 5671, 5586, 319, 1353, 286, 257, 2266, 3084, 13, 257, 582, 5055, 287, 2166, 286, 257, 3644, 5671, 287, 257, 2877, 2119, 13, 257, 2415, 287, 257, 4077, 1353, 290, 2042, 23967, 5055, 287, 257, 9592, 13, 257, 1048, 5055, 287, 257, 12436, 1306, 284, 257, 373, 372, 290, 5894, 263, 13, 257, 2119, 351, 257, 6915, 290, 5986, 319, 262, 3355, 13, 257, 3996, 2119, 351, 257, 29776, 925, 3996, 290, 257, 410, 589, 286, 12734, 13, 257, 2119, 351, 257, 1492, 18316, 290, 257, 13447, 13, 257, 2877, 2119, 351, 257, 2330, 18507, 290, 257, 2042, 3084, 13, 257, 1048, 5055, 287, 2166, 286, 257, 6228, 3159, 31557, 13, 257, 2877, 2119, 351, 257, 18507, 290, 257, 3084, 13, 257, 1048, 5055, 287, 257, 2119, 351, 257, 6915, 290, 5986, 319, 262, 3355, 13, 257, 2877, 2119, 351, 257, 5581, 290, 5986, 319, 262, 3355, 13, 257, 2415, 5055, 287, 257, 9592, 1306, 284, 257, 3084, 13, 257, 2877, 2119, 5901, 351, 13091, 290, 257, 12036, 319, 262, 3355, 13, 257, 2415, 5055, 287, 257, 12436, 351, 257, 12202, 290, 14595, 13, 257, 582, 5055, 287, 257, 2877, 2119, 1306, 284, 257, 3084, 13, 257, 9396, 286, 8234, 319, 257, 3084, 287, 257, 2877, 2119, 13, 257, 12436, 351, 257, 14595, 11, 16146, 290, 257, 12036, 319, 262, 3355, 13, 257, 582, 5055, 287, 257, 2877, 2119, 1306, 284, 257, 18507, 13, 257, 582, 5055, 287, 2166, 286, 257, 3644, 6915, 13, 257, 2415, 287, 257, 4077, 1353, 318, 5055, 287, 257, 2119, 13, 257, 2119, 326, 468, 257, 3084, 290, 257, 5118, 287, 340, 13, 257, 2119, 351, 257, 1492, 18316, 290, 257, 5118, 13, 257, 8801, 12623, 284, 262, 1735, 286, 257, 3355, 13, 257, 2415, 5055, 287, 257, 9592, 1306, 284, 257, 2266, 30500, 13, 257, 2119, 351, 257, 5118, 290, 257, 1492, 18316, 13, 257, 2119, 351, 257, 6915, 11, 20726, 11, 290, 257, 3644, 5671, 13, 257, 2415, 5055, 287, 257, 2119, 351, 257, 6877, 319, 13, 257, 2415, 5055, 287, 257, 2119, 1306, 284, 257, 3084, 13, 257, 582, 290, 257, 2415, 5055, 287, 257, 2119, 13, 257, 3644, 5671, 5586, 319, 1353, 286, 257, 2266, 6915, 13, 257, 2415, 287, 257, 4077, 10147, 5055, 287, 257, 9592, 13, 257, 2119, 351, 257, 1492, 18316, 290, 257, 16146, 13, 257, 2415, 5055, 287, 257, 2877, 2119, 1306, 284, 257, 1492, 18316, 13, 257, 2415, 5055, 287, 257, 2119, 351, 257, 8801, 319, 262, 3355, 13, 257, 9592, 351, 257, 3753, 11, 14595, 11, 14361, 11, 290, 5986, 319, 262, 3355, 13, 257, 1048, 5055, 287, 257, 2119, 351, 5986, 319, 262, 3355, 13, 257, 582, 5055, 287, 257, 2119, 351, 257, 1588, 3881, 13, 257, 1570, 286, 257, 1402, 9592, 422, 2029, 13, 257, 582, 287, 257, 4171, 6050, 5055, 287, 257, 2119, 13, 257, 2877, 2119, 351, 257, 18507, 290, 257, 3644, 13, 257, 2415, 5055, 287, 2166, 286, 257, 6228, 3159, 31557, 13, 257, 582, 5055, 287, 257, 2877, 2119, 1306, 284, 257, 18507, 13, 257, 582, 5055, 287, 257, 2119, 1306, 284, 257, 10162, 13, 257, 2415, 5055, 287, 257, 2119, 351, 257, 2266, 14477, 13, 257, 582, 5055, 287, 257, 2119, 1306, 284, 257, 6915, 13, 257, 2119, 351, 257, 5118, 290, 257, 4286, 319, 262, 3355, 13, 257, 3644, 6915, 351, 257, 5118, 290, 257, 3644, 5671, 13, 257, 9592, 351, 257, 2266, 30500, 290, 257, 27635, 1353, 14361, 13, 257, 2415, 5055, 287, 257, 2119, 351, 257, 1492, 18316, 13, 257, 2415, 5055, 287, 257, 9592, 1306, 284, 257, 2266, 30500, 13, 257, 2119, 351, 257, 6915, 290, 257, 5118, 287, 340, 13, 257, 9592, 351, 257, 14595, 290, 257, 27000, 13, 257, 3644, 5671, 5586, 319, 1353, 286, 257, 2266, 6915, 13, 257, 582, 287, 257, 4171, 6050, 5055, 287, 2166, 286, 257, 1492, 7442, 13, 257, 3644, 2119, 351, 257, 6915, 290, 257, 3996, 13, 257, 582, 5055, 287, 257, 2877, 2119, 1306, 284, 257, 18507, 13, 257, 2877, 2119, 351, 257, 5581, 290, 257, 1492, 18316, 13, 257, 582, 5055, 287, 257, 2877, 2119, 1306, 284, 257, 18507, 13, 257, 2415, 5055, 287, 257, 2119, 351, 2266, 290, 2330, 7714, 13, 257, 582, 5055, 287, 257, 2119, 351, 257, 2266, 290, 2330, 20710, 13, 257, 2415, 287, 257, 12436, 351, 257, 14595, 290, 10162, 13, 257, 2415, 5055, 287, 257, 12436, 1306, 284, 257, 7837, 37995, 13, 257, 9396, 286, 8234, 319, 257, 3084, 287, 257, 2119, 13, 257, 2415, 5055, 287, 257, 9592, 1306, 284, 257, 3753, 13, 257, 2119, 351, 257, 6915, 290, 5986, 319, 262, 3355, 13, 281, 16965, 1570, 286, 257, 2877, 2119, 290, 9592, 13, 257, 3644, 5671, 5586, 319, 1353, 286, 257, 6915, 13, 257, 14043, 351, 257, 3996, 11, 6915, 11, 290, 5118, 13, 257, 1402, 2119, 351, 257, 2266, 290, 2330, 11705, 13, 257, 3644, 6915, 351, 257, 5671, 11, 10586, 290, 10211, 13, 257, 2415, 5055, 287, 257, 9592, 1306, 284, 257, 27635, 1353, 14361, 13, 257, 3644, 6915, 351, 257, 5118, 290, 257, 3644, 5671, 13, 257, 9396, 286, 8234, 319, 257, 3084, 287, 257, 2877, 2119, 13, 257, 2415, 5055, 287, 257, 2119, 351, 257, 2266, 20710, 13, 257, 2415, 5055, 287, 2166, 286, 257, 3084, 351, 13375, 286, 2057, 319, 340, 13, 257, 3644, 5671, 5586, 319, 1353, 286, 257, 6915, 13, 257, 2415, 5055, 287, 2166, 286, 257, 3084, 351, 13375, 319, 340, 13, 257, 2877, 2119, 351, 257, 2330, 18507, 290, 257, 2042, 3084, 13, 257, 2877, 2119, 351, 257, 18507, 257, 3084, 290, 257, 5118, 13, 257, 3644, 5118, 5586, 287, 257, 2119, 1306, 284, 257, 1492, 18316, 13, 257, 9592, 351, 257, 14595, 290, 257, 27000, 13, 257, 12436, 351, 257, 14595, 290, 257, 10162, 13, 257, 2119, 351, 257, 3084, 11, 18791, 290, 5986, 319, 262, 3355, 13, 257, 2877, 2119, 5901, 351, 13091, 290, 257, 10162, 13, 257, 2119, 351, 257, 6915, 290, 5986, 319, 262, 3355, 13, 257, 1048, 5055, 287, 257, 2119, 351, 257, 2266, 290, 2330, 3084, 13, 257, 9592, 351, 257, 14595, 290, 257, 27000, 13, 257, 2119, 351, 257, 3084, 290, 257, 5118, 290, 257, 16146, 13, 257, 582, 287, 257, 4171, 6050, 5055, 287, 257, 14043, 13, 257, 2119, 351, 257, 6915, 290, 257, 5118, 287, 340, 13, 257, 2119, 351, 257, 3084, 290, 257, 5581, 13, 257, 2415, 5055, 287, 257, 9592, 1306, 284, 257, 3084, 13, 257, 582, 287, 257, 4171, 6050, 5055, 287, 257, 2119, 13, 257, 2877, 2119, 351, 257, 2330, 18507, 290, 257, 12036, 319, 262, 3355, 13, 257, 2042, 290, 2330, 4590, 286, 257, 6915, 351, 257, 3644, 13, 257, 9592, 351, 257, 30500, 290, 257, 27635, 13, 257, 1048, 5055, 287, 257, 2119, 351, 257, 13224, 13, 257, 3644, 5671, 5586, 319, 1353, 286, 257, 2266, 6915, 13, 257, 2119, 351, 257, 5118, 290, 5986, 319, 262, 3355, 13, 257, 3644, 6915, 351, 257, 13224, 319, 1353, 286, 340, 13, 257, 2877, 2119, 351, 257, 2330, 18507, 290, 257, 3084, 351, 257, 9396, 286, 8234, 319, 340, 13, 257, 2877, 2119, 351, 257, 2330, 18507, 290, 257, 2042, 3084, 13, 281, 16965, 1570, 286, 257, 2877, 2119, 351, 5986, 319, 262, 3355, 13, 257, 9592, 351, 257, 14595, 290, 257, 27000, 13, 257, 582, 287, 257, 4171, 6050, 5055, 287, 2166, 286, 257, 10162, 13, 257, 2415, 5055, 287, 257, 2119, 351, 257, 2266, 14477, 13, 257, 9592, 351, 257, 2266, 30500, 290, 257, 2266, 13913, 460, 13, 257, 2415, 287, 257, 6877, 5055, 287, 2166, 286, 257, 3084, 13, 257, 2415, 5055, 287, 257, 9592, 1306, 284, 257, 3753, 13, 257, 3644, 6915, 351, 257, 5118, 290, 257, 3644, 5671, 13, 257, 2042, 290, 2330, 2877, 2119, 351, 257, 18507, 290, 6891, 3084, 13, 257, 2330, 256, 3902, 12436, 351, 257, 7837, 37995, 290, 14595, 13, 257, 14595, 351, 257, 9396, 286, 23972, 319, 1353, 286, 340, 13, 257, 582, 5055, 287, 257, 2877, 2119, 1306, 284, 257, 2330, 18507, 13, 257, 2042, 290, 2330, 12436, 351, 257, 2330, 16146, 13, 257, 4286, 286, 257, 2119, 351, 257, 4286, 319, 262, 3355, 13, 257, 2330, 256, 3902, 12436, 351, 257, 16146, 290, 14643, 13, 257, 1570, 286, 257, 2877, 2119, 422, 2029, 13, 257, 2415, 5055, 287, 257, 32439, 286, 257, 2119, 13, 257, 3644, 6915, 351, 257, 10586, 290, 10211, 13, 257, 12436, 351, 257, 2042, 14477, 287, 262, 3504, 286, 262, 4314, 13, 257, 2415, 287, 257, 4077, 1353, 318, 5055, 287, 257, 2119, 13, 257, 9396, 286, 8234, 318, 5586, 319, 257, 6891, 3084, 13, 257, 2042, 290, 2330, 4590, 286, 257, 6915, 351, 257, 3644, 13, 257, 2415, 5055, 287, 257, 2877, 2119, 1306, 284, 1194, 2415, 13, 257, 14043, 351, 257, 3996, 11, 6576, 263, 11, 290, 21615, 13, 257, 2415, 5055, 287, 257, 9592, 1306, 284, 257, 3084, 13, 257, 8801, 319, 262, 3355, 286, 257, 12436, 13, 281, 17789, 1570, 286, 257, 14043, 351, 257, 3996, 290, 257, 6915, 13, 257, 2877, 2119, 5901, 351, 13091, 290, 257, 12036, 319, 262, 3355, 13, 257, 2415, 287, 257, 4077, 10147, 290, 2042, 23967, 13, 257, 3644, 7560, 2939, 286, 257, 2415, 287, 257, 9592, 13, 257, 582, 5055, 287, 257, 2119, 351, 257, 1588, 3881, 13, 257, 9396, 286, 8234, 319, 257, 3084, 287, 257, 2119, 13, 257, 582, 5055, 287, 257, 2119, 1306, 284, 5986, 319, 262, 3355, 13, 281, 17789, 1570, 286, 257, 12436, 351, 257, 16146, 290, 257, 14595, 13, 257, 2415, 287, 257, 4077, 1353, 318, 5055, 287, 257, 9592, 13, 257, 2415, 5055, 287, 257, 12436, 1306, 284, 257, 14595, 13, 257, 2415, 287, 281, 10912, 10147, 290, 257, 2042, 6877, 13, 257, 582, 5055, 287, 257, 2877, 2119, 1306, 284, 257, 2330, 18507, 13, 257, 2119, 351, 257, 3996, 11, 6915, 11, 290, 257, 5118, 13, 257, 9592, 351, 257, 14595, 290, 257, 27000, 13, 257, 2877, 2119, 351, 257, 2330, 18507, 290, 257, 12036, 319, 262, 3355, 13, 257, 582, 5055, 287, 257, 2119, 351, 257, 2266, 14477, 13, 257, 3644, 5671, 5586, 319, 1353, 286, 257, 2266, 6915, 13, 257, 582, 287, 257, 4171, 6050, 5055, 287, 257, 2119, 13, 257, 2415, 287, 257, 4077, 1353, 318, 5055, 287, 257, 2119, 13, 257, 9592, 351, 257, 27635, 11, 27000, 11, 284, 1603, 290, 6891, 16009, 13, 257, 2119, 351, 257, 1492, 18316, 290, 257, 13447, 13, 257, 12436, 351, 257, 14595, 11, 10162, 290, 16146, 13, 257, 2877, 2119, 351, 257, 2330, 18507, 290, 257, 6891, 3084, 13, 257, 582, 287, 257, 6050, 5055, 287, 2166, 286, 257, 3996, 13, 257, 582, 287, 257, 6050, 290, 9839, 5055, 287, 257, 2119, 13, 257, 2415, 5055, 287, 257, 2119, 1306, 284, 257, 2266, 18316, 13, 257, 9396, 286, 8234, 319, 257, 3084, 287, 257, 2877, 2119, 13, 257, 2877, 2119, 351, 257, 2330, 18507, 290, 257, 3084, 351, 257, 9396, 286, 8234, 319, 340, 13, 257, 2877, 2119, 351, 257, 2330, 18507, 290, 257, 2042, 3084, 13, 257, 1048, 5055, 287, 257, 2119, 351, 257, 1492, 18316, 13, 257, 3644, 6915, 351, 257, 3644, 319, 1353, 286, 340, 13, 257, 2415, 21804, 1028, 257, 3355, 287, 257, 9592, 13, 257, 2415, 5055, 287, 257, 2119, 351, 257, 6877, 319, 13, 257, 14595, 351, 257, 9396, 286, 23972, 319, 1353, 286, 340, 13, 257, 9592, 351, 257, 14595, 11, 27635, 11, 3753, 11, 290, 5986, 319, 262, 3355, 13, 257, 2415, 5055, 287, 257, 2119, 1306, 284, 257, 582, 13, 257, 582, 287, 257, 4171, 6050, 5055, 287, 257, 2119, 13, 257, 2877, 2119, 351, 257, 2330, 18507, 290, 257, 3084, 351, 257, 9396, 286, 8234, 319, 340, 13, 257, 2119, 351, 257, 6915, 290, 5986, 319, 262, 3355, 13, 257, 3996, 2119, 351, 257, 29776, 925, 3996, 290, 257, 10162, 13, 257, 2119, 351, 257, 7684, 286, 9053, 12821, 10938, 319, 262, 3355, 13, 257, 12436, 351, 257, 14595, 290, 257, 10162, 13, 257, 3644, 6915, 351, 257, 5671, 11, 10586, 290, 10211, 13, 257, 9592, 351, 257, 27635, 1353, 14361, 1306, 284, 257, 14595, 13, 257, 2415, 287, 281, 10912, 1353, 5055, 287, 257, 2119, 13, 257, 582, 5055, 287, 257, 2877, 2119, 1306, 284, 257, 2330, 18507, 13, 257, 9396, 286, 8234, 319, 257, 3084, 287, 257, 2119, 13, 257, 2415, 5055, 287, 257, 9592, 1306, 284, 257, 14595, 13, 257, 3644, 6915, 351, 257, 5671, 11, 10586, 290, 10211, 13, 257, 9592, 351, 257, 27635, 11, 27000, 11, 284, 1603, 290, 6891, 16009, 13, 257, 582, 5055, 287, 257, 2877, 2119, 1306, 284, 257, 18507, 13, 257, 3644, 6915, 351, 257, 13224, 319, 1353, 286, 340, 13, 257, 3084, 351, 257, 2266, 3084, 17490, 287, 257, 2119, 13, 257, 2266, 30500, 30967, 5586, 1306, 284, 257, 14595, 13, 257, 2877, 2119, 351, 257, 18507, 257, 3084, 290, 257, 5118, 13, 257, 2415, 287, 257, 2266, 290, 2042, 6576, 5055, 287, 257, 12436, 13, 257, 2415, 5055, 287, 257, 9592, 1306, 284, 257, 3084, 13, 257, 2415, 5055, 287, 257, 9592, 1306, 284, 257, 3753, 13, 257, 582, 5055, 287, 2166, 286, 257, 3644, 5671, 13, 257, 3644, 5671, 5586, 319, 1353, 286, 257, 2266, 3084, 13, 257, 2119, 351, 257, 373, 372, 11, 5894, 263, 290, 5986, 319, 262, 3355, 13, 257, 14595, 351, 257, 9396, 286, 23972, 319, 1353, 286, 340, 13, 257, 9396, 286, 8234, 319, 257, 3084, 287, 257, 2877, 2119, 13, 257, 582, 287, 257, 4171, 6050, 5055, 287, 257, 2119, 13, 257, 2877, 2119, 351, 257, 2330, 18507, 290, 257, 5581, 13, 257, 4314, 1410, 286, 257, 734, 14043, 7962, 13, 257, 12436, 351, 257, 16146, 290, 257, 2042, 3355, 13, 257, 12436, 351, 257, 14595, 11, 16146, 290, 10162, 13, 257, 12436, 351, 257, 14643, 290, 257, 14595, 13, 257, 582, 287, 257, 4171, 6050, 5055, 287, 257, 2119, 13, 257, 2877, 2119, 351, 257, 18507, 290, 257, 3084, 13, 257, 12436, 351, 257, 16146, 290, 257, 373, 372, 13, 257, 582, 5055, 287, 257, 2877, 2119, 1306, 284, 257, 18507, 13, 257, 845, 3660, 2045, 9592, 351, 257, 2266, 1657, 10938, 422, 262, 13387, 13, 257, 2415, 5055, 287, 257, 9592, 1306, 284, 257, 2266, 30500, 13, 257, 2877, 2119, 351, 257, 2330, 18507, 290, 257, 12036, 319, 262, 3355, 13, 257, 2877, 2119, 351, 257, 18507, 290, 257, 3084, 13, 257, 14595, 351, 257, 9396, 286, 23972, 319, 1353, 286, 340, 13, 257, 582, 287, 257, 6050, 5055, 287, 257, 2119, 13, 257, 2119, 351, 257, 3996, 11, 6915, 11, 290, 20726, 13, 257, 582, 5055, 287, 2166, 286, 257, 18507, 287, 257, 2877, 2119, 13, 257, 2415, 5055, 287, 257, 9592, 1306, 284, 257, 3084, 13, 257, 2415, 5055, 287, 257, 2119, 1306, 284, 257, 3084, 13, 257, 1048, 5586, 379, 257, 3084, 287, 257, 2119, 13, 257, 2119, 351, 257, 2266, 7624, 290, 257, 2330, 3355, 13, 257, 2877, 2119, 351, 257, 18507, 290, 257, 3084, 13, 257, 2877, 2119, 351, 257, 2330, 18507, 290, 257, 3084, 351, 257, 9396, 286, 8234, 319, 340, 13, 257, 2119, 351, 257, 6915, 290, 5986, 319, 262, 3355, 13, 257, 3644, 6915, 351, 257, 5671, 11, 10586, 290, 10211, 13, 257, 582, 5055, 287, 257, 2877, 2119, 1306, 284, 257, 18507, 13, 257, 2119, 351, 257, 5118, 290, 257, 1492, 18316, 13, 257, 9396, 286, 8234, 319, 257, 3084, 287, 257, 2877, 2119, 13, 257, 582, 5055, 287, 257, 2877, 2119, 1306, 284, 257, 18507, 13, 257, 582, 5055, 287, 257, 2877, 2119, 1306, 284, 257, 3084, 13, 257, 582, 5055, 287, 257, 2877, 2119, 1306, 284, 257, 18507, 13, 257, 2415, 5055, 287, 257, 2119, 1306, 284, 257, 3084, 13, 257, 1048, 5055, 287, 257, 2119, 351, 20726, 13, 257, 582, 287, 257, 4171, 6050, 5055, 287, 257, 2119, 13, 257, 2415, 5055, 287, 257, 9592, 1306, 284, 257, 3753, 13, 257, 2119, 351, 257, 3996, 290, 5986, 319, 262, 3355, 13, 257, 2415, 5055, 287, 2166, 286, 257, 3084, 351, 13375, 319, 340, 13, 257, 2330, 18507, 5586, 287, 257, 2877, 2119, 1306, 284, 257, 1492, 18316, 13, 257, 8801, 12623, 284, 262, 1735, 286, 257, 3355, 13, 257, 9396, 286, 8234, 319, 257, 3084, 287, 257, 2119, 13, 257, 2119, 351, 257, 3996, 11, 257, 6915, 11, 290, 257, 3644, 5671, 13, 257, 3644, 7560, 2939, 286, 257, 2119, 351, 257, 10162, 13, 257, 3155, 286, 1466, 5055, 287, 257, 9592, 1306, 284, 257, 3084, 13, 257, 2877, 2119, 351, 257, 18507, 290, 257, 3084, 13, 257, 2119, 351, 257, 18507, 11, 3084, 11, 290, 5581, 287, 340, 13, 257, 582, 318, 5055, 287, 262, 32439, 286, 257, 2119, 13, 257, 2119, 351, 257, 5118, 290, 5986, 319, 262, 3355, 13, 257, 582, 5055, 287, 2166, 286, 257, 1492, 18316, 13, 257, 582, 5055, 287, 257, 2877, 2119, 1306, 284, 257, 18507, 13, 220]\n",
            "x: [5581, 13, 257, 2877]\n",
            "y:      [13, 257, 2877, 2119]\n",
            "Token Id Context: [5581], \"---->\", Desired Id: 13\n",
            "Token Id Context: [5581, 13], \"---->\", Desired Id: 257\n",
            "Token Id Context: [5581, 13, 257], \"---->\", Desired Id: 2877\n",
            "Token Id Context: [5581, 13, 257, 2877], \"---->\", Desired Id: 2119\n"
          ]
        }
      ]
    },
    {
      "cell_type": "code",
      "source": [
        "for i in range(1, context_size+1):\n",
        "    context = enc_sample[:i]\n",
        "    desired = enc_sample[i]\n",
        "\n",
        "    print(f\"\"\"Context: {tokenizer.decode(context)}, \"---->\", Desired: {tokenizer.decode([desired])}\"\"\")"
      ],
      "metadata": {
        "colab": {
          "base_uri": "https://localhost:8080/"
        },
        "id": "7_qQaGpVcfji",
        "outputId": "46600929-f1d1-4c9f-a23b-c1f52e600de4"
      },
      "execution_count": 54,
      "outputs": [
        {
          "output_type": "stream",
          "name": "stdout",
          "text": [
            "Context:  television, \"---->\", Desired: .\n",
            "Context:  television., \"---->\", Desired:  a\n",
            "Context:  television. a, \"---->\", Desired:  living\n",
            "Context:  television. a living, \"---->\", Desired:  room\n"
          ]
        }
      ]
    },
    {
      "cell_type": "markdown",
      "source": [
        "#### Create dataset and dataloader to extract chunks from the input text dataset\n"
      ],
      "metadata": {
        "id": "9oYc1h1ndU4M"
      }
    },
    {
      "cell_type": "code",
      "source": [
        "import torch\n",
        "from torch.utils.data import Dataset, DataLoader\n",
        "\n",
        "\n",
        "class GPTDatasetV1(Dataset):\n",
        "    def __init__(self, txt, tokenizer, max_length, stride):\n",
        "        self.input_ids = []\n",
        "        self.target_ids = []\n",
        "\n",
        "        # Tokenize the entire text\n",
        "        token_ids = tokenizer.encode(txt, allowed_special={\"<|endoftext|>\"})\n",
        "\n",
        "        # Use a sliding window to chunk the book into overlapping sequences of max_length\n",
        "        for i in range(0, len(token_ids) - max_length, stride):\n",
        "            input_chunk = token_ids[i:i + max_length]\n",
        "            target_chunk = token_ids[i + 1: i + max_length + 1]\n",
        "            self.input_ids.append(torch.tensor(input_chunk))\n",
        "            self.target_ids.append(torch.tensor(target_chunk))\n",
        "\n",
        "    def __len__(self):\n",
        "        return len(self.input_ids)\n",
        "\n",
        "    def __getitem__(self, idx):\n",
        "        return self.input_ids[idx], self.target_ids[idx]\n",
        "\n",
        "def create_dataloader_v1(txt, batch_size=4, max_length=256,\n",
        "                         stride=128, shuffle=True, drop_last=True,\n",
        "                         num_workers=0):\n",
        "\n",
        "    # Initialize the tokenizer\n",
        "    tokenizer = tiktoken.get_encoding(\"gpt2\")\n",
        "\n",
        "    # Create dataset\n",
        "    dataset = GPTDatasetV1(txt, tokenizer, max_length, stride)\n",
        "\n",
        "    # Create dataloader\n",
        "    dataloader = DataLoader(\n",
        "        dataset,\n",
        "        batch_size=batch_size,\n",
        "        shuffle=shuffle,\n",
        "        drop_last=drop_last,\n",
        "        num_workers=num_workers\n",
        "    )\n",
        "\n",
        "    return dataloader"
      ],
      "metadata": {
        "id": "mSkL6LfMSIGP"
      },
      "execution_count": 21,
      "outputs": []
    },
    {
      "cell_type": "markdown",
      "source": [
        "Test dataloader with a batch size of 1 for an LLM with a context size of 4..."
      ],
      "metadata": {
        "id": "ihkR2of5n84J"
      }
    },
    {
      "cell_type": "code",
      "source": [
        "dataloader = create_dataloader_v1(\n",
        "    captions_text, batch_size=1, max_length=4, stride=1, shuffle=False\n",
        ")\n",
        "\n",
        "data_iter = iter(dataloader)\n",
        "first_batch = next(data_iter)\n",
        "print(first_batch)"
      ],
      "metadata": {
        "colab": {
          "base_uri": "https://localhost:8080/"
        },
        "id": "rbceMWamSH60",
        "outputId": "7d345277-6308-4227-90f1-d04e269dc44d"
      },
      "execution_count": 22,
      "outputs": [
        {
          "output_type": "stream",
          "name": "stdout",
          "text": [
            "[tensor([[   64,  2266, 30500, 30967]]), tensor([[ 2266, 30500, 30967,  5586]])]\n"
          ]
        }
      ]
    },
    {
      "cell_type": "code",
      "source": [
        "dataloader = create_dataloader_v1(captions_text, batch_size=8, max_length=4, stride=4, shuffle=False)\n",
        "\n",
        "data_iter = iter(dataloader)\n",
        "inputs, targets = next(data_iter)\n",
        "print(\"Inputs:\\n\", inputs)\n",
        "print(\"\\nTargets:\\n\", targets)"
      ],
      "metadata": {
        "colab": {
          "base_uri": "https://localhost:8080/"
        },
        "id": "KMvYzQAiS4fV",
        "outputId": "a58730f5-65a1-48f6-dacd-620414791255"
      },
      "execution_count": 23,
      "outputs": [
        {
          "output_type": "stream",
          "name": "stdout",
          "text": [
            "Inputs:\n",
            " tensor([[   64,  2266, 30500, 30967],\n",
            "        [ 5586,  1306,   284,   257],\n",
            "        [14595,    13,   257,  2415],\n",
            "        [ 5055,  1306,   284,   257],\n",
            "        [ 3084,   351,   257,  2508],\n",
            "        [  319,   340,    13,   257],\n",
            "        [12436,   351,   257, 14595],\n",
            "        [  290,   257, 16146,    13]])\n",
            "\n",
            "Targets:\n",
            " tensor([[ 2266, 30500, 30967,  5586],\n",
            "        [ 1306,   284,   257, 14595],\n",
            "        [   13,   257,  2415,  5055],\n",
            "        [ 1306,   284,   257,  3084],\n",
            "        [  351,   257,  2508,   319],\n",
            "        [  340,    13,   257, 12436],\n",
            "        [  351,   257, 14595,   290],\n",
            "        [  257, 16146,    13,   257]])\n"
          ]
        }
      ]
    },
    {
      "cell_type": "markdown",
      "source": [
        "BytePair encoder has a vocabulary size of 50,257.\n",
        "If we sample data from the dataloader, we embed the tokens in each batch into a 256-dimensional vector"
      ],
      "metadata": {
        "id": "1e28HDsDoQPU"
      }
    },
    {
      "cell_type": "code",
      "source": [
        "vocab_size = 50257\n",
        "output_dim = 256\n",
        "\n",
        "token_embedding_layer = torch.nn.Embedding(vocab_size, output_dim)\n",
        "max_length = 4\n",
        "dataloader = create_dataloader_v1(\n",
        "    captions_text, batch_size=8, max_length=max_length,\n",
        "    stride=max_length, shuffle=False\n",
        ")\n",
        "data_iter = iter(dataloader)\n",
        "inputs, targets = next(data_iter)"
      ],
      "metadata": {
        "id": "jRbp_yBCS6yV"
      },
      "execution_count": 24,
      "outputs": []
    },
    {
      "cell_type": "code",
      "source": [
        "print(\"Token IDs:\\n\", inputs)\n",
        "print(\"\\nInputs shape:\\n\", inputs.shape)"
      ],
      "metadata": {
        "colab": {
          "base_uri": "https://localhost:8080/"
        },
        "id": "bdUVsdfXTNDl",
        "outputId": "28d4d5be-adb8-485d-be99-7f3f41ec0c53"
      },
      "execution_count": 25,
      "outputs": [
        {
          "output_type": "stream",
          "name": "stdout",
          "text": [
            "Token IDs:\n",
            " tensor([[   64,  2266, 30500, 30967],\n",
            "        [ 5586,  1306,   284,   257],\n",
            "        [14595,    13,   257,  2415],\n",
            "        [ 5055,  1306,   284,   257],\n",
            "        [ 3084,   351,   257,  2508],\n",
            "        [  319,   340,    13,   257],\n",
            "        [12436,   351,   257, 14595],\n",
            "        [  290,   257, 16146,    13]])\n",
            "\n",
            "Inputs shape:\n",
            " torch.Size([8, 4])\n"
          ]
        }
      ]
    },
    {
      "cell_type": "code",
      "source": [
        "token_embeddings = token_embedding_layer(inputs)\n",
        "print(token_embeddings.shape)"
      ],
      "metadata": {
        "colab": {
          "base_uri": "https://localhost:8080/"
        },
        "id": "73lb3oIsTNPj",
        "outputId": "039beba5-abb1-47c3-9d6b-49dadb532a1e"
      },
      "execution_count": 26,
      "outputs": [
        {
          "output_type": "stream",
          "name": "stdout",
          "text": [
            "torch.Size([8, 4, 256])\n"
          ]
        }
      ]
    },
    {
      "cell_type": "markdown",
      "source": [
        "This results in a 8 x 4 x 256 tensor since we have a batch size of 8 with 4 tokens\n"
      ],
      "metadata": {
        "id": "86qr56CqoxP4"
      }
    },
    {
      "cell_type": "code",
      "source": [
        "context_length = max_length\n",
        "pos_embedding_layer = torch.nn.Embedding(context_length, output_dim)"
      ],
      "metadata": {
        "id": "qcjPRajTTNeA"
      },
      "execution_count": 27,
      "outputs": []
    },
    {
      "cell_type": "markdown",
      "source": [
        "GPT-2 uses absolute position embeddings, so we just create another embedding layer...\n"
      ],
      "metadata": {
        "id": "LYnoW8i0pJWt"
      }
    },
    {
      "cell_type": "code",
      "source": [
        "pos_embeddings = pos_embedding_layer(torch.arange(max_length))\n",
        "print(pos_embeddings.shape)"
      ],
      "metadata": {
        "colab": {
          "base_uri": "https://localhost:8080/"
        },
        "id": "Jm2fSgTNTSlx",
        "outputId": "ed30b11a-f362-4365-a1ce-f46416e4c1d6"
      },
      "execution_count": 28,
      "outputs": [
        {
          "output_type": "stream",
          "name": "stdout",
          "text": [
            "torch.Size([4, 256])\n"
          ]
        }
      ]
    },
    {
      "cell_type": "markdown",
      "source": [
        "To create the input embeddings used in an LLM, add the token and the positional embeddings..."
      ],
      "metadata": {
        "id": "2w090q4RpUKC"
      }
    },
    {
      "cell_type": "code",
      "source": [
        "input_embeddings = token_embeddings + pos_embeddings\n",
        "print(input_embeddings.shape)"
      ],
      "metadata": {
        "colab": {
          "base_uri": "https://localhost:8080/"
        },
        "id": "ZijiAa_2TSwO",
        "outputId": "eafefd0f-232b-4a4d-cd24-5df0d8a9893d"
      },
      "execution_count": 29,
      "outputs": [
        {
          "output_type": "stream",
          "name": "stdout",
          "text": [
            "torch.Size([8, 4, 256])\n"
          ]
        }
      ]
    },
    {
      "cell_type": "code",
      "source": [
        "import tiktoken\n",
        "import torch\n",
        "from torch.utils.data import Dataset, DataLoader\n",
        "\n",
        "\n",
        "class GPTDatasetV1(Dataset):\n",
        "    def __init__(self, txt, tokenizer, max_length, stride):\n",
        "        self.input_ids = []\n",
        "        self.target_ids = []\n",
        "\n",
        "        # Tokenize the entire text\n",
        "        token_ids = tokenizer.encode(txt, allowed_special={\"<|endoftext|>\"})\n",
        "\n",
        "        # Use a sliding window to chunk the book into overlapping sequences of max_length\n",
        "        for i in range(0, len(token_ids) - max_length, stride):\n",
        "            input_chunk = token_ids[i:i + max_length]\n",
        "            target_chunk = token_ids[i + 1: i + max_length + 1]\n",
        "            self.input_ids.append(torch.tensor(input_chunk))\n",
        "            self.target_ids.append(torch.tensor(target_chunk))\n",
        "\n",
        "    def __len__(self):\n",
        "        return len(self.input_ids)\n",
        "\n",
        "    def __getitem__(self, idx):\n",
        "        return self.input_ids[idx], self.target_ids[idx]\n",
        "\n",
        "\n",
        "def create_dataloader_v1(txt, batch_size=4, max_length=256,\n",
        "                         stride=128, shuffle=True, drop_last=True, num_workers=0):\n",
        "    # Initialize the tokenizer\n",
        "    tokenizer = tiktoken.get_encoding(\"gpt2\")\n",
        "\n",
        "    # Create dataset\n",
        "    dataset = GPTDatasetV1(txt, tokenizer, max_length, stride)\n",
        "\n",
        "    # Create dataloader\n",
        "    dataloader = DataLoader(\n",
        "        dataset, batch_size=batch_size, shuffle=shuffle, drop_last=drop_last, num_workers=num_workers)\n",
        "\n",
        "    return dataloader\n",
        "\n",
        "tokenizer = tiktoken.get_encoding(\"gpt2\")\n",
        "encoded_text = tokenizer.encode(captions_text)\n",
        "\n",
        "vocab_size = 50257\n",
        "output_dim = 256\n",
        "context_length = 1024\n",
        "\n",
        "\n",
        "token_embedding_layer = torch.nn.Embedding(vocab_size, output_dim)\n",
        "pos_embedding_layer = torch.nn.Embedding(context_length, output_dim)\n",
        "\n",
        "max_length = 4\n",
        "dataloader = create_dataloader_v1(captions_text, batch_size=8, max_length=max_length, stride=max_length)"
      ],
      "metadata": {
        "id": "hRlFlVjTtTra"
      },
      "execution_count": 30,
      "outputs": []
    },
    {
      "cell_type": "markdown",
      "source": [
        "Iterate and inspect input embeddings to sanity check..."
      ],
      "metadata": {
        "id": "qBMhje4Hp2eI"
      }
    },
    {
      "cell_type": "code",
      "source": [
        "for batch in dataloader:\n",
        "    x, y = batch\n",
        "\n",
        "    token_embeddings = token_embedding_layer(x)\n",
        "    pos_embeddings = pos_embedding_layer(torch.arange(max_length))\n",
        "\n",
        "    input_embeddings = token_embeddings + pos_embeddings\n",
        "\n",
        "    break"
      ],
      "metadata": {
        "id": "qTwYUAM4yRTM"
      },
      "execution_count": 31,
      "outputs": []
    }
  ]
}